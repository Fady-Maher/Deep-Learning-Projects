{
 "cells": [
  {
   "cell_type": "markdown",
   "metadata": {
    "_cell_guid": "b1076dfc-b9ad-4769-8c92-a6c4dae69d19",
    "_uuid": "8f2839f25d086af736a60e9eeb907d3b93b6e0e5",
    "execution": {
     "iopub.execute_input": "2022-02-12T20:35:14.665518Z",
     "iopub.status.busy": "2022-02-12T20:35:14.665339Z",
     "iopub.status.idle": "2022-02-12T20:35:21.89602Z",
     "shell.execute_reply": "2022-02-12T20:35:21.895249Z",
     "shell.execute_reply.started": "2022-02-12T20:35:14.665496Z"
    }
   },
   "source": [
    "# Project: The General Model Project\n",
    "\n",
    "## Table of Contents\n",
    "\n",
    "- <a href='#dataset'>1. Data Set Description</a> \n",
    "- <a href=\"#wrangling\">2. Data Wrangling</a>\n",
    "    - <a href='#wranglingChest'>2.1. Dataset Of Chest_radiographs?</a>\n",
    "    - <a href='#wranglingBrain'>2.2. Dataset Of Brain Tumor?</a>\n",
    "    - <a href='#wranglingHeart'>2.3. Dataset Of Heart Rays?</a>\n",
    "    - <a href='#wranglingSkin'>2.4. Dataset Of Skin Cancer?</a>\n",
    "    - <a href='#wranglingRetinal'>2.4. Dataset Of Retinal OCT?</a>\n",
    "    - <a href='#wranglingCoco'>2.5. Dataset Of Coco Dataset?</a>\n",
    "- <a href='#info'>4.1. Show Information Of DataSet</a>\n",
    "- <a href=\"#eda\">3. Exploratory Data Analysis</a>\n",
    "- <a href='#pre'>4. Preprocessing DataSet</a>\n",
    "    - <a href='#save'>4.2. Save DataSet After Preprocessing</a>\n",
    "- <a href='#cnn'>5. CNN Model</a>\n",
    "    - <a href='#aug'>5.1. Data Augmentation</a>\n",
    "        - <a href='#apply'>5.1.1. Apply</a>\n",
    "        - <a href='#demo'>5.1.2. Demo</a>\n",
    "    - <a href='#build'>5.2. Model Building</a>\n",
    "        - <a href='#scrath'>5.2.1. Model from Scratch </a>\n",
    "             - <a href='#scrathf'>5.2.1.1. Model from Simple Scratch</a>\n",
    "        - <a href='#VGG16'>5.2.2. Model VGG16</a>\n",
    "            - <a href='#trainVGG16'>5.2.2.1. Model VGG16 ( trainable  )</a>\n",
    "            - <a href='#freezeVGG16'>5.2.2.2. Model VGG16 ( false trainalbe ) </a>\n",
    "        - <a href='#ResNet152V2'>5.2.3. Model ResNet152V2</a>\n",
    "            - <a href='#trainResNet152V2'>5.2.3.1. Model ResNet152V2 ( trainable  )</a>\n",
    "            - <a href='#freezeResNet152V2'>5.2.3.2. Model ResNet152V2 ( false trainalbe )</a>\n",
    "        - <a href='#Xception'>5.2.4. Model Xception</a>\n",
    "            - <a href='#aXception'>5.2.4.1. Model Xception  ( trainable  )</a>\n",
    "            - <a href='#bXception'>5.2.4.2. Model Xception ( false trainalbe )</a>\n",
    "        - <a href='#MobileNet'>5.2.5. Model MobileNet</a>\n",
    "            - <a href='#trainMobileNet'>5.2.5.1. Model MobileNet  ( trainable  )</a>\n",
    "            - <a href='#freezeMobileNet'>5.2.5.2. Model MobileNet ( false trainalbe )</a>\n",
    "        - <a href='#InceptionV3'>5.2.6. Model InceptionV3</a>\n",
    "            - <a href='#trainInceptionV3'>5.2.6.1. Model InceptionV3</a>\n",
    "            - <a href='#freezeInceptionV3'>5.2.6.2. Model InceptionV3 ( false trainalbe )</a>\n",
    "    - <a href='#perf'>5.3. Model Performance</a>\n",
    "    - <a href='#tensor'>5.4. Convert Model Keras To TensorFlow</a>\n",
    "- <a href='#concl'>. Conclusions</a>"
   ]
  },
  {
   "cell_type": "markdown",
   "metadata": {},
   "source": [
    "<a id='dataset'></a>\n",
    "## Data Set Description"
   ]
  },
  {
   "cell_type": "markdown",
   "metadata": {},
   "source": [
    "Heartbeat images:\n",
    "A group of pictures used to describe heart disease\n",
    "https://www.kaggle.com/datasets/gogogogo123/heartbeats.\n",
    "\n",
    "Chest x-ray images:\n",
    "A set of pictures used to describe chest diseases\n",
    "https://www.kaggle.com/datasets/tawsifurrahman/covid19-radiography-database.\n",
    "https://www.kaggle.com/datasets/paultimothymooney/chest-xray-pneumonia.\n",
    "\n",
    "Brain tumor images:\n",
    "A group of pictures used to describe brain tumor diseases\n",
    "https://www.kaggle.com/datasets/sartajbhuvaji/brain-tumor-classification-mri.\n",
    "\n",
    "Skin cancer images:\n",
    "A group of images used to describe skin cancer diseases\n",
    "https://www.kaggle.com/datasets/kmader/skin-cancer-mnist-ham10000.\n",
    "\n",
    "Retinal OCT Diseases images:\n",
    "A set of images used to describe retinal oct diseases\n",
    "https://www.kaggle.com/datasets/paultimothymooney/kermany2018.\n",
    "\n",
    "COCO images:\n",
    "A set of pictures that do not contain any of these diseases, it includes 80 different objects, as the image dataset was created with the goal of advancing image recognition. \n",
    "https://www.kaggle.com/datasets/awsaf49/coco-2017-dataset.\n"
   ]
  },
  {
   "cell_type": "markdown",
   "metadata": {},
   "source": [
    "# Importing libraries"
   ]
  },
  {
   "cell_type": "code",
   "execution_count": 1,
   "metadata": {
    "execution": {
     "iopub.execute_input": "2022-06-01T18:23:11.021006Z",
     "iopub.status.busy": "2022-06-01T18:23:11.020632Z",
     "iopub.status.idle": "2022-06-01T18:23:16.872882Z",
     "shell.execute_reply": "2022-06-01T18:23:16.872075Z",
     "shell.execute_reply.started": "2022-06-01T18:23:11.020931Z"
    }
   },
   "outputs": [],
   "source": [
    "from keras.layers import Conv2D, MaxPooling2D , Activation, Dropout, BatchNormalization, Flatten, Dense,AveragePooling2D\n",
    "from sklearn.metrics import confusion_matrix,precision_score,recall_score,classification_report\n",
    "from keras.preprocessing.image import ImageDataGenerator,load_img, img_to_array\n",
    "from keras.callbacks import ModelCheckpoint ,ReduceLROnPlateau ,EarlyStopping\n",
    "from keras.applications.vgg16 import VGG16, preprocess_input\n",
    "from tensorflow.keras.optimizers import Adam,RMSprop\n",
    "from sklearn.model_selection import train_test_split\n",
    "from tensorflow.keras.preprocessing import image\n",
    "from keras.models import Sequential, Model\n",
    "import matplotlib.pyplot as plt\n",
    "import tensorflow as tf\n",
    "from tqdm import tqdm\n",
    "import pandas as pd\n",
    "import numpy as np\n",
    "import seaborn \n",
    "import random\n",
    "import cv2\n",
    "import os"
   ]
  },
  {
   "cell_type": "markdown",
   "metadata": {},
   "source": [
    "<a id='wrangling'></a>\n",
    "## Data Wrangling\n",
    "\n",
    "### General Properties"
   ]
  },
  {
   "cell_type": "markdown",
   "metadata": {},
   "source": [
    "<a id='wranglingChest'></a>\n",
    "## Dataset Of Chest_radiographs"
   ]
  },
  {
   "cell_type": "code",
   "execution_count": 2,
   "metadata": {
    "execution": {
     "iopub.execute_input": "2022-06-01T18:23:16.875238Z",
     "iopub.status.busy": "2022-06-01T18:23:16.874594Z",
     "iopub.status.idle": "2022-06-01T18:23:16.882319Z",
     "shell.execute_reply": "2022-06-01T18:23:16.880816Z",
     "shell.execute_reply.started": "2022-06-01T18:23:16.875200Z"
    }
   },
   "outputs": [],
   "source": [
    "#we will extract covid and normal x ray from covid19-radiography-database \n",
    "path_covid = '../input/covid19-radiography-database/COVID-19_Radiography_Dataset/COVID/images'\n",
    "path_normal = '../input/covid19-radiography-database/COVID-19_Radiography_Dataset/Normal/images'\n",
    "path_lung_opacity = '../input/covid19-radiography-database/COVID-19_Radiography_Dataset/Lung_Opacity/images'\n",
    "\n",
    "#we will extract PNEUMONIA and normal x ray from chest-xray-pneumonia\n",
    "path_pneumonia = '../input/chest-xray-pneumonia/chest_xray'"
   ]
  },
  {
   "cell_type": "code",
   "execution_count": 3,
   "metadata": {
    "execution": {
     "iopub.execute_input": "2022-06-01T18:23:16.886212Z",
     "iopub.status.busy": "2022-06-01T18:23:16.885852Z",
     "iopub.status.idle": "2022-06-01T18:23:17.919588Z",
     "shell.execute_reply": "2022-06-01T18:23:17.918646Z",
     "shell.execute_reply.started": "2022-06-01T18:23:16.886182Z"
    }
   },
   "outputs": [
    {
     "name": "stderr",
     "output_type": "stream",
     "text": [
      "100%|██████████| 13116/13116 [00:00<00:00, 305243.40it/s]\n"
     ]
    }
   ],
   "source": [
    "random.seed(42)\n",
    "list_paths = []\n",
    "list_type_categories = []\n",
    "list_class_categories = []\n",
    "list_name_class = []\n",
    "\n",
    "filenames = os.listdir(path_covid) + random.sample(os.listdir(path_normal), 6000) + random.sample(os.listdir(path_lung_opacity),3500)\n",
    "\n",
    "for filename in tqdm(filenames):\n",
    "    list_class_categories.append(str(0))\n",
    "    list_type_categories.append('Chest X-RAY')\n",
    "    if 'COVID' in filename:\n",
    "        list_paths.append(os.path.join(path_covid, filename))\n",
    "        list_name_class.append('COVID')\n",
    "    elif 'Lung_Opacity' in filename:\n",
    "        list_paths.append(os.path.join(path_lung_opacity, filename))\n",
    "        list_name_class.append('Lung_Opacity')\n",
    "    else:\n",
    "        list_paths.append(os.path.join(path_normal, filename))\n",
    "        list_name_class.append('Normal')\n",
    "df_Chest = pd.DataFrame({'path': list_paths,'category': list_type_categories, 'class' : list_class_categories ,'Type Disease' : list_name_class})"
   ]
  },
  {
   "cell_type": "code",
   "execution_count": 4,
   "metadata": {
    "execution": {
     "iopub.execute_input": "2022-06-01T18:23:17.922563Z",
     "iopub.status.busy": "2022-06-01T18:23:17.922126Z",
     "iopub.status.idle": "2022-06-01T18:23:17.941754Z",
     "shell.execute_reply": "2022-06-01T18:23:17.941050Z",
     "shell.execute_reply.started": "2022-06-01T18:23:17.922520Z"
    }
   },
   "outputs": [
    {
     "data": {
      "text/html": [
       "<div>\n",
       "<style scoped>\n",
       "    .dataframe tbody tr th:only-of-type {\n",
       "        vertical-align: middle;\n",
       "    }\n",
       "\n",
       "    .dataframe tbody tr th {\n",
       "        vertical-align: top;\n",
       "    }\n",
       "\n",
       "    .dataframe thead th {\n",
       "        text-align: right;\n",
       "    }\n",
       "</style>\n",
       "<table border=\"1\" class=\"dataframe\">\n",
       "  <thead>\n",
       "    <tr style=\"text-align: right;\">\n",
       "      <th></th>\n",
       "      <th>path</th>\n",
       "      <th>category</th>\n",
       "      <th>class</th>\n",
       "      <th>Type Disease</th>\n",
       "    </tr>\n",
       "  </thead>\n",
       "  <tbody>\n",
       "    <tr>\n",
       "      <th>0</th>\n",
       "      <td>../input/covid19-radiography-database/COVID-19...</td>\n",
       "      <td>Chest X-RAY</td>\n",
       "      <td>0</td>\n",
       "      <td>COVID</td>\n",
       "    </tr>\n",
       "    <tr>\n",
       "      <th>1</th>\n",
       "      <td>../input/covid19-radiography-database/COVID-19...</td>\n",
       "      <td>Chest X-RAY</td>\n",
       "      <td>0</td>\n",
       "      <td>COVID</td>\n",
       "    </tr>\n",
       "    <tr>\n",
       "      <th>2</th>\n",
       "      <td>../input/covid19-radiography-database/COVID-19...</td>\n",
       "      <td>Chest X-RAY</td>\n",
       "      <td>0</td>\n",
       "      <td>COVID</td>\n",
       "    </tr>\n",
       "    <tr>\n",
       "      <th>3</th>\n",
       "      <td>../input/covid19-radiography-database/COVID-19...</td>\n",
       "      <td>Chest X-RAY</td>\n",
       "      <td>0</td>\n",
       "      <td>COVID</td>\n",
       "    </tr>\n",
       "    <tr>\n",
       "      <th>4</th>\n",
       "      <td>../input/covid19-radiography-database/COVID-19...</td>\n",
       "      <td>Chest X-RAY</td>\n",
       "      <td>0</td>\n",
       "      <td>COVID</td>\n",
       "    </tr>\n",
       "  </tbody>\n",
       "</table>\n",
       "</div>"
      ],
      "text/plain": [
       "                                                path     category class  \\\n",
       "0  ../input/covid19-radiography-database/COVID-19...  Chest X-RAY     0   \n",
       "1  ../input/covid19-radiography-database/COVID-19...  Chest X-RAY     0   \n",
       "2  ../input/covid19-radiography-database/COVID-19...  Chest X-RAY     0   \n",
       "3  ../input/covid19-radiography-database/COVID-19...  Chest X-RAY     0   \n",
       "4  ../input/covid19-radiography-database/COVID-19...  Chest X-RAY     0   \n",
       "\n",
       "  Type Disease  \n",
       "0        COVID  \n",
       "1        COVID  \n",
       "2        COVID  \n",
       "3        COVID  \n",
       "4        COVID  "
      ]
     },
     "execution_count": 4,
     "metadata": {},
     "output_type": "execute_result"
    }
   ],
   "source": [
    "df_Chest[:5]"
   ]
  },
  {
   "cell_type": "code",
   "execution_count": 5,
   "metadata": {
    "execution": {
     "iopub.execute_input": "2022-06-01T18:23:17.943416Z",
     "iopub.status.busy": "2022-06-01T18:23:17.943052Z",
     "iopub.status.idle": "2022-06-01T18:23:17.954134Z",
     "shell.execute_reply": "2022-06-01T18:23:17.953326Z",
     "shell.execute_reply.started": "2022-06-01T18:23:17.943378Z"
    }
   },
   "outputs": [
    {
     "data": {
      "text/plain": [
       "['../input/chest-xray-pneumonia/chest_xray/chest_xray',\n",
       " '../input/chest-xray-pneumonia/chest_xray/val',\n",
       " '../input/chest-xray-pneumonia/chest_xray/test',\n",
       " '../input/chest-xray-pneumonia/chest_xray/train']"
      ]
     },
     "execution_count": 5,
     "metadata": {},
     "output_type": "execute_result"
    }
   ],
   "source": [
    "#read data from path = '../input/chest-xray-pneumonia'\n",
    "list_path=[]\n",
    "for path in  os.listdir(path_pneumonia):\n",
    "    if path.find(\"_\"):\n",
    "        list_path.append(path_pneumonia+'/'+path)\n",
    "list_path"
   ]
  },
  {
   "cell_type": "code",
   "execution_count": 6,
   "metadata": {
    "execution": {
     "iopub.execute_input": "2022-06-01T18:23:17.956995Z",
     "iopub.status.busy": "2022-06-01T18:23:17.956527Z",
     "iopub.status.idle": "2022-06-01T18:23:17.975063Z",
     "shell.execute_reply": "2022-06-01T18:23:17.974402Z",
     "shell.execute_reply.started": "2022-06-01T18:23:17.956954Z"
    }
   },
   "outputs": [
    {
     "data": {
      "text/plain": [
       "['../input/chest-xray-pneumonia/chest_xray/val/PNEUMONIA',\n",
       " '../input/chest-xray-pneumonia/chest_xray/test/PNEUMONIA',\n",
       " '../input/chest-xray-pneumonia/chest_xray/train/PNEUMONIA']"
      ]
     },
     "execution_count": 6,
     "metadata": {},
     "output_type": "execute_result"
    }
   ],
   "source": [
    "list_path_files = []\n",
    "\n",
    "for i in range(1,len(list_path)):    \n",
    "    for path in  os.listdir(list_path[i]):\n",
    "        if path.find(\"NORMAL\"):\n",
    "            list_path_files.append(list_path[i]+'/'+path)\n",
    "            \n",
    "list_path_files"
   ]
  },
  {
   "cell_type": "code",
   "execution_count": 7,
   "metadata": {
    "execution": {
     "iopub.execute_input": "2022-06-01T18:23:17.976645Z",
     "iopub.status.busy": "2022-06-01T18:23:17.976316Z",
     "iopub.status.idle": "2022-06-01T18:23:18.284550Z",
     "shell.execute_reply": "2022-06-01T18:23:18.283780Z",
     "shell.execute_reply.started": "2022-06-01T18:23:17.976612Z"
    }
   },
   "outputs": [],
   "source": [
    "list_paths = []\n",
    "list_type_categories = []\n",
    "list_class_categories = []\n",
    "list_name_class = []\n",
    "\n",
    "for index in range(len(list_path_files)):\n",
    "    for filename in os.listdir(list_path_files[index]):\n",
    "        list_class_categories.append(str(0))\n",
    "        list_type_categories.append('Chest X-RAY')\n",
    "        list_paths.append(os.path.join(list_path_files[index], filename))\n",
    "        if 'bacteria' in filename:\n",
    "            list_name_class.append('Bacteria')\n",
    "        elif 'virus' in filename:\n",
    "            list_name_class.append('Virus')\n",
    "df_Pneumonia = pd.DataFrame({'path': list_paths,'category': list_type_categories, 'class' : list_class_categories ,'Type Disease' : list_name_class})"
   ]
  },
  {
   "cell_type": "code",
   "execution_count": 8,
   "metadata": {
    "execution": {
     "iopub.execute_input": "2022-06-01T18:23:18.287484Z",
     "iopub.status.busy": "2022-06-01T18:23:18.287130Z",
     "iopub.status.idle": "2022-06-01T18:23:18.297641Z",
     "shell.execute_reply": "2022-06-01T18:23:18.296775Z",
     "shell.execute_reply.started": "2022-06-01T18:23:18.287457Z"
    }
   },
   "outputs": [
    {
     "data": {
      "text/html": [
       "<div>\n",
       "<style scoped>\n",
       "    .dataframe tbody tr th:only-of-type {\n",
       "        vertical-align: middle;\n",
       "    }\n",
       "\n",
       "    .dataframe tbody tr th {\n",
       "        vertical-align: top;\n",
       "    }\n",
       "\n",
       "    .dataframe thead th {\n",
       "        text-align: right;\n",
       "    }\n",
       "</style>\n",
       "<table border=\"1\" class=\"dataframe\">\n",
       "  <thead>\n",
       "    <tr style=\"text-align: right;\">\n",
       "      <th></th>\n",
       "      <th>path</th>\n",
       "      <th>category</th>\n",
       "      <th>class</th>\n",
       "      <th>Type Disease</th>\n",
       "    </tr>\n",
       "  </thead>\n",
       "  <tbody>\n",
       "    <tr>\n",
       "      <th>0</th>\n",
       "      <td>../input/chest-xray-pneumonia/chest_xray/val/P...</td>\n",
       "      <td>Chest X-RAY</td>\n",
       "      <td>0</td>\n",
       "      <td>Bacteria</td>\n",
       "    </tr>\n",
       "    <tr>\n",
       "      <th>1</th>\n",
       "      <td>../input/chest-xray-pneumonia/chest_xray/val/P...</td>\n",
       "      <td>Chest X-RAY</td>\n",
       "      <td>0</td>\n",
       "      <td>Bacteria</td>\n",
       "    </tr>\n",
       "    <tr>\n",
       "      <th>2</th>\n",
       "      <td>../input/chest-xray-pneumonia/chest_xray/val/P...</td>\n",
       "      <td>Chest X-RAY</td>\n",
       "      <td>0</td>\n",
       "      <td>Bacteria</td>\n",
       "    </tr>\n",
       "    <tr>\n",
       "      <th>3</th>\n",
       "      <td>../input/chest-xray-pneumonia/chest_xray/val/P...</td>\n",
       "      <td>Chest X-RAY</td>\n",
       "      <td>0</td>\n",
       "      <td>Bacteria</td>\n",
       "    </tr>\n",
       "    <tr>\n",
       "      <th>4</th>\n",
       "      <td>../input/chest-xray-pneumonia/chest_xray/val/P...</td>\n",
       "      <td>Chest X-RAY</td>\n",
       "      <td>0</td>\n",
       "      <td>Bacteria</td>\n",
       "    </tr>\n",
       "  </tbody>\n",
       "</table>\n",
       "</div>"
      ],
      "text/plain": [
       "                                                path     category class  \\\n",
       "0  ../input/chest-xray-pneumonia/chest_xray/val/P...  Chest X-RAY     0   \n",
       "1  ../input/chest-xray-pneumonia/chest_xray/val/P...  Chest X-RAY     0   \n",
       "2  ../input/chest-xray-pneumonia/chest_xray/val/P...  Chest X-RAY     0   \n",
       "3  ../input/chest-xray-pneumonia/chest_xray/val/P...  Chest X-RAY     0   \n",
       "4  ../input/chest-xray-pneumonia/chest_xray/val/P...  Chest X-RAY     0   \n",
       "\n",
       "  Type Disease  \n",
       "0     Bacteria  \n",
       "1     Bacteria  \n",
       "2     Bacteria  \n",
       "3     Bacteria  \n",
       "4     Bacteria  "
      ]
     },
     "execution_count": 8,
     "metadata": {},
     "output_type": "execute_result"
    }
   ],
   "source": [
    "df_Pneumonia[:5]"
   ]
  },
  {
   "cell_type": "markdown",
   "metadata": {},
   "source": [
    "<a id='wranglingBrain'></a>\n",
    "## Dataset Of Brain Tumor"
   ]
  },
  {
   "cell_type": "code",
   "execution_count": 9,
   "metadata": {
    "execution": {
     "iopub.execute_input": "2022-06-01T18:23:18.300167Z",
     "iopub.status.busy": "2022-06-01T18:23:18.299457Z",
     "iopub.status.idle": "2022-06-01T18:23:19.082160Z",
     "shell.execute_reply": "2022-06-01T18:23:19.081368Z",
     "shell.execute_reply.started": "2022-06-01T18:23:18.300127Z"
    }
   },
   "outputs": [],
   "source": [
    "list_paths = []\n",
    "list_type_categories = []\n",
    "list_class_categories = []\n",
    "list_name_class = []\n",
    "\n",
    "for dirname, _, filenames in os.walk('../input/brain-tumor-classification-mri'):\n",
    "    for filename in filenames:\n",
    "        list_class_categories.append(str(1))\n",
    "        list_type_categories.append('Brain Tumor')\n",
    "        list_paths.append(os.path.join(dirname, filename))\n",
    "        class_disease = dirname.split(\"/\")[-1]\n",
    "        list_name_class.append(class_disease)\n",
    "df_Brain_Tumor = pd.DataFrame({'path': list_paths,'category': list_type_categories, 'class' : list_class_categories ,'Type Disease' : list_name_class})"
   ]
  },
  {
   "cell_type": "code",
   "execution_count": 10,
   "metadata": {
    "execution": {
     "iopub.execute_input": "2022-06-01T18:23:19.085689Z",
     "iopub.status.busy": "2022-06-01T18:23:19.085268Z",
     "iopub.status.idle": "2022-06-01T18:23:19.096387Z",
     "shell.execute_reply": "2022-06-01T18:23:19.095682Z",
     "shell.execute_reply.started": "2022-06-01T18:23:19.085650Z"
    }
   },
   "outputs": [
    {
     "data": {
      "text/html": [
       "<div>\n",
       "<style scoped>\n",
       "    .dataframe tbody tr th:only-of-type {\n",
       "        vertical-align: middle;\n",
       "    }\n",
       "\n",
       "    .dataframe tbody tr th {\n",
       "        vertical-align: top;\n",
       "    }\n",
       "\n",
       "    .dataframe thead th {\n",
       "        text-align: right;\n",
       "    }\n",
       "</style>\n",
       "<table border=\"1\" class=\"dataframe\">\n",
       "  <thead>\n",
       "    <tr style=\"text-align: right;\">\n",
       "      <th></th>\n",
       "      <th>path</th>\n",
       "      <th>category</th>\n",
       "      <th>class</th>\n",
       "      <th>Type Disease</th>\n",
       "    </tr>\n",
       "  </thead>\n",
       "  <tbody>\n",
       "    <tr>\n",
       "      <th>0</th>\n",
       "      <td>../input/brain-tumor-classification-mri/Traini...</td>\n",
       "      <td>Brain Tumor</td>\n",
       "      <td>1</td>\n",
       "      <td>no_tumor</td>\n",
       "    </tr>\n",
       "    <tr>\n",
       "      <th>1</th>\n",
       "      <td>../input/brain-tumor-classification-mri/Traini...</td>\n",
       "      <td>Brain Tumor</td>\n",
       "      <td>1</td>\n",
       "      <td>no_tumor</td>\n",
       "    </tr>\n",
       "    <tr>\n",
       "      <th>2</th>\n",
       "      <td>../input/brain-tumor-classification-mri/Traini...</td>\n",
       "      <td>Brain Tumor</td>\n",
       "      <td>1</td>\n",
       "      <td>no_tumor</td>\n",
       "    </tr>\n",
       "    <tr>\n",
       "      <th>3</th>\n",
       "      <td>../input/brain-tumor-classification-mri/Traini...</td>\n",
       "      <td>Brain Tumor</td>\n",
       "      <td>1</td>\n",
       "      <td>no_tumor</td>\n",
       "    </tr>\n",
       "    <tr>\n",
       "      <th>4</th>\n",
       "      <td>../input/brain-tumor-classification-mri/Traini...</td>\n",
       "      <td>Brain Tumor</td>\n",
       "      <td>1</td>\n",
       "      <td>no_tumor</td>\n",
       "    </tr>\n",
       "  </tbody>\n",
       "</table>\n",
       "</div>"
      ],
      "text/plain": [
       "                                                path     category class  \\\n",
       "0  ../input/brain-tumor-classification-mri/Traini...  Brain Tumor     1   \n",
       "1  ../input/brain-tumor-classification-mri/Traini...  Brain Tumor     1   \n",
       "2  ../input/brain-tumor-classification-mri/Traini...  Brain Tumor     1   \n",
       "3  ../input/brain-tumor-classification-mri/Traini...  Brain Tumor     1   \n",
       "4  ../input/brain-tumor-classification-mri/Traini...  Brain Tumor     1   \n",
       "\n",
       "  Type Disease  \n",
       "0     no_tumor  \n",
       "1     no_tumor  \n",
       "2     no_tumor  \n",
       "3     no_tumor  \n",
       "4     no_tumor  "
      ]
     },
     "execution_count": 10,
     "metadata": {},
     "output_type": "execute_result"
    }
   ],
   "source": [
    "df_Brain_Tumor[:5]"
   ]
  },
  {
   "cell_type": "markdown",
   "metadata": {},
   "source": [
    "<a id='wranglingHeart'></a>\n",
    "## Dataset Of Heart Rays"
   ]
  },
  {
   "cell_type": "code",
   "execution_count": 11,
   "metadata": {
    "execution": {
     "iopub.execute_input": "2022-06-01T18:23:19.098530Z",
     "iopub.status.busy": "2022-06-01T18:23:19.097843Z",
     "iopub.status.idle": "2022-06-01T18:23:34.501373Z",
     "shell.execute_reply": "2022-06-01T18:23:34.500542Z",
     "shell.execute_reply.started": "2022-06-01T18:23:19.098492Z"
    }
   },
   "outputs": [],
   "source": [
    "list_paths = []\n",
    "list_type_categories = []\n",
    "list_class_categories = []\n",
    "list_name_class = []\n",
    "\n",
    "for dirname, _, filenames in os.walk('../input/heartbeats/TRAIN'):\n",
    "    for filename in filenames:\n",
    "        list_class_categories.append(str(2))\n",
    "        list_type_categories.append('Heart Beats')\n",
    "        list_paths.append(os.path.join(dirname, filename))\n",
    "        class_disease = dirname.split(\"/\")[-1]\n",
    "        list_name_class.append(class_disease)\n",
    "df_Heart_Beats = pd.DataFrame({'path': list_paths,'category': list_type_categories, 'class' : list_class_categories ,'Type Disease' : list_name_class})"
   ]
  },
  {
   "cell_type": "code",
   "execution_count": 12,
   "metadata": {
    "execution": {
     "iopub.execute_input": "2022-06-01T18:23:34.502935Z",
     "iopub.status.busy": "2022-06-01T18:23:34.502574Z",
     "iopub.status.idle": "2022-06-01T18:23:34.517119Z",
     "shell.execute_reply": "2022-06-01T18:23:34.516307Z",
     "shell.execute_reply.started": "2022-06-01T18:23:34.502898Z"
    }
   },
   "outputs": [
    {
     "data": {
      "text/html": [
       "<div>\n",
       "<style scoped>\n",
       "    .dataframe tbody tr th:only-of-type {\n",
       "        vertical-align: middle;\n",
       "    }\n",
       "\n",
       "    .dataframe tbody tr th {\n",
       "        vertical-align: top;\n",
       "    }\n",
       "\n",
       "    .dataframe thead th {\n",
       "        text-align: right;\n",
       "    }\n",
       "</style>\n",
       "<table border=\"1\" class=\"dataframe\">\n",
       "  <thead>\n",
       "    <tr style=\"text-align: right;\">\n",
       "      <th></th>\n",
       "      <th>path</th>\n",
       "      <th>category</th>\n",
       "      <th>class</th>\n",
       "      <th>Type Disease</th>\n",
       "    </tr>\n",
       "  </thead>\n",
       "  <tbody>\n",
       "    <tr>\n",
       "      <th>0</th>\n",
       "      <td>../input/heartbeats/TRAIN/Unknown/Unknown14907...</td>\n",
       "      <td>Heart Beats</td>\n",
       "      <td>2</td>\n",
       "      <td>Unknown</td>\n",
       "    </tr>\n",
       "    <tr>\n",
       "      <th>1</th>\n",
       "      <td>../input/heartbeats/TRAIN/Unknown/Unknown17242...</td>\n",
       "      <td>Heart Beats</td>\n",
       "      <td>2</td>\n",
       "      <td>Unknown</td>\n",
       "    </tr>\n",
       "    <tr>\n",
       "      <th>2</th>\n",
       "      <td>../input/heartbeats/TRAIN/Unknown/Unknown14233...</td>\n",
       "      <td>Heart Beats</td>\n",
       "      <td>2</td>\n",
       "      <td>Unknown</td>\n",
       "    </tr>\n",
       "    <tr>\n",
       "      <th>3</th>\n",
       "      <td>../input/heartbeats/TRAIN/Unknown/Unknown12330...</td>\n",
       "      <td>Heart Beats</td>\n",
       "      <td>2</td>\n",
       "      <td>Unknown</td>\n",
       "    </tr>\n",
       "    <tr>\n",
       "      <th>4</th>\n",
       "      <td>../input/heartbeats/TRAIN/Unknown/Unknown11493...</td>\n",
       "      <td>Heart Beats</td>\n",
       "      <td>2</td>\n",
       "      <td>Unknown</td>\n",
       "    </tr>\n",
       "  </tbody>\n",
       "</table>\n",
       "</div>"
      ],
      "text/plain": [
       "                                                path     category class  \\\n",
       "0  ../input/heartbeats/TRAIN/Unknown/Unknown14907...  Heart Beats     2   \n",
       "1  ../input/heartbeats/TRAIN/Unknown/Unknown17242...  Heart Beats     2   \n",
       "2  ../input/heartbeats/TRAIN/Unknown/Unknown14233...  Heart Beats     2   \n",
       "3  ../input/heartbeats/TRAIN/Unknown/Unknown12330...  Heart Beats     2   \n",
       "4  ../input/heartbeats/TRAIN/Unknown/Unknown11493...  Heart Beats     2   \n",
       "\n",
       "  Type Disease  \n",
       "0      Unknown  \n",
       "1      Unknown  \n",
       "2      Unknown  \n",
       "3      Unknown  \n",
       "4      Unknown  "
      ]
     },
     "execution_count": 12,
     "metadata": {},
     "output_type": "execute_result"
    }
   ],
   "source": [
    "df_Heart_Beats[:5]"
   ]
  },
  {
   "cell_type": "markdown",
   "metadata": {},
   "source": [
    "<a id='wranglingSkin'></a>\n",
    "## Dataset Of Skin Cancer"
   ]
  },
  {
   "cell_type": "code",
   "execution_count": 13,
   "metadata": {
    "execution": {
     "iopub.execute_input": "2022-06-01T18:23:34.520682Z",
     "iopub.status.busy": "2022-06-01T18:23:34.520136Z",
     "iopub.status.idle": "2022-06-01T18:23:50.764133Z",
     "shell.execute_reply": "2022-06-01T18:23:50.763431Z",
     "shell.execute_reply.started": "2022-06-01T18:23:34.520654Z"
    }
   },
   "outputs": [
    {
     "data": {
      "text/plain": [
       "['../input/skin-cancer-mnist-ham10000/HAM10000_images_part_1/ISIC_0028933.jpg',\n",
       " '../input/skin-cancer-mnist-ham10000/HAM10000_images_part_1/ISIC_0028394.jpg',\n",
       " '../input/skin-cancer-mnist-ham10000/HAM10000_images_part_1/ISIC_0027799.jpg',\n",
       " '../input/skin-cancer-mnist-ham10000/HAM10000_images_part_1/ISIC_0028100.jpg',\n",
       " '../input/skin-cancer-mnist-ham10000/HAM10000_images_part_1/ISIC_0027960.jpg']"
      ]
     },
     "execution_count": 13,
     "metadata": {},
     "output_type": "execute_result"
    }
   ],
   "source": [
    "list_paths = []\n",
    "for dirname, _, filenames in os.walk('../input/skin-cancer-mnist-ham10000'):\n",
    "    for filename in filenames:\n",
    "        list_paths.append(os.path.join(dirname, filename))\n",
    "    \n",
    "list_paths = list_paths[5:]\n",
    "list_paths[:5]"
   ]
  },
  {
   "cell_type": "code",
   "execution_count": 14,
   "metadata": {
    "execution": {
     "iopub.execute_input": "2022-06-01T18:23:50.766089Z",
     "iopub.status.busy": "2022-06-01T18:23:50.765517Z",
     "iopub.status.idle": "2022-06-01T18:23:50.788478Z",
     "shell.execute_reply": "2022-06-01T18:23:50.787526Z",
     "shell.execute_reply.started": "2022-06-01T18:23:50.766048Z"
    }
   },
   "outputs": [
    {
     "data": {
      "text/plain": [
       "['ISIC_0028933',\n",
       " 'ISIC_0028394',\n",
       " 'ISIC_0027799',\n",
       " 'ISIC_0028100',\n",
       " 'ISIC_0027960']"
      ]
     },
     "execution_count": 14,
     "metadata": {},
     "output_type": "execute_result"
    }
   ],
   "source": [
    "list_name_image = []\n",
    "\n",
    "for name in list_paths:\n",
    "    name_image = name.split('/')[-1][:-4]\n",
    "    list_name_image.append(name_image)\n",
    "    \n",
    "list_name_image[:5]"
   ]
  },
  {
   "cell_type": "code",
   "execution_count": 15,
   "metadata": {
    "execution": {
     "iopub.execute_input": "2022-06-01T18:23:50.790653Z",
     "iopub.status.busy": "2022-06-01T18:23:50.790060Z",
     "iopub.status.idle": "2022-06-01T18:25:03.435722Z",
     "shell.execute_reply": "2022-06-01T18:25:03.434415Z",
     "shell.execute_reply.started": "2022-06-01T18:23:50.790617Z"
    }
   },
   "outputs": [
    {
     "name": "stderr",
     "output_type": "stream",
     "text": [
      "100%|██████████| 20030/20030 [01:12<00:00, 275.96it/s]\n"
     ]
    }
   ],
   "source": [
    "list_name_class = []\n",
    "list_type_categories = []\n",
    "list_class_categories = []\n",
    "\n",
    "df_Skin_Cancer = pd.read_csv('../input/skin-cancer-mnist-ham10000/HAM10000_metadata.csv')\n",
    "\n",
    "#/kaggle/input/skin-cancer-mnist-ham10000/HAM10000_images_part_2/ISIC_0031685.jpg\n",
    "for name_image in tqdm(list_name_image):\n",
    "    if df_Skin_Cancer[df_Skin_Cancer['image_id']  == name_image].iloc[0]['dx'] == 'nv':\n",
    "        name_disease = 'Melanocytic Nevi'\n",
    "    elif df_Skin_Cancer[df_Skin_Cancer['image_id']  == name_image].iloc[0]['dx'] == 'bkl':\n",
    "        name_disease = 'Benign Keratosis Like'\n",
    "    elif df_Skin_Cancer[df_Skin_Cancer['image_id']  == name_image].iloc[0]['dx'] == 'akiec':\n",
    "        name_disease= 'Actinic keratoses'\n",
    "    elif df_Skin_Cancer[df_Skin_Cancer['image_id']  == name_image].iloc[0]['dx'] == 'mel':\n",
    "        name_disease = 'Melanoma'\n",
    "    elif df_Skin_Cancer[df_Skin_Cancer['image_id']  == name_image].iloc[0]['dx'] == 'bcc':\n",
    "        name_disease = 'Basal Cell Carcinoma'\n",
    "    elif df_Skin_Cancer[df_Skin_Cancer['image_id']  == name_image].iloc[0]['dx'] == 'vasc':\n",
    "        name_disease = 'Vascular Lesions'\n",
    "    elif df_Skin_Cancer[df_Skin_Cancer['image_id']  == name_image].iloc[0]['dx'] == 'df':\n",
    "        name_disease = 'Dermatofibroma'\n",
    "    list_name_class.append(name_disease)\n",
    "    list_class_categories.append(str(3))\n",
    "    list_type_categories.append('Skin Cancer')\n",
    "df_Skin_Cancer = pd.DataFrame({'path': list_paths,'category': list_type_categories, 'class' : list_class_categories ,'Type Disease' : list_name_class})"
   ]
  },
  {
   "cell_type": "code",
   "execution_count": 16,
   "metadata": {
    "execution": {
     "iopub.execute_input": "2022-06-01T18:25:03.437365Z",
     "iopub.status.busy": "2022-06-01T18:25:03.436999Z",
     "iopub.status.idle": "2022-06-01T18:25:03.456940Z",
     "shell.execute_reply": "2022-06-01T18:25:03.456130Z",
     "shell.execute_reply.started": "2022-06-01T18:25:03.437329Z"
    }
   },
   "outputs": [
    {
     "data": {
      "text/html": [
       "<div>\n",
       "<style scoped>\n",
       "    .dataframe tbody tr th:only-of-type {\n",
       "        vertical-align: middle;\n",
       "    }\n",
       "\n",
       "    .dataframe tbody tr th {\n",
       "        vertical-align: top;\n",
       "    }\n",
       "\n",
       "    .dataframe thead th {\n",
       "        text-align: right;\n",
       "    }\n",
       "</style>\n",
       "<table border=\"1\" class=\"dataframe\">\n",
       "  <thead>\n",
       "    <tr style=\"text-align: right;\">\n",
       "      <th></th>\n",
       "      <th>index</th>\n",
       "      <th>path</th>\n",
       "      <th>category</th>\n",
       "      <th>class</th>\n",
       "      <th>Type Disease</th>\n",
       "    </tr>\n",
       "  </thead>\n",
       "  <tbody>\n",
       "    <tr>\n",
       "      <th>0</th>\n",
       "      <td>6199</td>\n",
       "      <td>../input/skin-cancer-mnist-ham10000/ham10000_i...</td>\n",
       "      <td>Skin Cancer</td>\n",
       "      <td>3</td>\n",
       "      <td>Melanocytic Nevi</td>\n",
       "    </tr>\n",
       "    <tr>\n",
       "      <th>1</th>\n",
       "      <td>19079</td>\n",
       "      <td>../input/skin-cancer-mnist-ham10000/ham10000_i...</td>\n",
       "      <td>Skin Cancer</td>\n",
       "      <td>3</td>\n",
       "      <td>Melanocytic Nevi</td>\n",
       "    </tr>\n",
       "    <tr>\n",
       "      <th>2</th>\n",
       "      <td>7174</td>\n",
       "      <td>../input/skin-cancer-mnist-ham10000/ham10000_i...</td>\n",
       "      <td>Skin Cancer</td>\n",
       "      <td>3</td>\n",
       "      <td>Melanocytic Nevi</td>\n",
       "    </tr>\n",
       "    <tr>\n",
       "      <th>3</th>\n",
       "      <td>10687</td>\n",
       "      <td>../input/skin-cancer-mnist-ham10000/HAM10000_i...</td>\n",
       "      <td>Skin Cancer</td>\n",
       "      <td>3</td>\n",
       "      <td>Melanoma</td>\n",
       "    </tr>\n",
       "    <tr>\n",
       "      <th>4</th>\n",
       "      <td>6381</td>\n",
       "      <td>../input/skin-cancer-mnist-ham10000/ham10000_i...</td>\n",
       "      <td>Skin Cancer</td>\n",
       "      <td>3</td>\n",
       "      <td>Melanocytic Nevi</td>\n",
       "    </tr>\n",
       "    <tr>\n",
       "      <th>...</th>\n",
       "      <td>...</td>\n",
       "      <td>...</td>\n",
       "      <td>...</td>\n",
       "      <td>...</td>\n",
       "      <td>...</td>\n",
       "    </tr>\n",
       "    <tr>\n",
       "      <th>16019</th>\n",
       "      <td>6656</td>\n",
       "      <td>../input/skin-cancer-mnist-ham10000/ham10000_i...</td>\n",
       "      <td>Skin Cancer</td>\n",
       "      <td>3</td>\n",
       "      <td>Melanocytic Nevi</td>\n",
       "    </tr>\n",
       "    <tr>\n",
       "      <th>16020</th>\n",
       "      <td>654</td>\n",
       "      <td>../input/skin-cancer-mnist-ham10000/HAM10000_i...</td>\n",
       "      <td>Skin Cancer</td>\n",
       "      <td>3</td>\n",
       "      <td>Melanocytic Nevi</td>\n",
       "    </tr>\n",
       "    <tr>\n",
       "      <th>16021</th>\n",
       "      <td>14127</td>\n",
       "      <td>../input/skin-cancer-mnist-ham10000/HAM10000_i...</td>\n",
       "      <td>Skin Cancer</td>\n",
       "      <td>3</td>\n",
       "      <td>Melanocytic Nevi</td>\n",
       "    </tr>\n",
       "    <tr>\n",
       "      <th>16022</th>\n",
       "      <td>7027</td>\n",
       "      <td>../input/skin-cancer-mnist-ham10000/ham10000_i...</td>\n",
       "      <td>Skin Cancer</td>\n",
       "      <td>3</td>\n",
       "      <td>Melanocytic Nevi</td>\n",
       "    </tr>\n",
       "    <tr>\n",
       "      <th>16023</th>\n",
       "      <td>569</td>\n",
       "      <td>../input/skin-cancer-mnist-ham10000/HAM10000_i...</td>\n",
       "      <td>Skin Cancer</td>\n",
       "      <td>3</td>\n",
       "      <td>Melanocytic Nevi</td>\n",
       "    </tr>\n",
       "  </tbody>\n",
       "</table>\n",
       "<p>16024 rows × 5 columns</p>\n",
       "</div>"
      ],
      "text/plain": [
       "       index                                               path     category  \\\n",
       "0       6199  ../input/skin-cancer-mnist-ham10000/ham10000_i...  Skin Cancer   \n",
       "1      19079  ../input/skin-cancer-mnist-ham10000/ham10000_i...  Skin Cancer   \n",
       "2       7174  ../input/skin-cancer-mnist-ham10000/ham10000_i...  Skin Cancer   \n",
       "3      10687  ../input/skin-cancer-mnist-ham10000/HAM10000_i...  Skin Cancer   \n",
       "4       6381  ../input/skin-cancer-mnist-ham10000/ham10000_i...  Skin Cancer   \n",
       "...      ...                                                ...          ...   \n",
       "16019   6656  ../input/skin-cancer-mnist-ham10000/ham10000_i...  Skin Cancer   \n",
       "16020    654  ../input/skin-cancer-mnist-ham10000/HAM10000_i...  Skin Cancer   \n",
       "16021  14127  ../input/skin-cancer-mnist-ham10000/HAM10000_i...  Skin Cancer   \n",
       "16022   7027  ../input/skin-cancer-mnist-ham10000/ham10000_i...  Skin Cancer   \n",
       "16023    569  ../input/skin-cancer-mnist-ham10000/HAM10000_i...  Skin Cancer   \n",
       "\n",
       "      class      Type Disease  \n",
       "0         3  Melanocytic Nevi  \n",
       "1         3  Melanocytic Nevi  \n",
       "2         3  Melanocytic Nevi  \n",
       "3         3          Melanoma  \n",
       "4         3  Melanocytic Nevi  \n",
       "...     ...               ...  \n",
       "16019     3  Melanocytic Nevi  \n",
       "16020     3  Melanocytic Nevi  \n",
       "16021     3  Melanocytic Nevi  \n",
       "16022     3  Melanocytic Nevi  \n",
       "16023     3  Melanocytic Nevi  \n",
       "\n",
       "[16024 rows x 5 columns]"
      ]
     },
     "execution_count": 16,
     "metadata": {},
     "output_type": "execute_result"
    }
   ],
   "source": [
    "df_Skin_Cancer = df_Skin_Cancer.sample(frac = 0.8)\n",
    "df_Skin_Cancer.reset_index()"
   ]
  },
  {
   "cell_type": "code",
   "execution_count": 17,
   "metadata": {
    "execution": {
     "iopub.execute_input": "2022-06-01T18:25:03.458571Z",
     "iopub.status.busy": "2022-06-01T18:25:03.458223Z",
     "iopub.status.idle": "2022-06-01T18:25:03.468837Z",
     "shell.execute_reply": "2022-06-01T18:25:03.467626Z",
     "shell.execute_reply.started": "2022-06-01T18:25:03.458538Z"
    }
   },
   "outputs": [
    {
     "data": {
      "text/html": [
       "<div>\n",
       "<style scoped>\n",
       "    .dataframe tbody tr th:only-of-type {\n",
       "        vertical-align: middle;\n",
       "    }\n",
       "\n",
       "    .dataframe tbody tr th {\n",
       "        vertical-align: top;\n",
       "    }\n",
       "\n",
       "    .dataframe thead th {\n",
       "        text-align: right;\n",
       "    }\n",
       "</style>\n",
       "<table border=\"1\" class=\"dataframe\">\n",
       "  <thead>\n",
       "    <tr style=\"text-align: right;\">\n",
       "      <th></th>\n",
       "      <th>path</th>\n",
       "      <th>category</th>\n",
       "      <th>class</th>\n",
       "      <th>Type Disease</th>\n",
       "    </tr>\n",
       "  </thead>\n",
       "  <tbody>\n",
       "    <tr>\n",
       "      <th>6199</th>\n",
       "      <td>../input/skin-cancer-mnist-ham10000/ham10000_i...</td>\n",
       "      <td>Skin Cancer</td>\n",
       "      <td>3</td>\n",
       "      <td>Melanocytic Nevi</td>\n",
       "    </tr>\n",
       "    <tr>\n",
       "      <th>19079</th>\n",
       "      <td>../input/skin-cancer-mnist-ham10000/ham10000_i...</td>\n",
       "      <td>Skin Cancer</td>\n",
       "      <td>3</td>\n",
       "      <td>Melanocytic Nevi</td>\n",
       "    </tr>\n",
       "    <tr>\n",
       "      <th>7174</th>\n",
       "      <td>../input/skin-cancer-mnist-ham10000/ham10000_i...</td>\n",
       "      <td>Skin Cancer</td>\n",
       "      <td>3</td>\n",
       "      <td>Melanocytic Nevi</td>\n",
       "    </tr>\n",
       "    <tr>\n",
       "      <th>10687</th>\n",
       "      <td>../input/skin-cancer-mnist-ham10000/HAM10000_i...</td>\n",
       "      <td>Skin Cancer</td>\n",
       "      <td>3</td>\n",
       "      <td>Melanoma</td>\n",
       "    </tr>\n",
       "    <tr>\n",
       "      <th>6381</th>\n",
       "      <td>../input/skin-cancer-mnist-ham10000/ham10000_i...</td>\n",
       "      <td>Skin Cancer</td>\n",
       "      <td>3</td>\n",
       "      <td>Melanocytic Nevi</td>\n",
       "    </tr>\n",
       "  </tbody>\n",
       "</table>\n",
       "</div>"
      ],
      "text/plain": [
       "                                                    path     category class  \\\n",
       "6199   ../input/skin-cancer-mnist-ham10000/ham10000_i...  Skin Cancer     3   \n",
       "19079  ../input/skin-cancer-mnist-ham10000/ham10000_i...  Skin Cancer     3   \n",
       "7174   ../input/skin-cancer-mnist-ham10000/ham10000_i...  Skin Cancer     3   \n",
       "10687  ../input/skin-cancer-mnist-ham10000/HAM10000_i...  Skin Cancer     3   \n",
       "6381   ../input/skin-cancer-mnist-ham10000/ham10000_i...  Skin Cancer     3   \n",
       "\n",
       "           Type Disease  \n",
       "6199   Melanocytic Nevi  \n",
       "19079  Melanocytic Nevi  \n",
       "7174   Melanocytic Nevi  \n",
       "10687          Melanoma  \n",
       "6381   Melanocytic Nevi  "
      ]
     },
     "execution_count": 17,
     "metadata": {},
     "output_type": "execute_result"
    }
   ],
   "source": [
    "df_Skin_Cancer[:5]"
   ]
  },
  {
   "cell_type": "markdown",
   "metadata": {},
   "source": [
    "<a id='wranglingRetinal'></a>\n",
    "## Dataset Of Retinal OCT"
   ]
  },
  {
   "cell_type": "code",
   "execution_count": 18,
   "metadata": {
    "execution": {
     "iopub.execute_input": "2022-06-01T18:25:03.471371Z",
     "iopub.status.busy": "2022-06-01T18:25:03.470922Z",
     "iopub.status.idle": "2022-06-01T18:25:30.652123Z",
     "shell.execute_reply": "2022-06-01T18:25:30.651308Z",
     "shell.execute_reply.started": "2022-06-01T18:25:03.471335Z"
    }
   },
   "outputs": [],
   "source": [
    "list_paths = []\n",
    "list_type_categories = []\n",
    "list_class_categories = []\n",
    "list_name_class = []\n",
    "\n",
    "for dirname, _, filenames in os.walk('../input/kermany2018/OCT2017 /train/NORMAL'):\n",
    "    for filename in filenames:\n",
    "        list_class_categories.append(str(4))\n",
    "        list_type_categories.append('Retinal OCT')\n",
    "        list_paths.append(os.path.join(dirname, filename))\n",
    "        list_name_class.append('NORMAL')\n",
    "df_Retinal = pd.DataFrame({'path': list_paths,'category': list_type_categories, 'class' : list_class_categories ,'Type Disease' : list_name_class})"
   ]
  },
  {
   "cell_type": "code",
   "execution_count": 19,
   "metadata": {
    "execution": {
     "iopub.execute_input": "2022-06-01T18:25:30.653860Z",
     "iopub.status.busy": "2022-06-01T18:25:30.653511Z",
     "iopub.status.idle": "2022-06-01T18:25:30.665933Z",
     "shell.execute_reply": "2022-06-01T18:25:30.665115Z",
     "shell.execute_reply.started": "2022-06-01T18:25:30.653825Z"
    }
   },
   "outputs": [
    {
     "data": {
      "text/html": [
       "<div>\n",
       "<style scoped>\n",
       "    .dataframe tbody tr th:only-of-type {\n",
       "        vertical-align: middle;\n",
       "    }\n",
       "\n",
       "    .dataframe tbody tr th {\n",
       "        vertical-align: top;\n",
       "    }\n",
       "\n",
       "    .dataframe thead th {\n",
       "        text-align: right;\n",
       "    }\n",
       "</style>\n",
       "<table border=\"1\" class=\"dataframe\">\n",
       "  <thead>\n",
       "    <tr style=\"text-align: right;\">\n",
       "      <th></th>\n",
       "      <th>path</th>\n",
       "      <th>category</th>\n",
       "      <th>class</th>\n",
       "      <th>Type Disease</th>\n",
       "    </tr>\n",
       "  </thead>\n",
       "  <tbody>\n",
       "    <tr>\n",
       "      <th>0</th>\n",
       "      <td>../input/kermany2018/OCT2017 /train/NORMAL/NOR...</td>\n",
       "      <td>Retinal OCT</td>\n",
       "      <td>4</td>\n",
       "      <td>NORMAL</td>\n",
       "    </tr>\n",
       "    <tr>\n",
       "      <th>1</th>\n",
       "      <td>../input/kermany2018/OCT2017 /train/NORMAL/NOR...</td>\n",
       "      <td>Retinal OCT</td>\n",
       "      <td>4</td>\n",
       "      <td>NORMAL</td>\n",
       "    </tr>\n",
       "    <tr>\n",
       "      <th>2</th>\n",
       "      <td>../input/kermany2018/OCT2017 /train/NORMAL/NOR...</td>\n",
       "      <td>Retinal OCT</td>\n",
       "      <td>4</td>\n",
       "      <td>NORMAL</td>\n",
       "    </tr>\n",
       "    <tr>\n",
       "      <th>3</th>\n",
       "      <td>../input/kermany2018/OCT2017 /train/NORMAL/NOR...</td>\n",
       "      <td>Retinal OCT</td>\n",
       "      <td>4</td>\n",
       "      <td>NORMAL</td>\n",
       "    </tr>\n",
       "    <tr>\n",
       "      <th>4</th>\n",
       "      <td>../input/kermany2018/OCT2017 /train/NORMAL/NOR...</td>\n",
       "      <td>Retinal OCT</td>\n",
       "      <td>4</td>\n",
       "      <td>NORMAL</td>\n",
       "    </tr>\n",
       "    <tr>\n",
       "      <th>...</th>\n",
       "      <td>...</td>\n",
       "      <td>...</td>\n",
       "      <td>...</td>\n",
       "      <td>...</td>\n",
       "    </tr>\n",
       "    <tr>\n",
       "      <th>26310</th>\n",
       "      <td>../input/kermany2018/OCT2017 /train/NORMAL/NOR...</td>\n",
       "      <td>Retinal OCT</td>\n",
       "      <td>4</td>\n",
       "      <td>NORMAL</td>\n",
       "    </tr>\n",
       "    <tr>\n",
       "      <th>26311</th>\n",
       "      <td>../input/kermany2018/OCT2017 /train/NORMAL/NOR...</td>\n",
       "      <td>Retinal OCT</td>\n",
       "      <td>4</td>\n",
       "      <td>NORMAL</td>\n",
       "    </tr>\n",
       "    <tr>\n",
       "      <th>26312</th>\n",
       "      <td>../input/kermany2018/OCT2017 /train/NORMAL/NOR...</td>\n",
       "      <td>Retinal OCT</td>\n",
       "      <td>4</td>\n",
       "      <td>NORMAL</td>\n",
       "    </tr>\n",
       "    <tr>\n",
       "      <th>26313</th>\n",
       "      <td>../input/kermany2018/OCT2017 /train/NORMAL/NOR...</td>\n",
       "      <td>Retinal OCT</td>\n",
       "      <td>4</td>\n",
       "      <td>NORMAL</td>\n",
       "    </tr>\n",
       "    <tr>\n",
       "      <th>26314</th>\n",
       "      <td>../input/kermany2018/OCT2017 /train/NORMAL/NOR...</td>\n",
       "      <td>Retinal OCT</td>\n",
       "      <td>4</td>\n",
       "      <td>NORMAL</td>\n",
       "    </tr>\n",
       "  </tbody>\n",
       "</table>\n",
       "<p>26315 rows × 4 columns</p>\n",
       "</div>"
      ],
      "text/plain": [
       "                                                    path     category class  \\\n",
       "0      ../input/kermany2018/OCT2017 /train/NORMAL/NOR...  Retinal OCT     4   \n",
       "1      ../input/kermany2018/OCT2017 /train/NORMAL/NOR...  Retinal OCT     4   \n",
       "2      ../input/kermany2018/OCT2017 /train/NORMAL/NOR...  Retinal OCT     4   \n",
       "3      ../input/kermany2018/OCT2017 /train/NORMAL/NOR...  Retinal OCT     4   \n",
       "4      ../input/kermany2018/OCT2017 /train/NORMAL/NOR...  Retinal OCT     4   \n",
       "...                                                  ...          ...   ...   \n",
       "26310  ../input/kermany2018/OCT2017 /train/NORMAL/NOR...  Retinal OCT     4   \n",
       "26311  ../input/kermany2018/OCT2017 /train/NORMAL/NOR...  Retinal OCT     4   \n",
       "26312  ../input/kermany2018/OCT2017 /train/NORMAL/NOR...  Retinal OCT     4   \n",
       "26313  ../input/kermany2018/OCT2017 /train/NORMAL/NOR...  Retinal OCT     4   \n",
       "26314  ../input/kermany2018/OCT2017 /train/NORMAL/NOR...  Retinal OCT     4   \n",
       "\n",
       "      Type Disease  \n",
       "0           NORMAL  \n",
       "1           NORMAL  \n",
       "2           NORMAL  \n",
       "3           NORMAL  \n",
       "4           NORMAL  \n",
       "...            ...  \n",
       "26310       NORMAL  \n",
       "26311       NORMAL  \n",
       "26312       NORMAL  \n",
       "26313       NORMAL  \n",
       "26314       NORMAL  \n",
       "\n",
       "[26315 rows x 4 columns]"
      ]
     },
     "execution_count": 19,
     "metadata": {},
     "output_type": "execute_result"
    }
   ],
   "source": [
    "df_Retinal"
   ]
  },
  {
   "cell_type": "markdown",
   "metadata": {},
   "source": [
    "<a id='wranglingCoco'></a>\n",
    "## Dataset Of Coco "
   ]
  },
  {
   "cell_type": "code",
   "execution_count": 20,
   "metadata": {
    "execution": {
     "iopub.execute_input": "2022-06-01T18:25:30.667939Z",
     "iopub.status.busy": "2022-06-01T18:25:30.667410Z",
     "iopub.status.idle": "2022-06-01T18:26:16.131677Z",
     "shell.execute_reply": "2022-06-01T18:26:16.130851Z",
     "shell.execute_reply.started": "2022-06-01T18:25:30.667900Z"
    }
   },
   "outputs": [],
   "source": [
    "list_paths = []\n",
    "list_type_categories = []\n",
    "list_class_categories = []\n",
    "list_name_class = []\n",
    "\n",
    "for dirname, _, filenames in os.walk('../input/coco-2017-dataset/coco2017/test2017'):\n",
    "    for filename in filenames:\n",
    "        list_class_categories.append(str(5))\n",
    "        list_type_categories.append('Other')\n",
    "        list_paths.append(os.path.join(dirname, filename))\n",
    "        list_name_class.append('Other')\n",
    "df_Other = pd.DataFrame({'path': list_paths,'category': list_type_categories, 'class' : list_class_categories ,'Type Disease' : list_name_class})"
   ]
  },
  {
   "cell_type": "code",
   "execution_count": 21,
   "metadata": {
    "execution": {
     "iopub.execute_input": "2022-06-01T18:26:16.133334Z",
     "iopub.status.busy": "2022-06-01T18:26:16.132972Z",
     "iopub.status.idle": "2022-06-01T18:26:16.143376Z",
     "shell.execute_reply": "2022-06-01T18:26:16.142468Z",
     "shell.execute_reply.started": "2022-06-01T18:26:16.133298Z"
    }
   },
   "outputs": [
    {
     "data": {
      "text/html": [
       "<div>\n",
       "<style scoped>\n",
       "    .dataframe tbody tr th:only-of-type {\n",
       "        vertical-align: middle;\n",
       "    }\n",
       "\n",
       "    .dataframe tbody tr th {\n",
       "        vertical-align: top;\n",
       "    }\n",
       "\n",
       "    .dataframe thead th {\n",
       "        text-align: right;\n",
       "    }\n",
       "</style>\n",
       "<table border=\"1\" class=\"dataframe\">\n",
       "  <thead>\n",
       "    <tr style=\"text-align: right;\">\n",
       "      <th></th>\n",
       "      <th>path</th>\n",
       "      <th>category</th>\n",
       "      <th>class</th>\n",
       "      <th>Type Disease</th>\n",
       "    </tr>\n",
       "  </thead>\n",
       "  <tbody>\n",
       "    <tr>\n",
       "      <th>0</th>\n",
       "      <td>../input/coco-2017-dataset/coco2017/test2017/0...</td>\n",
       "      <td>Other</td>\n",
       "      <td>5</td>\n",
       "      <td>Other</td>\n",
       "    </tr>\n",
       "    <tr>\n",
       "      <th>1</th>\n",
       "      <td>../input/coco-2017-dataset/coco2017/test2017/0...</td>\n",
       "      <td>Other</td>\n",
       "      <td>5</td>\n",
       "      <td>Other</td>\n",
       "    </tr>\n",
       "    <tr>\n",
       "      <th>2</th>\n",
       "      <td>../input/coco-2017-dataset/coco2017/test2017/0...</td>\n",
       "      <td>Other</td>\n",
       "      <td>5</td>\n",
       "      <td>Other</td>\n",
       "    </tr>\n",
       "    <tr>\n",
       "      <th>3</th>\n",
       "      <td>../input/coco-2017-dataset/coco2017/test2017/0...</td>\n",
       "      <td>Other</td>\n",
       "      <td>5</td>\n",
       "      <td>Other</td>\n",
       "    </tr>\n",
       "    <tr>\n",
       "      <th>4</th>\n",
       "      <td>../input/coco-2017-dataset/coco2017/test2017/0...</td>\n",
       "      <td>Other</td>\n",
       "      <td>5</td>\n",
       "      <td>Other</td>\n",
       "    </tr>\n",
       "  </tbody>\n",
       "</table>\n",
       "</div>"
      ],
      "text/plain": [
       "                                                path category class  \\\n",
       "0  ../input/coco-2017-dataset/coco2017/test2017/0...    Other     5   \n",
       "1  ../input/coco-2017-dataset/coco2017/test2017/0...    Other     5   \n",
       "2  ../input/coco-2017-dataset/coco2017/test2017/0...    Other     5   \n",
       "3  ../input/coco-2017-dataset/coco2017/test2017/0...    Other     5   \n",
       "4  ../input/coco-2017-dataset/coco2017/test2017/0...    Other     5   \n",
       "\n",
       "  Type Disease  \n",
       "0        Other  \n",
       "1        Other  \n",
       "2        Other  \n",
       "3        Other  \n",
       "4        Other  "
      ]
     },
     "execution_count": 21,
     "metadata": {},
     "output_type": "execute_result"
    }
   ],
   "source": [
    "df_Other[:5]"
   ]
  },
  {
   "cell_type": "code",
   "execution_count": 22,
   "metadata": {
    "execution": {
     "iopub.execute_input": "2022-06-01T18:26:16.145317Z",
     "iopub.status.busy": "2022-06-01T18:26:16.144764Z",
     "iopub.status.idle": "2022-06-01T18:26:16.164816Z",
     "shell.execute_reply": "2022-06-01T18:26:16.164123Z",
     "shell.execute_reply.started": "2022-06-01T18:26:16.145280Z"
    }
   },
   "outputs": [
    {
     "data": {
      "text/html": [
       "<div>\n",
       "<style scoped>\n",
       "    .dataframe tbody tr th:only-of-type {\n",
       "        vertical-align: middle;\n",
       "    }\n",
       "\n",
       "    .dataframe tbody tr th {\n",
       "        vertical-align: top;\n",
       "    }\n",
       "\n",
       "    .dataframe thead th {\n",
       "        text-align: right;\n",
       "    }\n",
       "</style>\n",
       "<table border=\"1\" class=\"dataframe\">\n",
       "  <thead>\n",
       "    <tr style=\"text-align: right;\">\n",
       "      <th></th>\n",
       "      <th>index</th>\n",
       "      <th>path</th>\n",
       "      <th>category</th>\n",
       "      <th>class</th>\n",
       "      <th>Type Disease</th>\n",
       "    </tr>\n",
       "  </thead>\n",
       "  <tbody>\n",
       "    <tr>\n",
       "      <th>0</th>\n",
       "      <td>29542</td>\n",
       "      <td>../input/coco-2017-dataset/coco2017/test2017/0...</td>\n",
       "      <td>Other</td>\n",
       "      <td>5</td>\n",
       "      <td>Other</td>\n",
       "    </tr>\n",
       "    <tr>\n",
       "      <th>1</th>\n",
       "      <td>6896</td>\n",
       "      <td>../input/coco-2017-dataset/coco2017/test2017/0...</td>\n",
       "      <td>Other</td>\n",
       "      <td>5</td>\n",
       "      <td>Other</td>\n",
       "    </tr>\n",
       "    <tr>\n",
       "      <th>2</th>\n",
       "      <td>26652</td>\n",
       "      <td>../input/coco-2017-dataset/coco2017/test2017/0...</td>\n",
       "      <td>Other</td>\n",
       "      <td>5</td>\n",
       "      <td>Other</td>\n",
       "    </tr>\n",
       "    <tr>\n",
       "      <th>3</th>\n",
       "      <td>6225</td>\n",
       "      <td>../input/coco-2017-dataset/coco2017/test2017/0...</td>\n",
       "      <td>Other</td>\n",
       "      <td>5</td>\n",
       "      <td>Other</td>\n",
       "    </tr>\n",
       "    <tr>\n",
       "      <th>4</th>\n",
       "      <td>6211</td>\n",
       "      <td>../input/coco-2017-dataset/coco2017/test2017/0...</td>\n",
       "      <td>Other</td>\n",
       "      <td>5</td>\n",
       "      <td>Other</td>\n",
       "    </tr>\n",
       "    <tr>\n",
       "      <th>...</th>\n",
       "      <td>...</td>\n",
       "      <td>...</td>\n",
       "      <td>...</td>\n",
       "      <td>...</td>\n",
       "      <td>...</td>\n",
       "    </tr>\n",
       "    <tr>\n",
       "      <th>16263</th>\n",
       "      <td>31352</td>\n",
       "      <td>../input/coco-2017-dataset/coco2017/test2017/0...</td>\n",
       "      <td>Other</td>\n",
       "      <td>5</td>\n",
       "      <td>Other</td>\n",
       "    </tr>\n",
       "    <tr>\n",
       "      <th>16264</th>\n",
       "      <td>18331</td>\n",
       "      <td>../input/coco-2017-dataset/coco2017/test2017/0...</td>\n",
       "      <td>Other</td>\n",
       "      <td>5</td>\n",
       "      <td>Other</td>\n",
       "    </tr>\n",
       "    <tr>\n",
       "      <th>16265</th>\n",
       "      <td>29902</td>\n",
       "      <td>../input/coco-2017-dataset/coco2017/test2017/0...</td>\n",
       "      <td>Other</td>\n",
       "      <td>5</td>\n",
       "      <td>Other</td>\n",
       "    </tr>\n",
       "    <tr>\n",
       "      <th>16266</th>\n",
       "      <td>10335</td>\n",
       "      <td>../input/coco-2017-dataset/coco2017/test2017/0...</td>\n",
       "      <td>Other</td>\n",
       "      <td>5</td>\n",
       "      <td>Other</td>\n",
       "    </tr>\n",
       "    <tr>\n",
       "      <th>16267</th>\n",
       "      <td>22778</td>\n",
       "      <td>../input/coco-2017-dataset/coco2017/test2017/0...</td>\n",
       "      <td>Other</td>\n",
       "      <td>5</td>\n",
       "      <td>Other</td>\n",
       "    </tr>\n",
       "  </tbody>\n",
       "</table>\n",
       "<p>16268 rows × 5 columns</p>\n",
       "</div>"
      ],
      "text/plain": [
       "       index                                               path category  \\\n",
       "0      29542  ../input/coco-2017-dataset/coco2017/test2017/0...    Other   \n",
       "1       6896  ../input/coco-2017-dataset/coco2017/test2017/0...    Other   \n",
       "2      26652  ../input/coco-2017-dataset/coco2017/test2017/0...    Other   \n",
       "3       6225  ../input/coco-2017-dataset/coco2017/test2017/0...    Other   \n",
       "4       6211  ../input/coco-2017-dataset/coco2017/test2017/0...    Other   \n",
       "...      ...                                                ...      ...   \n",
       "16263  31352  ../input/coco-2017-dataset/coco2017/test2017/0...    Other   \n",
       "16264  18331  ../input/coco-2017-dataset/coco2017/test2017/0...    Other   \n",
       "16265  29902  ../input/coco-2017-dataset/coco2017/test2017/0...    Other   \n",
       "16266  10335  ../input/coco-2017-dataset/coco2017/test2017/0...    Other   \n",
       "16267  22778  ../input/coco-2017-dataset/coco2017/test2017/0...    Other   \n",
       "\n",
       "      class Type Disease  \n",
       "0         5        Other  \n",
       "1         5        Other  \n",
       "2         5        Other  \n",
       "3         5        Other  \n",
       "4         5        Other  \n",
       "...     ...          ...  \n",
       "16263     5        Other  \n",
       "16264     5        Other  \n",
       "16265     5        Other  \n",
       "16266     5        Other  \n",
       "16267     5        Other  \n",
       "\n",
       "[16268 rows x 5 columns]"
      ]
     },
     "execution_count": 22,
     "metadata": {},
     "output_type": "execute_result"
    }
   ],
   "source": [
    "df_Other = df_Other.sample(frac = 0.4)\n",
    "df_Other.reset_index()"
   ]
  },
  {
   "cell_type": "code",
   "execution_count": 23,
   "metadata": {
    "execution": {
     "iopub.execute_input": "2022-06-01T18:26:16.166334Z",
     "iopub.status.busy": "2022-06-01T18:26:16.165986Z",
     "iopub.status.idle": "2022-06-01T18:26:16.189517Z",
     "shell.execute_reply": "2022-06-01T18:26:16.188719Z",
     "shell.execute_reply.started": "2022-06-01T18:26:16.166300Z"
    }
   },
   "outputs": [
    {
     "data": {
      "text/html": [
       "<div>\n",
       "<style scoped>\n",
       "    .dataframe tbody tr th:only-of-type {\n",
       "        vertical-align: middle;\n",
       "    }\n",
       "\n",
       "    .dataframe tbody tr th {\n",
       "        vertical-align: top;\n",
       "    }\n",
       "\n",
       "    .dataframe thead th {\n",
       "        text-align: right;\n",
       "    }\n",
       "</style>\n",
       "<table border=\"1\" class=\"dataframe\">\n",
       "  <thead>\n",
       "    <tr style=\"text-align: right;\">\n",
       "      <th></th>\n",
       "      <th>path</th>\n",
       "      <th>category</th>\n",
       "      <th>class</th>\n",
       "      <th>Type Disease</th>\n",
       "    </tr>\n",
       "  </thead>\n",
       "  <tbody>\n",
       "    <tr>\n",
       "      <th>0</th>\n",
       "      <td>../input/covid19-radiography-database/COVID-19...</td>\n",
       "      <td>Chest X-RAY</td>\n",
       "      <td>0</td>\n",
       "      <td>COVID</td>\n",
       "    </tr>\n",
       "    <tr>\n",
       "      <th>1</th>\n",
       "      <td>../input/covid19-radiography-database/COVID-19...</td>\n",
       "      <td>Chest X-RAY</td>\n",
       "      <td>0</td>\n",
       "      <td>COVID</td>\n",
       "    </tr>\n",
       "    <tr>\n",
       "      <th>2</th>\n",
       "      <td>../input/covid19-radiography-database/COVID-19...</td>\n",
       "      <td>Chest X-RAY</td>\n",
       "      <td>0</td>\n",
       "      <td>COVID</td>\n",
       "    </tr>\n",
       "    <tr>\n",
       "      <th>3</th>\n",
       "      <td>../input/covid19-radiography-database/COVID-19...</td>\n",
       "      <td>Chest X-RAY</td>\n",
       "      <td>0</td>\n",
       "      <td>COVID</td>\n",
       "    </tr>\n",
       "    <tr>\n",
       "      <th>4</th>\n",
       "      <td>../input/covid19-radiography-database/COVID-19...</td>\n",
       "      <td>Chest X-RAY</td>\n",
       "      <td>0</td>\n",
       "      <td>COVID</td>\n",
       "    </tr>\n",
       "    <tr>\n",
       "      <th>...</th>\n",
       "      <td>...</td>\n",
       "      <td>...</td>\n",
       "      <td>...</td>\n",
       "      <td>...</td>\n",
       "    </tr>\n",
       "    <tr>\n",
       "      <th>26310</th>\n",
       "      <td>../input/kermany2018/OCT2017 /train/NORMAL/NOR...</td>\n",
       "      <td>Retinal OCT</td>\n",
       "      <td>4</td>\n",
       "      <td>NORMAL</td>\n",
       "    </tr>\n",
       "    <tr>\n",
       "      <th>26311</th>\n",
       "      <td>../input/kermany2018/OCT2017 /train/NORMAL/NOR...</td>\n",
       "      <td>Retinal OCT</td>\n",
       "      <td>4</td>\n",
       "      <td>NORMAL</td>\n",
       "    </tr>\n",
       "    <tr>\n",
       "      <th>26312</th>\n",
       "      <td>../input/kermany2018/OCT2017 /train/NORMAL/NOR...</td>\n",
       "      <td>Retinal OCT</td>\n",
       "      <td>4</td>\n",
       "      <td>NORMAL</td>\n",
       "    </tr>\n",
       "    <tr>\n",
       "      <th>26313</th>\n",
       "      <td>../input/kermany2018/OCT2017 /train/NORMAL/NOR...</td>\n",
       "      <td>Retinal OCT</td>\n",
       "      <td>4</td>\n",
       "      <td>NORMAL</td>\n",
       "    </tr>\n",
       "    <tr>\n",
       "      <th>26314</th>\n",
       "      <td>../input/kermany2018/OCT2017 /train/NORMAL/NOR...</td>\n",
       "      <td>Retinal OCT</td>\n",
       "      <td>4</td>\n",
       "      <td>NORMAL</td>\n",
       "    </tr>\n",
       "  </tbody>\n",
       "</table>\n",
       "<p>97125 rows × 4 columns</p>\n",
       "</div>"
      ],
      "text/plain": [
       "                                                    path     category class  \\\n",
       "0      ../input/covid19-radiography-database/COVID-19...  Chest X-RAY     0   \n",
       "1      ../input/covid19-radiography-database/COVID-19...  Chest X-RAY     0   \n",
       "2      ../input/covid19-radiography-database/COVID-19...  Chest X-RAY     0   \n",
       "3      ../input/covid19-radiography-database/COVID-19...  Chest X-RAY     0   \n",
       "4      ../input/covid19-radiography-database/COVID-19...  Chest X-RAY     0   \n",
       "...                                                  ...          ...   ...   \n",
       "26310  ../input/kermany2018/OCT2017 /train/NORMAL/NOR...  Retinal OCT     4   \n",
       "26311  ../input/kermany2018/OCT2017 /train/NORMAL/NOR...  Retinal OCT     4   \n",
       "26312  ../input/kermany2018/OCT2017 /train/NORMAL/NOR...  Retinal OCT     4   \n",
       "26313  ../input/kermany2018/OCT2017 /train/NORMAL/NOR...  Retinal OCT     4   \n",
       "26314  ../input/kermany2018/OCT2017 /train/NORMAL/NOR...  Retinal OCT     4   \n",
       "\n",
       "      Type Disease  \n",
       "0            COVID  \n",
       "1            COVID  \n",
       "2            COVID  \n",
       "3            COVID  \n",
       "4            COVID  \n",
       "...            ...  \n",
       "26310       NORMAL  \n",
       "26311       NORMAL  \n",
       "26312       NORMAL  \n",
       "26313       NORMAL  \n",
       "26314       NORMAL  \n",
       "\n",
       "[97125 rows x 4 columns]"
      ]
     },
     "execution_count": 23,
     "metadata": {},
     "output_type": "execute_result"
    }
   ],
   "source": [
    "df_All = pd.concat([df_Chest,df_Pneumonia,df_Brain_Tumor,df_Heart_Beats,df_Skin_Cancer,df_Other,df_Retinal], axis = 0)\n",
    "df_All"
   ]
  },
  {
   "cell_type": "code",
   "execution_count": 24,
   "metadata": {
    "execution": {
     "iopub.execute_input": "2022-06-01T18:26:16.193848Z",
     "iopub.status.busy": "2022-06-01T18:26:16.193608Z",
     "iopub.status.idle": "2022-06-01T18:26:16.214319Z",
     "shell.execute_reply": "2022-06-01T18:26:16.213615Z",
     "shell.execute_reply.started": "2022-06-01T18:26:16.193826Z"
    }
   },
   "outputs": [
    {
     "data": {
      "text/plain": [
       "Retinal OCT    26315\n",
       "Heart Beats    17865\n",
       "Chest X-RAY    17389\n",
       "Other          16268\n",
       "Skin Cancer    16024\n",
       "Brain Tumor     3264\n",
       "Name: category, dtype: int64"
      ]
     },
     "execution_count": 24,
     "metadata": {},
     "output_type": "execute_result"
    }
   ],
   "source": [
    "df_All['category'].value_counts()"
   ]
  },
  {
   "cell_type": "markdown",
   "metadata": {},
   "source": [
    "## Save DataSet"
   ]
  },
  {
   "cell_type": "code",
   "execution_count": 25,
   "metadata": {
    "execution": {
     "iopub.execute_input": "2022-06-01T18:26:16.216381Z",
     "iopub.status.busy": "2022-06-01T18:26:16.215490Z",
     "iopub.status.idle": "2022-06-01T18:26:16.715800Z",
     "shell.execute_reply": "2022-06-01T18:26:16.715028Z",
     "shell.execute_reply.started": "2022-06-01T18:26:16.216343Z"
    }
   },
   "outputs": [],
   "source": [
    "df_All.to_csv('DataSet_For_All.csv')"
   ]
  },
  {
   "cell_type": "markdown",
   "metadata": {},
   "source": [
    "<a id='info'></a>\n",
    "## Show Information Of DataSet"
   ]
  },
  {
   "cell_type": "markdown",
   "metadata": {},
   "source": [
    "#### Gathering Data"
   ]
  },
  {
   "cell_type": "code",
   "execution_count": 26,
   "metadata": {
    "execution": {
     "iopub.execute_input": "2022-06-01T18:26:16.717470Z",
     "iopub.status.busy": "2022-06-01T18:26:16.717000Z",
     "iopub.status.idle": "2022-06-01T18:26:16.856362Z",
     "shell.execute_reply": "2022-06-01T18:26:16.855467Z",
     "shell.execute_reply.started": "2022-06-01T18:26:16.717430Z"
    }
   },
   "outputs": [
    {
     "data": {
      "text/html": [
       "<div>\n",
       "<style scoped>\n",
       "    .dataframe tbody tr th:only-of-type {\n",
       "        vertical-align: middle;\n",
       "    }\n",
       "\n",
       "    .dataframe tbody tr th {\n",
       "        vertical-align: top;\n",
       "    }\n",
       "\n",
       "    .dataframe thead th {\n",
       "        text-align: right;\n",
       "    }\n",
       "</style>\n",
       "<table border=\"1\" class=\"dataframe\">\n",
       "  <thead>\n",
       "    <tr style=\"text-align: right;\">\n",
       "      <th></th>\n",
       "      <th>Unnamed: 0</th>\n",
       "      <th>path</th>\n",
       "      <th>category</th>\n",
       "      <th>class</th>\n",
       "      <th>Type Disease</th>\n",
       "    </tr>\n",
       "  </thead>\n",
       "  <tbody>\n",
       "    <tr>\n",
       "      <th>0</th>\n",
       "      <td>0</td>\n",
       "      <td>../input/covid19-radiography-database/COVID-19...</td>\n",
       "      <td>Chest X-RAY</td>\n",
       "      <td>0</td>\n",
       "      <td>COVID</td>\n",
       "    </tr>\n",
       "    <tr>\n",
       "      <th>1</th>\n",
       "      <td>1</td>\n",
       "      <td>../input/covid19-radiography-database/COVID-19...</td>\n",
       "      <td>Chest X-RAY</td>\n",
       "      <td>0</td>\n",
       "      <td>COVID</td>\n",
       "    </tr>\n",
       "    <tr>\n",
       "      <th>2</th>\n",
       "      <td>2</td>\n",
       "      <td>../input/covid19-radiography-database/COVID-19...</td>\n",
       "      <td>Chest X-RAY</td>\n",
       "      <td>0</td>\n",
       "      <td>COVID</td>\n",
       "    </tr>\n",
       "    <tr>\n",
       "      <th>3</th>\n",
       "      <td>3</td>\n",
       "      <td>../input/covid19-radiography-database/COVID-19...</td>\n",
       "      <td>Chest X-RAY</td>\n",
       "      <td>0</td>\n",
       "      <td>COVID</td>\n",
       "    </tr>\n",
       "    <tr>\n",
       "      <th>4</th>\n",
       "      <td>4</td>\n",
       "      <td>../input/covid19-radiography-database/COVID-19...</td>\n",
       "      <td>Chest X-RAY</td>\n",
       "      <td>0</td>\n",
       "      <td>COVID</td>\n",
       "    </tr>\n",
       "    <tr>\n",
       "      <th>5</th>\n",
       "      <td>5</td>\n",
       "      <td>../input/covid19-radiography-database/COVID-19...</td>\n",
       "      <td>Chest X-RAY</td>\n",
       "      <td>0</td>\n",
       "      <td>COVID</td>\n",
       "    </tr>\n",
       "    <tr>\n",
       "      <th>6</th>\n",
       "      <td>6</td>\n",
       "      <td>../input/covid19-radiography-database/COVID-19...</td>\n",
       "      <td>Chest X-RAY</td>\n",
       "      <td>0</td>\n",
       "      <td>COVID</td>\n",
       "    </tr>\n",
       "    <tr>\n",
       "      <th>7</th>\n",
       "      <td>7</td>\n",
       "      <td>../input/covid19-radiography-database/COVID-19...</td>\n",
       "      <td>Chest X-RAY</td>\n",
       "      <td>0</td>\n",
       "      <td>COVID</td>\n",
       "    </tr>\n",
       "    <tr>\n",
       "      <th>8</th>\n",
       "      <td>8</td>\n",
       "      <td>../input/covid19-radiography-database/COVID-19...</td>\n",
       "      <td>Chest X-RAY</td>\n",
       "      <td>0</td>\n",
       "      <td>COVID</td>\n",
       "    </tr>\n",
       "    <tr>\n",
       "      <th>9</th>\n",
       "      <td>9</td>\n",
       "      <td>../input/covid19-radiography-database/COVID-19...</td>\n",
       "      <td>Chest X-RAY</td>\n",
       "      <td>0</td>\n",
       "      <td>COVID</td>\n",
       "    </tr>\n",
       "  </tbody>\n",
       "</table>\n",
       "</div>"
      ],
      "text/plain": [
       "   Unnamed: 0                                               path     category  \\\n",
       "0           0  ../input/covid19-radiography-database/COVID-19...  Chest X-RAY   \n",
       "1           1  ../input/covid19-radiography-database/COVID-19...  Chest X-RAY   \n",
       "2           2  ../input/covid19-radiography-database/COVID-19...  Chest X-RAY   \n",
       "3           3  ../input/covid19-radiography-database/COVID-19...  Chest X-RAY   \n",
       "4           4  ../input/covid19-radiography-database/COVID-19...  Chest X-RAY   \n",
       "5           5  ../input/covid19-radiography-database/COVID-19...  Chest X-RAY   \n",
       "6           6  ../input/covid19-radiography-database/COVID-19...  Chest X-RAY   \n",
       "7           7  ../input/covid19-radiography-database/COVID-19...  Chest X-RAY   \n",
       "8           8  ../input/covid19-radiography-database/COVID-19...  Chest X-RAY   \n",
       "9           9  ../input/covid19-radiography-database/COVID-19...  Chest X-RAY   \n",
       "\n",
       "   class Type Disease  \n",
       "0      0        COVID  \n",
       "1      0        COVID  \n",
       "2      0        COVID  \n",
       "3      0        COVID  \n",
       "4      0        COVID  \n",
       "5      0        COVID  \n",
       "6      0        COVID  \n",
       "7      0        COVID  \n",
       "8      0        COVID  \n",
       "9      0        COVID  "
      ]
     },
     "execution_count": 26,
     "metadata": {},
     "output_type": "execute_result"
    }
   ],
   "source": [
    "df = pd.read_csv('DataSet_For_All.csv')\n",
    "df[:10]"
   ]
  },
  {
   "cell_type": "markdown",
   "metadata": {},
   "source": [
    "#### View information of data"
   ]
  },
  {
   "cell_type": "code",
   "execution_count": 27,
   "metadata": {
    "execution": {
     "iopub.execute_input": "2022-06-01T18:26:16.858168Z",
     "iopub.status.busy": "2022-06-01T18:26:16.857807Z",
     "iopub.status.idle": "2022-06-01T18:26:16.901558Z",
     "shell.execute_reply": "2022-06-01T18:26:16.900857Z",
     "shell.execute_reply.started": "2022-06-01T18:26:16.858132Z"
    }
   },
   "outputs": [
    {
     "name": "stdout",
     "output_type": "stream",
     "text": [
      "<class 'pandas.core.frame.DataFrame'>\n",
      "RangeIndex: 97125 entries, 0 to 97124\n",
      "Data columns (total 5 columns):\n",
      " #   Column        Non-Null Count  Dtype \n",
      "---  ------        --------------  ----- \n",
      " 0   Unnamed: 0    97125 non-null  int64 \n",
      " 1   path          97125 non-null  object\n",
      " 2   category      97125 non-null  object\n",
      " 3   class         97125 non-null  int64 \n",
      " 4   Type Disease  97125 non-null  object\n",
      "dtypes: int64(2), object(3)\n",
      "memory usage: 3.7+ MB\n"
     ]
    }
   ],
   "source": [
    "df.info()"
   ]
  },
  {
   "cell_type": "markdown",
   "metadata": {},
   "source": [
    "#### View missing data"
   ]
  },
  {
   "cell_type": "code",
   "execution_count": 28,
   "metadata": {
    "execution": {
     "iopub.execute_input": "2022-06-01T18:26:16.903503Z",
     "iopub.status.busy": "2022-06-01T18:26:16.902903Z",
     "iopub.status.idle": "2022-06-01T18:26:16.937509Z",
     "shell.execute_reply": "2022-06-01T18:26:16.936571Z",
     "shell.execute_reply.started": "2022-06-01T18:26:16.903467Z"
    }
   },
   "outputs": [
    {
     "data": {
      "text/plain": [
       "Unnamed: 0      0\n",
       "path            0\n",
       "category        0\n",
       "class           0\n",
       "Type Disease    0\n",
       "dtype: int64"
      ]
     },
     "execution_count": 28,
     "metadata": {},
     "output_type": "execute_result"
    }
   ],
   "source": [
    "df.isnull().sum()"
   ]
  },
  {
   "cell_type": "markdown",
   "metadata": {},
   "source": [
    "#### View duplicated data"
   ]
  },
  {
   "cell_type": "code",
   "execution_count": 29,
   "metadata": {
    "execution": {
     "iopub.execute_input": "2022-06-01T18:26:16.939701Z",
     "iopub.status.busy": "2022-06-01T18:26:16.939056Z",
     "iopub.status.idle": "2022-06-01T18:26:17.002403Z",
     "shell.execute_reply": "2022-06-01T18:26:17.001550Z",
     "shell.execute_reply.started": "2022-06-01T18:26:16.939658Z"
    }
   },
   "outputs": [
    {
     "data": {
      "text/plain": [
       "0"
      ]
     },
     "execution_count": 29,
     "metadata": {},
     "output_type": "execute_result"
    }
   ],
   "source": [
    "sum(df.duplicated())"
   ]
  },
  {
   "cell_type": "markdown",
   "metadata": {
    "execution": {
     "iopub.execute_input": "2022-05-31T19:08:06.969406Z",
     "iopub.status.busy": "2022-05-31T19:08:06.968881Z",
     "iopub.status.idle": "2022-05-31T19:08:06.97441Z",
     "shell.execute_reply": "2022-05-31T19:08:06.973301Z",
     "shell.execute_reply.started": "2022-05-31T19:08:06.969357Z"
    }
   },
   "source": [
    "#### View unique data"
   ]
  },
  {
   "cell_type": "code",
   "execution_count": 30,
   "metadata": {
    "execution": {
     "iopub.execute_input": "2022-06-01T18:26:17.004302Z",
     "iopub.status.busy": "2022-06-01T18:26:17.003444Z",
     "iopub.status.idle": "2022-06-01T18:26:17.011161Z",
     "shell.execute_reply": "2022-06-01T18:26:17.010218Z",
     "shell.execute_reply.started": "2022-06-01T18:26:17.004250Z"
    }
   },
   "outputs": [
    {
     "data": {
      "text/plain": [
       "array([0, 1, 2, 3, 5, 4])"
      ]
     },
     "execution_count": 30,
     "metadata": {},
     "output_type": "execute_result"
    }
   ],
   "source": [
    "df['class'].unique()"
   ]
  },
  {
   "cell_type": "code",
   "execution_count": 31,
   "metadata": {
    "execution": {
     "iopub.execute_input": "2022-06-01T18:26:17.013439Z",
     "iopub.status.busy": "2022-06-01T18:26:17.012586Z",
     "iopub.status.idle": "2022-06-01T18:26:17.027840Z",
     "shell.execute_reply": "2022-06-01T18:26:17.027141Z",
     "shell.execute_reply.started": "2022-06-01T18:26:17.013404Z"
    }
   },
   "outputs": [
    {
     "data": {
      "text/plain": [
       "array(['Chest X-RAY', 'Brain Tumor', 'Heart Beats', 'Skin Cancer',\n",
       "       'Other', 'Retinal OCT'], dtype=object)"
      ]
     },
     "execution_count": 31,
     "metadata": {},
     "output_type": "execute_result"
    }
   ],
   "source": [
    "df['category'].unique()"
   ]
  },
  {
   "cell_type": "code",
   "execution_count": 32,
   "metadata": {
    "execution": {
     "iopub.execute_input": "2022-06-01T18:26:17.029213Z",
     "iopub.status.busy": "2022-06-01T18:26:17.028817Z",
     "iopub.status.idle": "2022-06-01T18:26:17.042740Z",
     "shell.execute_reply": "2022-06-01T18:26:17.041635Z",
     "shell.execute_reply.started": "2022-06-01T18:26:17.029171Z"
    }
   },
   "outputs": [
    {
     "data": {
      "text/plain": [
       "array(['COVID', 'Normal', 'Lung_Opacity', 'Bacteria', 'Virus', 'no_tumor',\n",
       "       'pituitary_tumor', 'meningioma_tumor', 'glioma_tumor', 'Unknown',\n",
       "       'Fusion', 'Supraventricular', 'Ventricular', 'Melanocytic Nevi',\n",
       "       'Melanoma', 'Basal Cell Carcinoma', 'Benign Keratosis Like',\n",
       "       'Dermatofibroma', 'Actinic keratoses', 'Vascular Lesions', 'Other',\n",
       "       'NORMAL'], dtype=object)"
      ]
     },
     "execution_count": 32,
     "metadata": {},
     "output_type": "execute_result"
    }
   ],
   "source": [
    "df['Type Disease'].unique()"
   ]
  },
  {
   "cell_type": "markdown",
   "metadata": {},
   "source": [
    "<a id='eda'></a>\n",
    "## Exploratory Data Analysis"
   ]
  },
  {
   "cell_type": "markdown",
   "metadata": {},
   "source": [
    "###  Question 1 : Which Category has a number of recurrences more?"
   ]
  },
  {
   "cell_type": "markdown",
   "metadata": {},
   "source": [
    "we will create a list of the type to find the recurrences for each category"
   ]
  },
  {
   "cell_type": "code",
   "execution_count": 33,
   "metadata": {
    "execution": {
     "iopub.execute_input": "2022-06-01T18:26:17.044321Z",
     "iopub.status.busy": "2022-06-01T18:26:17.043922Z",
     "iopub.status.idle": "2022-06-01T18:26:17.136887Z",
     "shell.execute_reply": "2022-06-01T18:26:17.136271Z",
     "shell.execute_reply.started": "2022-06-01T18:26:17.044287Z"
    }
   },
   "outputs": [],
   "source": [
    "list_type = df['category'].unique()  #list of category\n",
    "dict_type = {}\n",
    "for category in list_type:\n",
    "    count = len(df[df['category'] == category])\n",
    "    dict_type[category]= count"
   ]
  },
  {
   "cell_type": "code",
   "execution_count": 34,
   "metadata": {
    "execution": {
     "iopub.execute_input": "2022-06-01T18:26:17.139624Z",
     "iopub.status.busy": "2022-06-01T18:26:17.138979Z",
     "iopub.status.idle": "2022-06-01T18:26:17.146325Z",
     "shell.execute_reply": "2022-06-01T18:26:17.145627Z",
     "shell.execute_reply.started": "2022-06-01T18:26:17.139582Z"
    }
   },
   "outputs": [
    {
     "data": {
      "text/plain": [
       "{'Chest X-RAY': 17389,\n",
       " 'Brain Tumor': 3264,\n",
       " 'Heart Beats': 17865,\n",
       " 'Skin Cancer': 16024,\n",
       " 'Other': 16268,\n",
       " 'Retinal OCT': 26315}"
      ]
     },
     "execution_count": 34,
     "metadata": {},
     "output_type": "execute_result"
    }
   ],
   "source": [
    "dict_type"
   ]
  },
  {
   "cell_type": "code",
   "execution_count": 35,
   "metadata": {
    "execution": {
     "iopub.execute_input": "2022-06-01T18:26:17.148538Z",
     "iopub.status.busy": "2022-06-01T18:26:17.148272Z",
     "iopub.status.idle": "2022-06-01T18:26:17.158138Z",
     "shell.execute_reply": "2022-06-01T18:26:17.157117Z",
     "shell.execute_reply.started": "2022-06-01T18:26:17.148515Z"
    }
   },
   "outputs": [
    {
     "data": {
      "text/plain": [
       "('Retinal OCT', 26315)"
      ]
     },
     "execution_count": 35,
     "metadata": {},
     "output_type": "execute_result"
    }
   ],
   "source": [
    "# to extract category by using high recurrences\n",
    "high_category = max(dict_type.values())\n",
    "type_cat = ''\n",
    "for types , count in dict_type.items():\n",
    "    if high_category == count:\n",
    "        type_cat = types\n",
    "        break\n",
    "        \n",
    "type_cat , high_category"
   ]
  },
  {
   "cell_type": "code",
   "execution_count": 36,
   "metadata": {
    "execution": {
     "iopub.execute_input": "2022-06-01T18:26:17.160280Z",
     "iopub.status.busy": "2022-06-01T18:26:17.159647Z",
     "iopub.status.idle": "2022-06-01T18:26:17.378554Z",
     "shell.execute_reply": "2022-06-01T18:26:17.377848Z",
     "shell.execute_reply.started": "2022-06-01T18:26:17.160223Z"
    }
   },
   "outputs": [
    {
     "data": {
      "image/png": "[encoded data removed]",
      "text/plain": [
       "<Figure size 1152x648 with 1 Axes>"
      ]
     },
     "metadata": {
      "needs_background": "light"
     },
     "output_type": "display_data"
    }
   ],
   "source": [
    "fig, ax =  plt.subplots(figsize =(16, 9)) \n",
    "ax.set_title('Visual between Category and Recurrence')\n",
    "plt.xlabel('Category')\n",
    "plt.ylabel('Recurrence')\n",
    "dict_type = dict(sorted(dict_type.items(), key=lambda item: item[1],reverse=True))\n",
    "dict_seaborn ={}\n",
    "for category , count in dict_type.items():\n",
    "    dict_seaborn[category] =count\n",
    "seaborn.barplot(x=list(dict_seaborn.keys()),y=list(dict_seaborn.values()))\n",
    "plt.show()"
   ]
  },
  {
   "cell_type": "code",
   "execution_count": 37,
   "metadata": {
    "execution": {
     "iopub.execute_input": "2022-06-01T18:26:17.380223Z",
     "iopub.status.busy": "2022-06-01T18:26:17.379739Z",
     "iopub.status.idle": "2022-06-01T18:26:17.574752Z",
     "shell.execute_reply": "2022-06-01T18:26:17.573914Z",
     "shell.execute_reply.started": "2022-06-01T18:26:17.380185Z"
    }
   },
   "outputs": [
    {
     "data": {
      "image/png": "[encoded data removed]",
      "text/plain": [
       "<Figure size 1152x648 with 1 Axes>"
      ]
     },
     "metadata": {},
     "output_type": "display_data"
    }
   ],
   "source": [
    "plt.subplots(figsize =(16, 9)) \n",
    "plt.title('Visual between Category and Recurrence')\n",
    "labels = dict_seaborn.keys()\n",
    "sizes = dict_seaborn.values()\n",
    "plt.pie(sizes, labels=labels, autopct='%1.1f%%', shadow=True, startangle=140)\n",
    "plt.axis('equal')\n",
    "plt.show()"
   ]
  },
  {
   "cell_type": "code",
   "execution_count": 38,
   "metadata": {
    "execution": {
     "iopub.execute_input": "2022-06-01T18:26:17.576482Z",
     "iopub.status.busy": "2022-06-01T18:26:17.576007Z",
     "iopub.status.idle": "2022-06-01T18:26:17.583173Z",
     "shell.execute_reply": "2022-06-01T18:26:17.582269Z",
     "shell.execute_reply.started": "2022-06-01T18:26:17.576445Z"
    }
   },
   "outputs": [
    {
     "name": "stdout",
     "output_type": "stream",
     "text": [
      "Answer :It becomes clear to us that the category owner of the highest recurrence is Retinal OCT which amounts to his recurrence 26315 .\n"
     ]
    }
   ],
   "source": [
    "print(\"Answer :It becomes clear to us that the category owner of the highest recurrence is \"+list(dict_type.keys())[0]+\" which amounts to his recurrence {} .\".format(list(dict_type.values())[0]))"
   ]
  },
  {
   "cell_type": "code",
   "execution_count": 39,
   "metadata": {
    "execution": {
     "iopub.execute_input": "2022-06-01T18:26:17.585125Z",
     "iopub.status.busy": "2022-06-01T18:26:17.584201Z",
     "iopub.status.idle": "2022-06-01T18:26:17.846835Z",
     "shell.execute_reply": "2022-06-01T18:26:17.846095Z",
     "shell.execute_reply.started": "2022-06-01T18:26:17.585087Z"
    }
   },
   "outputs": [
    {
     "name": "stderr",
     "output_type": "stream",
     "text": [
      "/opt/conda/lib/python3.7/site-packages/ipykernel_launcher.py:17: MatplotlibDeprecationWarning: The 'b' parameter of grid() has been renamed 'visible' since Matplotlib 3.5; support for the old name will be dropped two minor releases later.\n",
      "  app.launch_new_instance()\n"
     ]
    },
    {
     "data": {
      "image/png": "[encoded data removed]",
      "text/plain": [
       "<Figure size 1152x648 with 1 Axes>"
      ]
     },
     "metadata": {
      "needs_background": "light"
     },
     "output_type": "display_data"
    }
   ],
   "source": [
    "category = list(dict_seaborn.keys())\n",
    "count = list(dict_seaborn.values())\n",
    "  \n",
    "fig, ax = plt.subplots(figsize =(16, 9)) \n",
    "ax.barh(category, count) \n",
    "  \n",
    "for s in ['top', 'bottom', 'left', 'right']: \n",
    "    ax.spines[s].set_visible(False) \n",
    "ax.xaxis.set_ticks_position('none') \n",
    "ax.yaxis.set_ticks_position('none') \n",
    "  \n",
    "ax.xaxis.set_tick_params(pad = 5) \n",
    "ax.yaxis.set_tick_params(pad = 10) \n",
    "  \n",
    "ax.grid(b = True, color ='black', \n",
    "        linestyle ='-.', linewidth = 0.5, \n",
    "        alpha = 0.2) \n",
    "\n",
    "ax.invert_yaxis() \n",
    "  \n",
    "for i in ax.patches: \n",
    "    plt.text(i.get_width()+0.2, i.get_y()+0.5,  \n",
    "             str(round((i.get_width()), 2)), \n",
    "             fontsize = 15, fontweight ='bold', \n",
    "             color ='grey') \n",
    "plt.xlabel('Recurrence')\n",
    "plt.ylabel('Category')\n",
    "ax.set_title('Visual between Category and Recurrence', fontsize=20)\n",
    "# Show Plot \n",
    "plt.show(); "
   ]
  },
  {
   "cell_type": "markdown",
   "metadata": {},
   "source": [
    "<a id='pre'></a>\n",
    "## Preprocessing DataSet"
   ]
  },
  {
   "cell_type": "code",
   "execution_count": 40,
   "metadata": {
    "execution": {
     "iopub.execute_input": "2022-06-01T18:26:17.848300Z",
     "iopub.status.busy": "2022-06-01T18:26:17.847876Z",
     "iopub.status.idle": "2022-06-01T18:26:17.863061Z",
     "shell.execute_reply": "2022-06-01T18:26:17.862436Z",
     "shell.execute_reply.started": "2022-06-01T18:26:17.848249Z"
    }
   },
   "outputs": [],
   "source": [
    "df_chest = df[df['class'] == 0]\n",
    "df_brain = df[df['class'] == 1]\n",
    "df_heart = df[df['class'] == 2]\n",
    "df_skin = df[df['class'] == 3]\n",
    "df_retinal = df[df['class'] == 4]\n",
    "df_other = df[df['class'] == 5]"
   ]
  },
  {
   "cell_type": "markdown",
   "metadata": {},
   "source": [
    "## We will split each of dataframe to three dataframe ( Train , Validate , Test)\n",
    "#### Train 70%\n",
    "#### Valid 20%\n",
    "#### Test 10%"
   ]
  },
  {
   "cell_type": "markdown",
   "metadata": {},
   "source": [
    "### We will split data of Chest"
   ]
  },
  {
   "cell_type": "code",
   "execution_count": 41,
   "metadata": {
    "execution": {
     "iopub.execute_input": "2022-06-01T18:26:17.864562Z",
     "iopub.status.busy": "2022-06-01T18:26:17.864139Z",
     "iopub.status.idle": "2022-06-01T18:26:17.881662Z",
     "shell.execute_reply": "2022-06-01T18:26:17.881003Z",
     "shell.execute_reply.started": "2022-06-01T18:26:17.864526Z"
    }
   },
   "outputs": [],
   "source": [
    "# data of Chest\n",
    "df_chest_old = df_chest\n",
    "validate_df_chest = df_chest.sample(frac = 0.2)\n",
    "train_df_chest = df_chest.drop(validate_df_chest.index)\n",
    "validate_df_chest = validate_df_chest.reset_index()\n",
    "train_df_chest = train_df_chest.reset_index()\n",
    "\n",
    "test_df_chest = train_df_chest.sample(frac = 0.1)\n",
    "train_df_chest = train_df_chest.drop(test_df_chest.index)\n",
    "test_df_chest= test_df_chest.reset_index()\n",
    "train_df_chest = train_df_chest.reset_index()"
   ]
  },
  {
   "cell_type": "code",
   "execution_count": 42,
   "metadata": {
    "execution": {
     "iopub.execute_input": "2022-06-01T18:26:17.883100Z",
     "iopub.status.busy": "2022-06-01T18:26:17.882707Z",
     "iopub.status.idle": "2022-06-01T18:26:17.889102Z",
     "shell.execute_reply": "2022-06-01T18:26:17.888241Z",
     "shell.execute_reply.started": "2022-06-01T18:26:17.883064Z"
    }
   },
   "outputs": [
    {
     "data": {
      "text/plain": [
       "(17389, 12520, 3478, 1391)"
      ]
     },
     "execution_count": 42,
     "metadata": {},
     "output_type": "execute_result"
    }
   ],
   "source": [
    "len(df_chest_old) , len(train_df_chest) , len(validate_df_chest) ,len(test_df_chest)"
   ]
  },
  {
   "cell_type": "markdown",
   "metadata": {},
   "source": [
    "### We will split data of Brain Tumor"
   ]
  },
  {
   "cell_type": "code",
   "execution_count": 43,
   "metadata": {
    "execution": {
     "iopub.execute_input": "2022-06-01T18:26:17.891193Z",
     "iopub.status.busy": "2022-06-01T18:26:17.890136Z",
     "iopub.status.idle": "2022-06-01T18:26:17.903931Z",
     "shell.execute_reply": "2022-06-01T18:26:17.903298Z",
     "shell.execute_reply.started": "2022-06-01T18:26:17.891156Z"
    }
   },
   "outputs": [],
   "source": [
    "# data of Brain Tumor\n",
    "df_brain_old = df_brain\n",
    "validate_df_brain = df_brain.sample(frac = 0.2)\n",
    "train_df_brain = df_brain.drop(validate_df_brain.index)\n",
    "validate_df_brain = validate_df_brain.reset_index()\n",
    "train_df_brain = train_df_brain.reset_index()\n",
    "\n",
    "test_df_brain = train_df_brain.sample(frac = 0.1)\n",
    "train_df_brain = train_df_brain.drop(test_df_brain.index)\n",
    "test_df_brain= test_df_brain.reset_index()\n",
    "train_df_brain = train_df_brain.reset_index()"
   ]
  },
  {
   "cell_type": "code",
   "execution_count": 44,
   "metadata": {
    "execution": {
     "iopub.execute_input": "2022-06-01T18:26:17.905438Z",
     "iopub.status.busy": "2022-06-01T18:26:17.905088Z",
     "iopub.status.idle": "2022-06-01T18:26:17.911351Z",
     "shell.execute_reply": "2022-06-01T18:26:17.910488Z",
     "shell.execute_reply.started": "2022-06-01T18:26:17.905405Z"
    }
   },
   "outputs": [
    {
     "data": {
      "text/plain": [
       "(3264, 2350, 653, 261)"
      ]
     },
     "execution_count": 44,
     "metadata": {},
     "output_type": "execute_result"
    }
   ],
   "source": [
    "len(df_brain_old) , len(train_df_brain) , len(validate_df_brain) ,len(test_df_brain)"
   ]
  },
  {
   "cell_type": "markdown",
   "metadata": {},
   "source": [
    "### We will split data of Heart Beats"
   ]
  },
  {
   "cell_type": "code",
   "execution_count": 45,
   "metadata": {
    "execution": {
     "iopub.execute_input": "2022-06-01T18:26:17.913777Z",
     "iopub.status.busy": "2022-06-01T18:26:17.913066Z",
     "iopub.status.idle": "2022-06-01T18:26:17.931297Z",
     "shell.execute_reply": "2022-06-01T18:26:17.930655Z",
     "shell.execute_reply.started": "2022-06-01T18:26:17.913740Z"
    }
   },
   "outputs": [],
   "source": [
    "# data of Heart Beats\n",
    "df_heart_old = df_heart\n",
    "validate_df_heart= df_heart.sample(frac = 0.2)\n",
    "train_df_heart= df_heart.drop(validate_df_heart.index)\n",
    "validate_df_heart = validate_df_heart.reset_index()\n",
    "train_df_heart = train_df_heart.reset_index()\n",
    "\n",
    "test_df_heart = train_df_heart.sample(frac = 0.1)\n",
    "train_df_heart = train_df_heart.drop(test_df_heart.index)\n",
    "test_df_heart= test_df_heart.reset_index()\n",
    "train_df_heart = train_df_heart.reset_index()"
   ]
  },
  {
   "cell_type": "code",
   "execution_count": 46,
   "metadata": {
    "execution": {
     "iopub.execute_input": "2022-06-01T18:26:17.932812Z",
     "iopub.status.busy": "2022-06-01T18:26:17.932479Z",
     "iopub.status.idle": "2022-06-01T18:26:17.938388Z",
     "shell.execute_reply": "2022-06-01T18:26:17.937589Z",
     "shell.execute_reply.started": "2022-06-01T18:26:17.932779Z"
    }
   },
   "outputs": [
    {
     "data": {
      "text/plain": [
       "(17865, 12863, 3573, 1429)"
      ]
     },
     "execution_count": 46,
     "metadata": {},
     "output_type": "execute_result"
    }
   ],
   "source": [
    "len(df_heart_old) , len(train_df_heart) , len(validate_df_heart) ,len(test_df_heart)"
   ]
  },
  {
   "cell_type": "markdown",
   "metadata": {},
   "source": [
    "### We will split data of Skin Cancer"
   ]
  },
  {
   "cell_type": "code",
   "execution_count": 47,
   "metadata": {
    "execution": {
     "iopub.execute_input": "2022-06-01T18:26:17.940534Z",
     "iopub.status.busy": "2022-06-01T18:26:17.939902Z",
     "iopub.status.idle": "2022-06-01T18:26:17.958741Z",
     "shell.execute_reply": "2022-06-01T18:26:17.958093Z",
     "shell.execute_reply.started": "2022-06-01T18:26:17.940498Z"
    }
   },
   "outputs": [],
   "source": [
    "# data of Heart Beats\n",
    "df_skin_old = df_skin\n",
    "validate_df_skin = df_skin.sample(frac = 0.2)\n",
    "train_df_skin= df_skin.drop(validate_df_skin.index)\n",
    "validate_df_skin = validate_df_skin.reset_index()\n",
    "train_df_skin = train_df_skin.reset_index()\n",
    "\n",
    "test_df_skin = train_df_skin.sample(frac = 0.1)\n",
    "train_df_skin = train_df_skin.drop(test_df_skin.index)\n",
    "test_df_skin = test_df_skin.reset_index()\n",
    "train_df_skin = train_df_skin.reset_index()"
   ]
  },
  {
   "cell_type": "code",
   "execution_count": 48,
   "metadata": {
    "execution": {
     "iopub.execute_input": "2022-06-01T18:26:17.960198Z",
     "iopub.status.busy": "2022-06-01T18:26:17.959875Z",
     "iopub.status.idle": "2022-06-01T18:26:17.966684Z",
     "shell.execute_reply": "2022-06-01T18:26:17.965758Z",
     "shell.execute_reply.started": "2022-06-01T18:26:17.960164Z"
    }
   },
   "outputs": [
    {
     "data": {
      "text/plain": [
       "(16024, 11537, 3205, 1282)"
      ]
     },
     "execution_count": 48,
     "metadata": {},
     "output_type": "execute_result"
    }
   ],
   "source": [
    "len(df_skin_old) , len(train_df_skin) , len(validate_df_skin) ,len(test_df_skin)"
   ]
  },
  {
   "cell_type": "markdown",
   "metadata": {},
   "source": [
    "### We will split data of Retinal"
   ]
  },
  {
   "cell_type": "code",
   "execution_count": 49,
   "metadata": {
    "execution": {
     "iopub.execute_input": "2022-06-01T18:26:17.968798Z",
     "iopub.status.busy": "2022-06-01T18:26:17.968097Z",
     "iopub.status.idle": "2022-06-01T18:26:17.991240Z",
     "shell.execute_reply": "2022-06-01T18:26:17.990421Z",
     "shell.execute_reply.started": "2022-06-01T18:26:17.968760Z"
    }
   },
   "outputs": [],
   "source": [
    "# data of retinal\n",
    "df_retinal_old = df_retinal\n",
    "validate_df_retinal = df_retinal.sample(frac = 0.2)\n",
    "train_df_retinal= df_retinal.drop(validate_df_retinal.index)\n",
    "validate_df_retinal = validate_df_retinal.reset_index()\n",
    "train_df_retinal = train_df_retinal.reset_index()\n",
    "\n",
    "test_df_retinal = train_df_retinal.sample(frac = 0.1)\n",
    "train_df_retinal = train_df_retinal.drop(test_df_retinal.index)\n",
    "test_df_retinal = test_df_retinal.reset_index()\n",
    "train_df_retinal= train_df_retinal.reset_index()"
   ]
  },
  {
   "cell_type": "code",
   "execution_count": 50,
   "metadata": {
    "execution": {
     "iopub.execute_input": "2022-06-01T18:26:17.993036Z",
     "iopub.status.busy": "2022-06-01T18:26:17.992625Z",
     "iopub.status.idle": "2022-06-01T18:26:18.001313Z",
     "shell.execute_reply": "2022-06-01T18:26:18.000176Z",
     "shell.execute_reply.started": "2022-06-01T18:26:17.992996Z"
    }
   },
   "outputs": [
    {
     "data": {
      "text/plain": [
       "(26315, 18947, 5263, 2105)"
      ]
     },
     "execution_count": 50,
     "metadata": {},
     "output_type": "execute_result"
    }
   ],
   "source": [
    "len(df_retinal_old) , len(train_df_retinal) , len(validate_df_retinal) ,len(test_df_retinal)"
   ]
  },
  {
   "cell_type": "markdown",
   "metadata": {},
   "source": [
    "### We will split data of Other"
   ]
  },
  {
   "cell_type": "code",
   "execution_count": 51,
   "metadata": {
    "execution": {
     "iopub.execute_input": "2022-06-01T18:26:18.004117Z",
     "iopub.status.busy": "2022-06-01T18:26:18.003274Z",
     "iopub.status.idle": "2022-06-01T18:26:18.023152Z",
     "shell.execute_reply": "2022-06-01T18:26:18.022173Z",
     "shell.execute_reply.started": "2022-06-01T18:26:18.004072Z"
    }
   },
   "outputs": [],
   "source": [
    "# data of Other\n",
    "df_other_old = df_other\n",
    "validate_df_other = df_other.sample(frac = 0.2)\n",
    "train_df_other= df_other.drop(validate_df_other.index)\n",
    "validate_df_other = validate_df_other.reset_index()\n",
    "train_df_other = train_df_other.reset_index()\n",
    "\n",
    "test_df_other = train_df_other.sample(frac = 0.1)\n",
    "train_df_other = train_df_other.drop(test_df_other.index)\n",
    "test_df_other = test_df_other.reset_index()\n",
    "train_df_other = train_df_other.reset_index()"
   ]
  },
  {
   "cell_type": "code",
   "execution_count": 52,
   "metadata": {
    "execution": {
     "iopub.execute_input": "2022-06-01T18:26:18.025199Z",
     "iopub.status.busy": "2022-06-01T18:26:18.024773Z",
     "iopub.status.idle": "2022-06-01T18:26:18.032911Z",
     "shell.execute_reply": "2022-06-01T18:26:18.031529Z",
     "shell.execute_reply.started": "2022-06-01T18:26:18.025156Z"
    }
   },
   "outputs": [
    {
     "data": {
      "text/plain": [
       "(16268, 11713, 3254, 1301)"
      ]
     },
     "execution_count": 52,
     "metadata": {},
     "output_type": "execute_result"
    }
   ],
   "source": [
    "len(df_other_old) , len(train_df_other) , len(validate_df_other) ,len(test_df_other)"
   ]
  },
  {
   "cell_type": "markdown",
   "metadata": {},
   "source": [
    "<a id='save'></a>\n",
    "##  Save DataSet After Preprocessing"
   ]
  },
  {
   "cell_type": "code",
   "execution_count": 53,
   "metadata": {
    "execution": {
     "iopub.execute_input": "2022-06-01T18:26:18.036016Z",
     "iopub.status.busy": "2022-06-01T18:26:18.034896Z",
     "iopub.status.idle": "2022-06-01T18:26:20.068927Z",
     "shell.execute_reply": "2022-06-01T18:26:20.067842Z",
     "shell.execute_reply.started": "2022-06-01T18:26:18.035968Z"
    }
   },
   "outputs": [],
   "source": [
    "!mkdir TRAIN  TRAIN/Chest TRAIN/SkinCancer TRAIN/HeartBeats TRAIN/BrainTumor TRAIN/Retinal  TRAIN/Other\n",
    "!mkdir VAL  VAL/Chest VAL/SkinCancer VAL/HeartBeats VAL/BrainTumor VAL/Retinal   VAL/Other\n",
    "!mkdir TEST  TEST/Chest TEST/SkinCancer TEST/HeartBeats TEST/BrainTumor TEST/Retinal   TEST/Other"
   ]
  },
  {
   "cell_type": "code",
   "execution_count": 54,
   "metadata": {
    "execution": {
     "iopub.execute_input": "2022-06-01T18:26:20.071128Z",
     "iopub.status.busy": "2022-06-01T18:26:20.070735Z",
     "iopub.status.idle": "2022-06-01T18:26:20.076875Z",
     "shell.execute_reply": "2022-06-01T18:26:20.076096Z",
     "shell.execute_reply.started": "2022-06-01T18:26:20.071088Z"
    }
   },
   "outputs": [],
   "source": [
    "IMG_SIZE = (300,300)\n",
    "def process_save_img(size,full_path_img,name_image,new_folder):\n",
    "    img = cv2.imread(full_path_img)\n",
    "    img = cv2.resize(img,dsize=IMG_SIZE,interpolation=cv2.INTER_CUBIC)\n",
    "    cv2.imwrite(new_folder+'/'+name_image, img)"
   ]
  },
  {
   "cell_type": "code",
   "execution_count": 55,
   "metadata": {
    "execution": {
     "iopub.execute_input": "2022-06-01T18:26:20.079088Z",
     "iopub.status.busy": "2022-06-01T18:26:20.078529Z",
     "iopub.status.idle": "2022-06-01T18:48:30.102826Z",
     "shell.execute_reply": "2022-06-01T18:48:30.101940Z",
     "shell.execute_reply.started": "2022-06-01T18:26:20.079051Z"
    }
   },
   "outputs": [
    {
     "name": "stderr",
     "output_type": "stream",
     "text": [
      "100%|██████████| 12520/12520 [03:01<00:00, 68.93it/s]\n"
     ]
    },
    {
     "name": "stdout",
     "output_type": "stream",
     "text": [
      "finish TRAIN/Chest\n"
     ]
    },
    {
     "name": "stderr",
     "output_type": "stream",
     "text": [
      "100%|██████████| 3478/3478 [00:50<00:00, 69.32it/s]\n"
     ]
    },
    {
     "name": "stdout",
     "output_type": "stream",
     "text": [
      "finish VAL/Chest\n"
     ]
    },
    {
     "name": "stderr",
     "output_type": "stream",
     "text": [
      "100%|██████████| 1391/1391 [00:20<00:00, 69.14it/s]\n"
     ]
    },
    {
     "name": "stdout",
     "output_type": "stream",
     "text": [
      "finish TEST/Chest\n"
     ]
    },
    {
     "name": "stderr",
     "output_type": "stream",
     "text": [
      "100%|██████████| 2350/2350 [00:24<00:00, 97.11it/s] \n"
     ]
    },
    {
     "name": "stdout",
     "output_type": "stream",
     "text": [
      "finish TRAIN/BrainTumor\n"
     ]
    },
    {
     "name": "stderr",
     "output_type": "stream",
     "text": [
      "100%|██████████| 653/653 [00:06<00:00, 96.04it/s] \n"
     ]
    },
    {
     "name": "stdout",
     "output_type": "stream",
     "text": [
      "finish VAL/BrainTumor\n"
     ]
    },
    {
     "name": "stderr",
     "output_type": "stream",
     "text": [
      "100%|██████████| 261/261 [00:02<00:00, 100.58it/s]\n"
     ]
    },
    {
     "name": "stdout",
     "output_type": "stream",
     "text": [
      "finish TEST/BrainTumor\n"
     ]
    },
    {
     "name": "stderr",
     "output_type": "stream",
     "text": [
      "100%|██████████| 12863/12863 [01:32<00:00, 138.33it/s]\n"
     ]
    },
    {
     "name": "stdout",
     "output_type": "stream",
     "text": [
      "finish TRAIN/HeartBeats\n"
     ]
    },
    {
     "name": "stderr",
     "output_type": "stream",
     "text": [
      "100%|██████████| 3573/3573 [00:26<00:00, 136.45it/s]\n"
     ]
    },
    {
     "name": "stdout",
     "output_type": "stream",
     "text": [
      "finish VAL/HeartBeats\n"
     ]
    },
    {
     "name": "stderr",
     "output_type": "stream",
     "text": [
      "100%|██████████| 1429/1429 [00:10<00:00, 139.76it/s]\n"
     ]
    },
    {
     "name": "stdout",
     "output_type": "stream",
     "text": [
      "finish TEST/HeartBeats\n"
     ]
    },
    {
     "name": "stderr",
     "output_type": "stream",
     "text": [
      "100%|██████████| 11537/11537 [03:31<00:00, 54.46it/s]\n"
     ]
    },
    {
     "name": "stdout",
     "output_type": "stream",
     "text": [
      "finish TRAIN/SkinCancer\n"
     ]
    },
    {
     "name": "stderr",
     "output_type": "stream",
     "text": [
      "100%|██████████| 3205/3205 [00:57<00:00, 55.93it/s]\n"
     ]
    },
    {
     "name": "stdout",
     "output_type": "stream",
     "text": [
      "finish VAL/SkinCancer\n"
     ]
    },
    {
     "name": "stderr",
     "output_type": "stream",
     "text": [
      "100%|██████████| 1282/1282 [00:23<00:00, 55.59it/s]\n"
     ]
    },
    {
     "name": "stdout",
     "output_type": "stream",
     "text": [
      "finish TEST/SkinCancer\n"
     ]
    },
    {
     "name": "stderr",
     "output_type": "stream",
     "text": [
      "100%|██████████| 5263/5263 [01:03<00:00, 82.63it/s]s]\n"
     ]
    },
    {
     "name": "stdout",
     "output_type": "stream",
     "text": [
      "finish VAL/Retinal\n"
     ]
    },
    {
     "name": "stderr",
     "output_type": "stream",
     "text": [
      "100%|██████████| 2105/2105 [00:25<00:00, 82.95it/s]\n"
     ]
    },
    {
     "name": "stdout",
     "output_type": "stream",
     "text": [
      "finish TEST/Retinal\n"
     ]
    },
    {
     "name": "stderr",
     "output_type": "stream",
     "text": [
      "100%|██████████| 11713/11713 [03:50<00:00, 50.83it/s]\n"
     ]
    },
    {
     "name": "stdout",
     "output_type": "stream",
     "text": [
      "finish TRAIN/Other\n"
     ]
    },
    {
     "name": "stderr",
     "output_type": "stream",
     "text": [
      "100%|██████████| 3254/3254 [00:53<00:00, 60.86it/s]\n"
     ]
    },
    {
     "name": "stdout",
     "output_type": "stream",
     "text": [
      "finish VAL/Other\n"
     ]
    },
    {
     "name": "stderr",
     "output_type": "stream",
     "text": [
      "100%|██████████| 1301/1301 [00:21<00:00, 59.62it/s]"
     ]
    },
    {
     "name": "stdout",
     "output_type": "stream",
     "text": [
      "finish TEST/Other\n"
     ]
    },
    {
     "name": "stderr",
     "output_type": "stream",
     "text": [
      "\n"
     ]
    }
   ],
   "source": [
    "#DataSet Chest\n",
    "for filename in tqdm(train_df_chest['path']):\n",
    "        name_image = filename.split('/')[-1]\n",
    "        process_save_img(IMG_SIZE,filename,name_image,'TRAIN/Chest')\n",
    "print('finish TRAIN/Chest')\n",
    "for filename in tqdm(validate_df_chest['path']):\n",
    "        name_image = filename.split('/')[-1]\n",
    "        process_save_img(IMG_SIZE,filename,name_image,'VAL/Chest')\n",
    "print('finish VAL/Chest')\n",
    "for filename in tqdm(test_df_chest['path']):\n",
    "        name_image = filename.split('/')[-1]\n",
    "        process_save_img(IMG_SIZE,filename,name_image,'TEST/Chest')\n",
    "print('finish TEST/Chest')\n",
    "\n",
    "\n",
    "#DataSet BrainTumor\n",
    "for filename in tqdm(train_df_brain['path']):\n",
    "        name_image = filename.split('/')[-1]\n",
    "        process_save_img(IMG_SIZE,filename,name_image,'TRAIN/BrainTumor')\n",
    "print('finish TRAIN/BrainTumor')\n",
    "for filename in tqdm(validate_df_brain['path']):\n",
    "        name_image = filename.split('/')[-1]\n",
    "        process_save_img(IMG_SIZE,filename,name_image,'VAL/BrainTumor')\n",
    "print('finish VAL/BrainTumor')\n",
    "for filename in tqdm(test_df_brain['path']):\n",
    "        name_image = filename.split('/')[-1]\n",
    "        process_save_img(IMG_SIZE,filename,name_image,'TEST/BrainTumor')\n",
    "print('finish TEST/BrainTumor')\n",
    "\n",
    "\n",
    "#DataSet HeartBeats\n",
    "for filename in tqdm(train_df_heart['path']):\n",
    "        name_image = filename.split('/')[-1]\n",
    "        process_save_img(IMG_SIZE,filename,name_image,'TRAIN/HeartBeats')\n",
    "print('finish TRAIN/HeartBeats')\n",
    "for filename in tqdm(validate_df_heart['path']):\n",
    "        name_image = filename.split('/')[-1]\n",
    "        process_save_img(IMG_SIZE,filename,name_image,'VAL/HeartBeats')\n",
    "print('finish VAL/HeartBeats')\n",
    "for filename in tqdm(test_df_heart['path']):\n",
    "        name_image = filename.split('/')[-1]\n",
    "        process_save_img(IMG_SIZE,filename,name_image,'TEST/HeartBeats')\n",
    "print('finish TEST/HeartBeats')\n",
    "\n",
    "\n",
    "#DataSet SkinCancer\n",
    "for filename in tqdm(train_df_skin['path']):\n",
    "        name_image = filename.split('/')[-1]\n",
    "        process_save_img(IMG_SIZE,filename,name_image,'TRAIN/SkinCancer')\n",
    "print('finish TRAIN/SkinCancer')\n",
    "for filename in tqdm(validate_df_skin['path']):\n",
    "        name_image = filename.split('/')[-1]\n",
    "        process_save_img(IMG_SIZE,filename,name_image,'VAL/SkinCancer')\n",
    "print('finish VAL/SkinCancer')\n",
    "for filename in tqdm(test_df_skin['path']):\n",
    "        name_image = filename.split('/')[-1]\n",
    "        process_save_img(IMG_SIZE,filename,name_image,'TEST/SkinCancer')\n",
    "print('finish TEST/SkinCancer')\n",
    "\n",
    "#DataSet SkinCancer\n",
    "for filename in tqdm(train_df_retinal['path']):\n",
    "        name_image = filename.split('/')[-1]\n",
    "        process_save_img(IMG_SIZE,filename,name_image,'TRAIN/Retinal')\n",
    "print('finish TRAIN/Retinal')\n",
    "for filename in tqdm(validate_df_retinal['path']):\n",
    "        name_image = filename.split('/')[-1]\n",
    "        process_save_img(IMG_SIZE,filename,name_image,'VAL/Retinal')\n",
    "print('finish VAL/Retinal')\n",
    "for filename in tqdm(test_df_retinal['path']):\n",
    "        name_image = filename.split('/')[-1]\n",
    "        process_save_img(IMG_SIZE,filename,name_image,'TEST/Retinal')\n",
    "print('finish TEST/Retinal')\n",
    "\n",
    "#DataSet Other\n",
    "for filename in tqdm(train_df_other['path']):\n",
    "        name_image = filename.split('/')[-1]\n",
    "        process_save_img(IMG_SIZE,filename,name_image,'TRAIN/Other')\n",
    "print('finish TRAIN/Other')\n",
    "for filename in tqdm(validate_df_other['path']):\n",
    "        name_image = filename.split('/')[-1]\n",
    "        process_save_img(IMG_SIZE,filename,name_image,'VAL/Other')\n",
    "print('finish VAL/Other')\n",
    "for filename in tqdm(test_df_other['path']):\n",
    "        name_image = filename.split('/')[-1]\n",
    "        process_save_img(IMG_SIZE,filename,name_image,'TEST/Other')\n",
    "print('finish TEST/Other')"
   ]
  },
  {
   "cell_type": "code",
   "execution_count": 56,
   "metadata": {
    "execution": {
     "iopub.execute_input": "2022-06-01T18:48:30.104845Z",
     "iopub.status.busy": "2022-06-01T18:48:30.104290Z",
     "iopub.status.idle": "2022-06-01T18:48:30.167109Z",
     "shell.execute_reply": "2022-06-01T18:48:30.166389Z",
     "shell.execute_reply.started": "2022-06-01T18:48:30.104805Z"
    }
   },
   "outputs": [
    {
     "name": "stdout",
     "output_type": "stream",
     "text": [
      "Length Of Data { Chest } Train :  12520\n",
      "Length Of Data { Chest } VAL :  3478\n",
      "Length Of Data { Chest } TEST :  1391\n",
      "Length Of Data { Other } Train :  11713\n",
      "Length Of Data { Other } VAL :  3254\n",
      "Length Of Data { Other } TEST :  1301\n",
      "Length Of Data { BrainTumor } Train :  2103\n",
      "Length Of Data { BrainTumor } VAL :  617\n",
      "Length Of Data { BrainTumor } TEST :  255\n",
      "Length Of Data { HeartBeats } Train :  12863\n",
      "Length Of Data { HeartBeats } VAL :  3573\n",
      "Length Of Data { HeartBeats } TEST :  1429\n",
      "Length Of Data { Retinal } Train :  18947\n",
      "Length Of Data { Retinal } VAL :  5263\n",
      "Length Of Data { Retinal } TEST :  2105\n",
      "Length Of Data { SkinCancer } Train :  8210\n",
      "Length Of Data { SkinCancer } VAL :  2937\n",
      "Length Of Data { SkinCancer } TEST :  1241\n"
     ]
    }
   ],
   "source": [
    "print('Length Of Data { Chest } Train : ',len(os.listdir('TRAIN/Chest')))\n",
    "print('Length Of Data { Chest } VAL : ',len(os.listdir('VAL/Chest')))\n",
    "print('Length Of Data { Chest } TEST : ',len(os.listdir('TEST/Chest')))\n",
    "\n",
    "print('Length Of Data { Other } Train : ',len(os.listdir('TRAIN/Other')))\n",
    "print('Length Of Data { Other } VAL : ',len(os.listdir('VAL/Other')))\n",
    "print('Length Of Data { Other } TEST : ',len(os.listdir('TEST/Other')))\n",
    "\n",
    "print('Length Of Data { BrainTumor } Train : ',len(os.listdir('TRAIN/BrainTumor')))\n",
    "print('Length Of Data { BrainTumor } VAL : ',len(os.listdir('VAL/BrainTumor')))\n",
    "print('Length Of Data { BrainTumor } TEST : ',len(os.listdir('TEST/BrainTumor')))\n",
    "\n",
    "print('Length Of Data { HeartBeats } Train : ',len(os.listdir('TRAIN/HeartBeats')))\n",
    "print('Length Of Data { HeartBeats } VAL : ',len(os.listdir('VAL/HeartBeats')))\n",
    "print('Length Of Data { HeartBeats } TEST : ',len(os.listdir('TEST/HeartBeats')))\n",
    "\n",
    "print('Length Of Data { Retinal } Train : ',len(os.listdir('TRAIN/Retinal')))\n",
    "print('Length Of Data { Retinal } VAL : ',len(os.listdir('VAL/Retinal')))\n",
    "print('Length Of Data { Retinal } TEST : ',len(os.listdir('TEST/Retinal')))\n",
    "\n",
    "print('Length Of Data { SkinCancer } Train : ',len(os.listdir('TRAIN/SkinCancer')))\n",
    "print('Length Of Data { SkinCancer } VAL : ',len(os.listdir('VAL/SkinCancer')))\n",
    "print('Length Of Data { SkinCancer } TEST : ',len(os.listdir('TEST/SkinCancer')))"
   ]
  },
  {
   "cell_type": "code",
   "execution_count": null,
   "metadata": {},
   "outputs": [],
   "source": [
    "def plot_sample_new(path,labels_dict,start,end):\n",
    "    \"\"\"\n",
    "    Creates a gridplot for desired number of images (n) from the specified set\n",
    "    \"\"\"\n",
    "    plt.figure(figsize=(20,15))\n",
    "    plt.suptitle('{}'.format(labels_dict))\n",
    "    for img_name in tqdm(sorted(os.listdir(path))):   #tqdm --> progress bar \n",
    "        full_path_img = path + '/' + img_name\n",
    "        img = cv2.imread(full_path_img, 0)\n",
    "        img = cv2.cvtColor(img, cv2.COLOR_BGR2RGB)\n",
    "        plt.subplot(5,5,start)\n",
    "        plt.imshow(img)\n",
    "        plt.xticks([])\n",
    "        plt.yticks([])\n",
    "        start += 1\n",
    "        if start == end:\n",
    "                break"
   ]
  },
  {
   "cell_type": "markdown",
   "metadata": {},
   "source": [
    "<a id='cnn'></a>\n",
    "## CNN Model"
   ]
  },
  {
   "cell_type": "markdown",
   "metadata": {},
   "source": [
    "<a id='aug'></a>\n",
    "## Data Augmentation"
   ]
  },
  {
   "cell_type": "markdown",
   "metadata": {},
   "source": [
    "<a id='apply'></a>\n",
    "## Apply"
   ]
  },
  {
   "cell_type": "code",
   "execution_count": 57,
   "metadata": {
    "execution": {
     "iopub.execute_input": "2022-06-01T19:02:16.227370Z",
     "iopub.status.busy": "2022-06-01T19:02:16.226991Z",
     "iopub.status.idle": "2022-06-01T19:02:16.233778Z",
     "shell.execute_reply": "2022-06-01T19:02:16.232794Z",
     "shell.execute_reply.started": "2022-06-01T19:02:16.227338Z"
    }
   },
   "outputs": [],
   "source": [
    "train_gen = ImageDataGenerator(rescale = 1./255,\n",
    "                                shear_range = 0.2,\n",
    "                                zoom_range = 0.2,\n",
    "                                horizontal_flip = True,          \n",
    "                               )\n",
    "\n",
    "# Create Image Data Generator for Test/Validation Set\n",
    "test_gen = ImageDataGenerator(rescale = 1./255)"
   ]
  },
  {
   "cell_type": "code",
   "execution_count": 58,
   "metadata": {
    "execution": {
     "iopub.execute_input": "2022-06-01T19:02:16.768230Z",
     "iopub.status.busy": "2022-06-01T19:02:16.767896Z",
     "iopub.status.idle": "2022-06-01T19:02:21.612134Z",
     "shell.execute_reply": "2022-06-01T19:02:21.611219Z",
     "shell.execute_reply.started": "2022-06-01T19:02:16.768200Z"
    }
   },
   "outputs": [
    {
     "name": "stdout",
     "output_type": "stream",
     "text": [
      "Found 66356 images belonging to 6 classes.\n",
      "Found 7722 images belonging to 6 classes.\n",
      "Found 19122 images belonging to 6 classes.\n"
     ]
    }
   ],
   "source": [
    "IMG_SIZE = (224,224)\n",
    "batch_size = 64\n",
    "train_path = './TRAIN'\n",
    "test_path = './TEST'\n",
    "valid_path = './VAL'\n",
    "\n",
    "train_generator = ImageDataGenerator(rescale = 1./255,\n",
    "                                shear_range = 0.2,\n",
    "                                zoom_range = 0.2,\n",
    "                                horizontal_flip = True,          \n",
    "                               )\n",
    "\n",
    "# Create Image Data Generator for Test/Validation Set\n",
    "test_generator = ImageDataGenerator(rescale = 1./255)\n",
    "\n",
    "trainRgb = train_generator.flow_from_directory(\n",
    "      train_path,\n",
    "      target_size=IMG_SIZE,\n",
    "      color_mode='rgb',\n",
    "      class_mode='categorical',\n",
    "      batch_size=batch_size\n",
    "      )\n",
    "\n",
    "testRgb = test_generator.flow_from_directory(\n",
    "      test_path,\n",
    "      target_size=IMG_SIZE,\n",
    "      color_mode='rgb',\n",
    "      shuffle=False, \n",
    "      class_mode='categorical',\n",
    "      batch_size=1\n",
    "      )\n",
    "\n",
    "validRgb = test_generator.flow_from_directory(\n",
    "      valid_path,\n",
    "      target_size=IMG_SIZE,\n",
    "      color_mode='rgb',\n",
    "      class_mode='categorical', \n",
    "      batch_size=batch_size\n",
    "      )"
   ]
  },
  {
   "cell_type": "code",
   "execution_count": 90,
   "metadata": {
    "execution": {
     "iopub.execute_input": "2022-06-02T03:37:27.273473Z",
     "iopub.status.busy": "2022-06-02T03:37:27.273082Z",
     "iopub.status.idle": "2022-06-02T03:37:31.868193Z",
     "shell.execute_reply": "2022-06-02T03:37:31.866797Z",
     "shell.execute_reply.started": "2022-06-02T03:37:27.273439Z"
    }
   },
   "outputs": [
    {
     "name": "stdout",
     "output_type": "stream",
     "text": [
      "Found 66356 images belonging to 6 classes.\n",
      "Found 7722 images belonging to 6 classes.\n",
      "Found 19122 images belonging to 6 classes.\n"
     ]
    }
   ],
   "source": [
    "IMG_SIZE = (299,299)\n",
    "batch_size = 64\n",
    "train_path = './TRAIN'\n",
    "test_path = './TEST'\n",
    "valid_path = './VAL'\n",
    "\n",
    "train_generator = ImageDataGenerator(rescale = 1./255,\n",
    "                                shear_range = 0.2,\n",
    "                                zoom_range = 0.2,\n",
    "                                horizontal_flip = True,          \n",
    "                               )\n",
    "\n",
    "# Create Image Data Generator for Test/Validation Set\n",
    "test_generator = ImageDataGenerator(rescale = 1./255)\n",
    "\n",
    "trainRgb99 = train_generator.flow_from_directory(\n",
    "      train_path,\n",
    "      target_size=IMG_SIZE,\n",
    "      color_mode='rgb',\n",
    "      class_mode='categorical',\n",
    "      batch_size=batch_size\n",
    "      )\n",
    "\n",
    "testRgb99 = test_generator.flow_from_directory(\n",
    "      test_path,\n",
    "      target_size=IMG_SIZE,\n",
    "      color_mode='rgb',\n",
    "      shuffle=False, \n",
    "      class_mode='categorical',\n",
    "      batch_size=1\n",
    "      )\n",
    "\n",
    "validRgb99 = test_generator.flow_from_directory(\n",
    "      valid_path,\n",
    "      target_size=IMG_SIZE,\n",
    "      color_mode='rgb',\n",
    "      class_mode='categorical', \n",
    "      batch_size=batch_size\n",
    "      )"
   ]
  },
  {
   "cell_type": "markdown",
   "metadata": {},
   "source": [
    "<a id='demo'></a>\n",
    "## Demo"
   ]
  },
  {
   "cell_type": "code",
   "execution_count": null,
   "metadata": {},
   "outputs": [],
   "source": [
    "idx2label_dict = {train.class_indices[k]: k for k in train.class_indices}\n",
    "idx2label_dict\n",
    "plt.figure(figsize=(20, 12))\n",
    "for i in range(0, 10):\n",
    "    plt.subplot(2, 5, i+1)\n",
    "    for X_batch, Y_batch in train:\n",
    "        image = X_batch[0]        \n",
    "        plt.title(idx2label_dict.get(np.argmax(Y_batch[0])))    \n",
    "        plt.axis('off')\n",
    "        plt.imshow(np.squeeze(image),cmap='gray')\n",
    "        break\n",
    "plt.tight_layout()\n",
    "plt.show()"
   ]
  },
  {
   "cell_type": "code",
   "execution_count": 59,
   "metadata": {
    "execution": {
     "iopub.execute_input": "2022-06-01T19:02:21.615526Z",
     "iopub.status.busy": "2022-06-01T19:02:21.613858Z",
     "iopub.status.idle": "2022-06-01T19:02:21.621483Z",
     "shell.execute_reply": "2022-06-01T19:02:21.620638Z",
     "shell.execute_reply.started": "2022-06-01T19:02:21.615482Z"
    }
   },
   "outputs": [],
   "source": [
    "early = EarlyStopping(monitor='val_loss', mode='min', patience=4)\n",
    "learning_rate_reduction = ReduceLROnPlateau(monitor='val_loss', patience = 2, verbose=1,factor=0.3, min_lr=0.000001)\n",
    "callbacks_list = [ early, learning_rate_reduction]"
   ]
  },
  {
   "cell_type": "code",
   "execution_count": 60,
   "metadata": {
    "execution": {
     "iopub.execute_input": "2022-06-01T19:02:21.623736Z",
     "iopub.status.busy": "2022-06-01T19:02:21.623249Z",
     "iopub.status.idle": "2022-06-01T19:02:21.649180Z",
     "shell.execute_reply": "2022-06-01T19:02:21.648498Z",
     "shell.execute_reply.started": "2022-06-01T19:02:21.623697Z"
    }
   },
   "outputs": [
    {
     "name": "stdout",
     "output_type": "stream",
     "text": [
      "{0: 5.258836582659693, 1: 0.8833333333333333, 2: 0.8597786934100391, 3: 0.9441930618401206, 4: 0.5836983867278901, 5: 1.3470564352415753}\n"
     ]
    }
   ],
   "source": [
    "from sklearn.utils.class_weight import compute_class_weight\n",
    "weights = compute_class_weight('balanced',classes = np.unique(trainRgb.classes),y = trainRgb.classes)\n",
    "cw = dict(zip( np.unique(trainRgb.classes), weights))\n",
    "print(cw)"
   ]
  },
  {
   "cell_type": "markdown",
   "metadata": {},
   "source": [
    "<a id='build'></a>\n",
    "## Model Building"
   ]
  },
  {
   "cell_type": "markdown",
   "metadata": {},
   "source": [
    "<a id='scrath'></a>\n",
    "## Model from Scratch"
   ]
  },
  {
   "cell_type": "markdown",
   "metadata": {},
   "source": [
    "<a id='scrathf'></a>\n",
    "## Model from Simple Scratch"
   ]
  },
  {
   "cell_type": "code",
   "execution_count": 61,
   "metadata": {
    "execution": {
     "iopub.execute_input": "2022-06-01T19:02:24.120549Z",
     "iopub.status.busy": "2022-06-01T19:02:24.120052Z",
     "iopub.status.idle": "2022-06-01T19:02:26.800748Z",
     "shell.execute_reply": "2022-06-01T19:02:26.799970Z",
     "shell.execute_reply.started": "2022-06-01T19:02:24.120512Z"
    }
   },
   "outputs": [
    {
     "name": "stderr",
     "output_type": "stream",
     "text": [
      "2022-06-01 19:02:24.216024: I tensorflow/stream_executor/cuda/cuda_gpu_executor.cc:937] successful NUMA node read from SysFS had negative value (-1), but there must be at least one NUMA node, so returning NUMA node zero\n",
      "2022-06-01 19:02:24.336957: I tensorflow/stream_executor/cuda/cuda_gpu_executor.cc:937] successful NUMA node read from SysFS had negative value (-1), but there must be at least one NUMA node, so returning NUMA node zero\n",
      "2022-06-01 19:02:24.337701: I tensorflow/stream_executor/cuda/cuda_gpu_executor.cc:937] successful NUMA node read from SysFS had negative value (-1), but there must be at least one NUMA node, so returning NUMA node zero\n",
      "2022-06-01 19:02:24.340632: I tensorflow/core/platform/cpu_feature_guard.cc:142] This TensorFlow binary is optimized with oneAPI Deep Neural Network Library (oneDNN) to use the following CPU instructions in performance-critical operations:  AVX2 AVX512F FMA\n",
      "To enable them in other operations, rebuild TensorFlow with the appropriate compiler flags.\n",
      "2022-06-01 19:02:24.340883: I tensorflow/stream_executor/cuda/cuda_gpu_executor.cc:937] successful NUMA node read from SysFS had negative value (-1), but there must be at least one NUMA node, so returning NUMA node zero\n",
      "2022-06-01 19:02:24.341600: I tensorflow/stream_executor/cuda/cuda_gpu_executor.cc:937] successful NUMA node read from SysFS had negative value (-1), but there must be at least one NUMA node, so returning NUMA node zero\n",
      "2022-06-01 19:02:24.342220: I tensorflow/stream_executor/cuda/cuda_gpu_executor.cc:937] successful NUMA node read from SysFS had negative value (-1), but there must be at least one NUMA node, so returning NUMA node zero\n",
      "2022-06-01 19:02:26.315288: I tensorflow/stream_executor/cuda/cuda_gpu_executor.cc:937] successful NUMA node read from SysFS had negative value (-1), but there must be at least one NUMA node, so returning NUMA node zero\n",
      "2022-06-01 19:02:26.316062: I tensorflow/stream_executor/cuda/cuda_gpu_executor.cc:937] successful NUMA node read from SysFS had negative value (-1), but there must be at least one NUMA node, so returning NUMA node zero\n",
      "2022-06-01 19:02:26.316776: I tensorflow/stream_executor/cuda/cuda_gpu_executor.cc:937] successful NUMA node read from SysFS had negative value (-1), but there must be at least one NUMA node, so returning NUMA node zero\n",
      "2022-06-01 19:02:26.318316: I tensorflow/core/common_runtime/gpu/gpu_device.cc:1510] Created device /job:localhost/replica:0/task:0/device:GPU:0 with 15403 MB memory:  -> device: 0, name: Tesla P100-PCIE-16GB, pci bus id: 0000:00:04.0, compute capability: 6.0\n"
     ]
    },
    {
     "name": "stdout",
     "output_type": "stream",
     "text": [
      "Model: \"sequential\"\n",
      "_________________________________________________________________\n",
      "Layer (type)                 Output Shape              Param #   \n",
      "=================================================================\n",
      "conv2d (Conv2D)              (None, 222, 222, 32)      896       \n",
      "_________________________________________________________________\n",
      "max_pooling2d (MaxPooling2D) (None, 111, 111, 32)      0         \n",
      "_________________________________________________________________\n",
      "conv2d_1 (Conv2D)            (None, 109, 109, 32)      9248      \n",
      "_________________________________________________________________\n",
      "max_pooling2d_1 (MaxPooling2 (None, 54, 54, 32)        0         \n",
      "_________________________________________________________________\n",
      "conv2d_2 (Conv2D)            (None, 52, 52, 32)        9248      \n",
      "_________________________________________________________________\n",
      "max_pooling2d_2 (MaxPooling2 (None, 26, 26, 32)        0         \n",
      "_________________________________________________________________\n",
      "conv2d_3 (Conv2D)            (None, 24, 24, 64)        18496     \n",
      "_________________________________________________________________\n",
      "max_pooling2d_3 (MaxPooling2 (None, 12, 12, 64)        0         \n",
      "_________________________________________________________________\n",
      "conv2d_4 (Conv2D)            (None, 10, 10, 64)        36928     \n",
      "_________________________________________________________________\n",
      "max_pooling2d_4 (MaxPooling2 (None, 5, 5, 64)          0         \n",
      "_________________________________________________________________\n",
      "flatten (Flatten)            (None, 1600)              0         \n",
      "_________________________________________________________________\n",
      "dense (Dense)                (None, 128)               204928    \n",
      "_________________________________________________________________\n",
      "dense_1 (Dense)              (None, 64)                8256      \n",
      "_________________________________________________________________\n",
      "dense_2 (Dense)              (None, 6)                 390       \n",
      "=================================================================\n",
      "Total params: 288,390\n",
      "Trainable params: 288,390\n",
      "Non-trainable params: 0\n",
      "_________________________________________________________________\n"
     ]
    }
   ],
   "source": [
    "input_shape = (224,224,3)\n",
    "scratchSimple = Sequential()\n",
    "scratchSimple.add(Conv2D(32, (3, 3), activation=\"relu\", input_shape=input_shape))\n",
    "scratchSimple.add(MaxPooling2D(pool_size = (2, 2)))\n",
    "scratchSimple.add(Conv2D(32, (3, 3), activation=\"relu\", input_shape=input_shape))\n",
    "scratchSimple.add(MaxPooling2D(pool_size = (2, 2)))\n",
    "scratchSimple.add(Conv2D(32, (3, 3), activation=\"relu\", input_shape=input_shape))\n",
    "scratchSimple.add(MaxPooling2D(pool_size = (2, 2)))\n",
    "scratchSimple.add(Conv2D(64, (3, 3), activation=\"relu\", input_shape=input_shape))\n",
    "scratchSimple.add(MaxPooling2D(pool_size = (2, 2)))\n",
    "scratchSimple.add(Conv2D(64, (3, 3), activation=\"relu\", input_shape=input_shape))\n",
    "scratchSimple.add(MaxPooling2D(pool_size = (2, 2)))\n",
    "scratchSimple.add(Flatten())\n",
    "scratchSimple.add(Dense(activation = 'relu', units = 128))\n",
    "scratchSimple.add(Dense(activation = 'relu', units = 64))\n",
    "scratchSimple.add(Dense(activation = 'softmax', units = 6))\n",
    "scratchSimple.compile(optimizer = 'adam', loss = 'categorical_crossentropy', metrics = ['accuracy'])\n",
    "scratchSimple.summary()"
   ]
  },
  {
   "cell_type": "code",
   "execution_count": 62,
   "metadata": {
    "execution": {
     "iopub.execute_input": "2022-06-01T19:02:26.802852Z",
     "iopub.status.busy": "2022-06-01T19:02:26.802493Z",
     "iopub.status.idle": "2022-06-01T19:02:27.770416Z",
     "shell.execute_reply": "2022-06-01T19:02:27.769497Z",
     "shell.execute_reply.started": "2022-06-01T19:02:26.802815Z"
    }
   },
   "outputs": [
    {
     "data": {
      "image/png": "[encoded data removed]",
      "text/plain": [
       "<IPython.core.display.Image object>"
      ]
     },
     "execution_count": 62,
     "metadata": {},
     "output_type": "execute_result"
    }
   ],
   "source": [
    "from tensorflow.keras.utils import plot_model\n",
    "plot_model(scratchSimple,show_shapes=True, show_layer_names=True, rankdir='TB', expand_nested=True)"
   ]
  },
  {
   "cell_type": "code",
   "execution_count": 63,
   "metadata": {
    "execution": {
     "iopub.execute_input": "2022-06-01T19:02:27.772102Z",
     "iopub.status.busy": "2022-06-01T19:02:27.771733Z",
     "iopub.status.idle": "2022-06-01T20:14:57.691485Z",
     "shell.execute_reply": "2022-06-01T20:14:57.690698Z",
     "shell.execute_reply.started": "2022-06-01T19:02:27.772061Z"
    }
   },
   "outputs": [
    {
     "name": "stderr",
     "output_type": "stream",
     "text": [
      "/opt/conda/lib/python3.7/site-packages/keras/engine/training.py:1972: UserWarning: `Model.fit_generator` is deprecated and will be removed in a future version. Please use `Model.fit`, which supports generators.\n",
      "  warnings.warn('`Model.fit_generator` is deprecated and '\n",
      "2022-06-01 19:02:28.550355: W tensorflow/core/framework/cpu_allocator_impl.cc:80] Allocation of 38535168 exceeds 10% of free system memory.\n",
      "2022-06-01 19:02:28.697149: I tensorflow/compiler/mlir/mlir_graph_optimization_pass.cc:185] None of the MLIR Optimization Passes are enabled (registered 2)\n"
     ]
    },
    {
     "name": "stdout",
     "output_type": "stream",
     "text": [
      "Epoch 1/5\n"
     ]
    },
    {
     "name": "stderr",
     "output_type": "stream",
     "text": [
      "2022-06-01 19:02:30.871459: W tensorflow/core/framework/cpu_allocator_impl.cc:80] Allocation of 38535168 exceeds 10% of free system memory.\n",
      "2022-06-01 19:02:31.811713: I tensorflow/stream_executor/cuda/cuda_dnn.cc:369] Loaded cuDNN version 8005\n",
      "2022-06-01 19:02:31.862133: W tensorflow/core/framework/cpu_allocator_impl.cc:80] Allocation of 38535168 exceeds 10% of free system memory.\n",
      "2022-06-01 19:02:32.832730: W tensorflow/core/framework/cpu_allocator_impl.cc:80] Allocation of 38535168 exceeds 10% of free system memory.\n",
      "2022-06-01 19:02:33.768743: W tensorflow/core/framework/cpu_allocator_impl.cc:80] Allocation of 38535168 exceeds 10% of free system memory.\n"
     ]
    },
    {
     "name": "stdout",
     "output_type": "stream",
     "text": [
      "1036/1036 [==============================] - 886s 847ms/step - loss: 0.1061 - accuracy: 0.9690 - val_loss: 0.0332 - val_accuracy: 0.9912\n",
      "Epoch 2/5\n",
      "1036/1036 [==============================] - 846s 817ms/step - loss: 0.0264 - accuracy: 0.9931 - val_loss: 0.0448 - val_accuracy: 0.9874\n",
      "Epoch 3/5\n",
      "1036/1036 [==============================] - 832s 803ms/step - loss: 0.0336 - accuracy: 0.9911 - val_loss: 0.0086 - val_accuracy: 0.9976\n",
      "Epoch 4/5\n",
      "1036/1036 [==============================] - 837s 808ms/step - loss: 0.0169 - accuracy: 0.9957 - val_loss: 0.0232 - val_accuracy: 0.9934\n",
      "Epoch 5/5\n",
      "1036/1036 [==============================] - 832s 803ms/step - loss: 0.0218 - accuracy: 0.9947 - val_loss: 0.0196 - val_accuracy: 0.9944\n",
      "\n",
      "Epoch 00005: ReduceLROnPlateau reducing learning rate to 0.0003000000142492354.\n",
      "7722/7722 [==============================] - 38s 5ms/step - loss: 0.0238 - accuracy: 0.9937\n",
      "The testing accuracy is : 99.36544895172119 %\n"
     ]
    }
   ],
   "source": [
    "epochs = 5\n",
    "\n",
    "historySimple = scratchSimple.fit_generator(trainRgb,\n",
    "                            steps_per_epoch=trainRgb.samples//trainRgb.batch_size,\n",
    "                            validation_data=validRgb,\n",
    "                            verbose=1,\n",
    "                            class_weight = cw,\n",
    "                            validation_steps=validRgb.samples//validRgb.batch_size,\n",
    "                            epochs=epochs,callbacks=callbacks_list)\n",
    "\n",
    "test_accu = scratchSimple.evaluate(testRgb)\n",
    "print('The testing accuracy is :',test_accu[1]*100, '%')"
   ]
  },
  {
   "cell_type": "code",
   "execution_count": 64,
   "metadata": {
    "execution": {
     "iopub.execute_input": "2022-06-01T20:21:48.912997Z",
     "iopub.status.busy": "2022-06-01T20:21:48.912169Z",
     "iopub.status.idle": "2022-06-01T20:21:48.965135Z",
     "shell.execute_reply": "2022-06-01T20:21:48.964323Z",
     "shell.execute_reply.started": "2022-06-01T20:21:48.912960Z"
    }
   },
   "outputs": [],
   "source": [
    "scratchSimple.save('./scratchSimple.h5')"
   ]
  },
  {
   "cell_type": "markdown",
   "metadata": {},
   "source": [
    " <a id='trainVGG16'></a>\n",
    "## Model VGG16 ( trainable  )"
   ]
  },
  {
   "cell_type": "code",
   "execution_count": 68,
   "metadata": {
    "execution": {
     "iopub.execute_input": "2022-06-01T20:23:19.757779Z",
     "iopub.status.busy": "2022-06-01T20:23:19.757117Z",
     "iopub.status.idle": "2022-06-01T20:23:20.108338Z",
     "shell.execute_reply": "2022-06-01T20:23:20.106756Z",
     "shell.execute_reply.started": "2022-06-01T20:23:19.757740Z"
    }
   },
   "outputs": [
    {
     "name": "stdout",
     "output_type": "stream",
     "text": [
      "Model: \"sequential_2\"\n",
      "_________________________________________________________________\n",
      "Layer (type)                 Output Shape              Param #   \n",
      "=================================================================\n",
      "vgg16 (Functional)           (None, 7, 7, 512)         14714688  \n",
      "_________________________________________________________________\n",
      "conv2d_6 (Conv2D)            (None, 5, 5, 64)          294976    \n",
      "_________________________________________________________________\n",
      "max_pooling2d_6 (MaxPooling2 (None, 2, 2, 64)          0         \n",
      "_________________________________________________________________\n",
      "dropout_2 (Dropout)          (None, 2, 2, 64)          0         \n",
      "_________________________________________________________________\n",
      "flatten_2 (Flatten)          (None, 256)               0         \n",
      "_________________________________________________________________\n",
      "dense_5 (Dense)              (None, 128)               32896     \n",
      "_________________________________________________________________\n",
      "dropout_3 (Dropout)          (None, 128)               0         \n",
      "_________________________________________________________________\n",
      "dense_6 (Dense)              (None, 6)                 774       \n",
      "=================================================================\n",
      "Total params: 15,043,334\n",
      "Trainable params: 15,043,334\n",
      "Non-trainable params: 0\n",
      "_________________________________________________________________\n"
     ]
    }
   ],
   "source": [
    "input_shape = (224,224,3)\n",
    "VGG16= tf.keras.applications.VGG16(include_top=False, weights=\"imagenet\", input_shape=input_shape)\n",
    "model_VGG16= Sequential()\n",
    "model_VGG16.add(VGG16)\n",
    "model_VGG16.add(Conv2D(64, (3, 3), activation = 'relu'))\n",
    "model_VGG16.add(MaxPooling2D(pool_size = (2, 2)))\n",
    "model_VGG16.add(Dropout(0.10))\n",
    "model_VGG16.add(Flatten())\n",
    "model_VGG16.add(Dense(128,activation='relu'))\n",
    "model_VGG16.add(Dropout(0.10))\n",
    "model_VGG16.add(Dense(6, activation='softmax'))\n",
    "model_VGG16.compile(optimizer=Adam(lr=0.0001),loss=\"categorical_crossentropy\",metrics=[\"accuracy\"])\n",
    "model_VGG16.summary()"
   ]
  },
  {
   "cell_type": "code",
   "execution_count": 69,
   "metadata": {
    "execution": {
     "iopub.execute_input": "2022-06-01T20:23:20.590833Z",
     "iopub.status.busy": "2022-06-01T20:23:20.590537Z",
     "iopub.status.idle": "2022-06-01T21:15:12.202643Z",
     "shell.execute_reply": "2022-06-01T21:15:12.201798Z",
     "shell.execute_reply.started": "2022-06-01T20:23:20.590806Z"
    }
   },
   "outputs": [
    {
     "name": "stdout",
     "output_type": "stream",
     "text": [
      "Epoch 1/3\n",
      "1036/1036 [==============================] - 1013s 961ms/step - loss: 0.0491 - accuracy: 0.9871 - val_loss: 0.0024 - val_accuracy: 0.9993\n",
      "Epoch 2/3\n",
      "1036/1036 [==============================] - 985s 951ms/step - loss: 0.0103 - accuracy: 0.9977 - val_loss: 0.0013 - val_accuracy: 0.9998\n",
      "Epoch 3/3\n",
      "1036/1036 [==============================] - 996s 961ms/step - loss: 0.0108 - accuracy: 0.9973 - val_loss: 0.0036 - val_accuracy: 0.9995\n",
      "7722/7722 [==============================] - 59s 8ms/step - loss: 0.0018 - accuracy: 0.9991\n",
      "The testing accuracy is : 99.90934729576111 %\n"
     ]
    }
   ],
   "source": [
    "epochs = 3\n",
    "\n",
    "historyVGG16 = model_VGG16.fit_generator(trainRgb,\n",
    "                            steps_per_epoch=trainRgb.samples//trainRgb.batch_size,\n",
    "                            validation_data=validRgb,\n",
    "                            verbose=1,\n",
    "                            class_weight = cw,\n",
    "                            validation_steps=validRgb.samples//validRgb.batch_size,\n",
    "                            epochs=epochs,callbacks=callbacks_list)\n",
    "\n",
    "test_accu = model_VGG16.evaluate(testRgb)\n",
    "print('The testing accuracy is :',test_accu[1]*100, '%')\n",
    "model_VGG16.save('./model_VGG16.h5')"
   ]
  },
  {
   "cell_type": "markdown",
   "metadata": {},
   "source": [
    " <a id='freezeVGG16'></a>\n",
    "## Model VGG16 ( false trainable )"
   ]
  },
  {
   "cell_type": "code",
   "execution_count": 71,
   "metadata": {
    "execution": {
     "iopub.execute_input": "2022-06-01T21:22:32.037174Z",
     "iopub.status.busy": "2022-06-01T21:22:32.036734Z",
     "iopub.status.idle": "2022-06-01T21:22:32.381871Z",
     "shell.execute_reply": "2022-06-01T21:22:32.380650Z",
     "shell.execute_reply.started": "2022-06-01T21:22:32.037127Z"
    }
   },
   "outputs": [
    {
     "name": "stdout",
     "output_type": "stream",
     "text": [
      "Model: \"sequential_4\"\n",
      "_________________________________________________________________\n",
      "Layer (type)                 Output Shape              Param #   \n",
      "=================================================================\n",
      "vgg16 (Functional)           (None, 7, 7, 512)         14714688  \n",
      "_________________________________________________________________\n",
      "conv2d_7 (Conv2D)            (None, 5, 5, 64)          294976    \n",
      "_________________________________________________________________\n",
      "max_pooling2d_7 (MaxPooling2 (None, 2, 2, 64)          0         \n",
      "_________________________________________________________________\n",
      "dropout_4 (Dropout)          (None, 2, 2, 64)          0         \n",
      "_________________________________________________________________\n",
      "flatten_3 (Flatten)          (None, 256)               0         \n",
      "_________________________________________________________________\n",
      "dense_7 (Dense)              (None, 128)               32896     \n",
      "_________________________________________________________________\n",
      "dropout_5 (Dropout)          (None, 128)               0         \n",
      "_________________________________________________________________\n",
      "dense_8 (Dense)              (None, 6)                 774       \n",
      "=================================================================\n",
      "Total params: 15,043,334\n",
      "Trainable params: 328,646\n",
      "Non-trainable params: 14,714,688\n",
      "_________________________________________________________________\n"
     ]
    }
   ],
   "source": [
    "input_shape = (224,224,3)\n",
    "VGG16= tf.keras.applications.VGG16(include_top=False, weights=\"imagenet\", input_shape=input_shape)\n",
    "model_VGG16F= Sequential()\n",
    "for layer in VGG16.layers:\n",
    "    layer.trainable = False\n",
    "model_VGG16F.add(VGG16)\n",
    "model_VGG16F.add(Conv2D(64, (3, 3), activation = 'relu'))\n",
    "model_VGG16F.add(MaxPooling2D(pool_size = (2, 2)))\n",
    "model_VGG16F.add(Dropout(0.10))\n",
    "model_VGG16F.add(Flatten())\n",
    "model_VGG16F.add(Dense(128,activation='relu'))\n",
    "model_VGG16F.add(Dropout(0.10))\n",
    "model_VGG16F.add(Dense(6, activation='softmax'))\n",
    "model_VGG16F.compile(optimizer=Adam(lr=0.0001),loss=\"categorical_crossentropy\",metrics=[\"accuracy\"])\n",
    "model_VGG16F.summary()"
   ]
  },
  {
   "cell_type": "code",
   "execution_count": 72,
   "metadata": {
    "execution": {
     "iopub.execute_input": "2022-06-01T21:22:50.905634Z",
     "iopub.status.busy": "2022-06-01T21:22:50.905242Z",
     "iopub.status.idle": "2022-06-01T22:08:30.321235Z",
     "shell.execute_reply": "2022-06-01T22:08:30.320232Z",
     "shell.execute_reply.started": "2022-06-01T21:22:50.905603Z"
    }
   },
   "outputs": [
    {
     "name": "stdout",
     "output_type": "stream",
     "text": [
      "Epoch 1/3\n",
      "1036/1036 [==============================] - 883s 852ms/step - loss: 0.1014 - accuracy: 0.9762 - val_loss: 0.0076 - val_accuracy: 0.9977\n",
      "Epoch 2/3\n",
      "1036/1036 [==============================] - 874s 843ms/step - loss: 0.0103 - accuracy: 0.9974 - val_loss: 0.0046 - val_accuracy: 0.9985\n",
      "Epoch 3/3\n",
      "1036/1036 [==============================] - 875s 845ms/step - loss: 0.0046 - accuracy: 0.9988 - val_loss: 0.0030 - val_accuracy: 0.9989\n",
      "7722/7722 [==============================] - 58s 7ms/step - loss: 0.0027 - accuracy: 0.9988\n",
      "The testing accuracy is : 99.8834490776062 %\n"
     ]
    }
   ],
   "source": [
    "epochs = 3\n",
    "\n",
    "historyVGG16F = model_VGG16F.fit_generator(trainRgb,\n",
    "                            steps_per_epoch=trainRgb.samples//trainRgb.batch_size,\n",
    "                            validation_data=validRgb,\n",
    "                            verbose=1,\n",
    "                            class_weight = cw,\n",
    "                            validation_steps=validRgb.samples//validRgb.batch_size,\n",
    "                            epochs=epochs,callbacks=callbacks_list)\n",
    "\n",
    "test_accu = model_VGG16F.evaluate(testRgb)\n",
    "print('The testing accuracy is :',test_accu[1]*100, '%')\n",
    "model_VGG16F.save('./model_VGG16F.h5')"
   ]
  },
  {
   "cell_type": "code",
   "execution_count": 75,
   "metadata": {
    "execution": {
     "iopub.execute_input": "2022-06-01T22:15:34.375364Z",
     "iopub.status.busy": "2022-06-01T22:15:34.374504Z",
     "iopub.status.idle": "2022-06-01T22:15:34.509143Z",
     "shell.execute_reply": "2022-06-01T22:15:34.508312Z",
     "shell.execute_reply.started": "2022-06-01T22:15:34.375321Z"
    }
   },
   "outputs": [],
   "source": [
    "model_VGG16F.save('./model_VGG16F.h5')"
   ]
  },
  {
   "cell_type": "markdown",
   "metadata": {},
   "source": [
    "<a id='ResNet152V2'></a>\n",
    "## Model ResNet152V2 "
   ]
  },
  {
   "cell_type": "markdown",
   "metadata": {},
   "source": [
    "<a id='trainResNet152V2'></a>\n",
    "## Model ResNet152V2 ( trainable  )"
   ]
  },
  {
   "cell_type": "code",
   "execution_count": 76,
   "metadata": {
    "execution": {
     "iopub.execute_input": "2022-06-01T22:15:54.596946Z",
     "iopub.status.busy": "2022-06-01T22:15:54.596197Z",
     "iopub.status.idle": "2022-06-01T22:15:59.294795Z",
     "shell.execute_reply": "2022-06-01T22:15:59.294006Z",
     "shell.execute_reply.started": "2022-06-01T22:15:54.596903Z"
    }
   },
   "outputs": [
    {
     "name": "stdout",
     "output_type": "stream",
     "text": [
      "Model: \"sequential_6\"\n",
      "_________________________________________________________________\n",
      "Layer (type)                 Output Shape              Param #   \n",
      "=================================================================\n",
      "resnet152v2 (Functional)     (None, 7, 7, 2048)        58331648  \n",
      "_________________________________________________________________\n",
      "flatten_5 (Flatten)          (None, 100352)            0         \n",
      "_________________________________________________________________\n",
      "dense_11 (Dense)             (None, 512)               51380736  \n",
      "_________________________________________________________________\n",
      "dense_12 (Dense)             (None, 6)                 3078      \n",
      "=================================================================\n",
      "Total params: 109,715,462\n",
      "Trainable params: 109,571,718\n",
      "Non-trainable params: 143,744\n",
      "_________________________________________________________________\n"
     ]
    }
   ],
   "source": [
    "input_shape = (224,224,3)\n",
    "ResNet152V2= tf.keras.applications.ResNet152V2(include_top=False, weights=\"imagenet\", input_shape=input_shape)\n",
    "model_Resnet = Sequential()\n",
    "model_Resnet.add(ResNet152V2)\n",
    "model_Resnet.add(Flatten())\n",
    "model_Resnet.add(Dense(512, activation='relu'))\n",
    "model_Resnet.add(Dense(6, activation='softmax'))\n",
    "model_Resnet.compile(optimizer=Adam(lr=0.0001),loss=\"categorical_crossentropy\",metrics=[\"accuracy\"])\n",
    "model_Resnet.summary()"
   ]
  },
  {
   "cell_type": "code",
   "execution_count": 77,
   "metadata": {
    "execution": {
     "iopub.execute_input": "2022-06-01T22:16:04.208972Z",
     "iopub.status.busy": "2022-06-01T22:16:04.208194Z",
     "iopub.status.idle": "2022-06-01T23:21:20.951395Z",
     "shell.execute_reply": "2022-06-01T23:21:20.950338Z",
     "shell.execute_reply.started": "2022-06-01T22:16:04.208933Z"
    }
   },
   "outputs": [
    {
     "name": "stdout",
     "output_type": "stream",
     "text": [
      "Epoch 1/3\n",
      "1036/1036 [==============================] - 1183s 1s/step - loss: 0.0188 - accuracy: 0.9967 - val_loss: 50.0199 - val_accuracy: 0.6156\n",
      "Epoch 2/3\n",
      "1036/1036 [==============================] - 1192s 1s/step - loss: 0.0179 - accuracy: 0.9976 - val_loss: 5.8887e-04 - val_accuracy: 0.9998\n",
      "Epoch 3/3\n",
      "1036/1036 [==============================] - 1179s 1s/step - loss: 0.0277 - accuracy: 0.9966 - val_loss: 0.0015 - val_accuracy: 0.9996\n",
      "7722/7722 [==============================] - 227s 29ms/step - loss: 0.0030 - accuracy: 0.9991\n",
      "The testing accuracy is : 99.90934729576111 %\n"
     ]
    },
    {
     "name": "stderr",
     "output_type": "stream",
     "text": [
      "/opt/conda/lib/python3.7/site-packages/keras/utils/generic_utils.py:497: CustomMaskWarning: Custom mask layers require a config and must override get_config. When loading, the custom mask layer must be passed to the custom_objects argument.\n",
      "  category=CustomMaskWarning)\n"
     ]
    }
   ],
   "source": [
    "epochs = 3\n",
    "historyResnet = model_Resnet.fit_generator(trainRgb,\n",
    "                            steps_per_epoch=trainRgb.samples//trainRgb.batch_size,\n",
    "                            validation_data=validRgb,\n",
    "                            verbose=1,\n",
    "                            class_weight = cw,\n",
    "                            validation_steps=validRgb.samples//validRgb.batch_size,\n",
    "                            epochs=epochs,callbacks=callbacks_list)\n",
    "\n",
    "test_accu = model_Resnet.evaluate(testRgb)\n",
    "print('The testing accuracy is :',test_accu[1]*100, '%')\n",
    "model_Resnet.save('./model_Resnet.h5')\n",
    "#The testing accuracy is : 49.460819363594055 %"
   ]
  },
  {
   "cell_type": "markdown",
   "metadata": {},
   "source": [
    "<a id='freezeResNet152V2'></a>\n",
    "## Model ResNet152V2 ( false trainable  )"
   ]
  },
  {
   "cell_type": "code",
   "execution_count": 78,
   "metadata": {
    "execution": {
     "iopub.execute_input": "2022-06-01T23:21:20.959247Z",
     "iopub.status.busy": "2022-06-01T23:21:20.958923Z",
     "iopub.status.idle": "2022-06-01T23:21:25.787455Z",
     "shell.execute_reply": "2022-06-01T23:21:25.786630Z",
     "shell.execute_reply.started": "2022-06-01T23:21:20.959220Z"
    }
   },
   "outputs": [
    {
     "name": "stdout",
     "output_type": "stream",
     "text": [
      "Model: \"sequential_7\"\n",
      "_________________________________________________________________\n",
      "Layer (type)                 Output Shape              Param #   \n",
      "=================================================================\n",
      "resnet152v2 (Functional)     (None, 7, 7, 2048)        58331648  \n",
      "_________________________________________________________________\n",
      "flatten_6 (Flatten)          (None, 100352)            0         \n",
      "_________________________________________________________________\n",
      "dense_13 (Dense)             (None, 512)               51380736  \n",
      "_________________________________________________________________\n",
      "dense_14 (Dense)             (None, 6)                 3078      \n",
      "=================================================================\n",
      "Total params: 109,715,462\n",
      "Trainable params: 51,383,814\n",
      "Non-trainable params: 58,331,648\n",
      "_________________________________________________________________\n"
     ]
    }
   ],
   "source": [
    "input_shape = (224,224,3)\n",
    "ResNet152V2= tf.keras.applications.ResNet152V2(include_top=False, weights=\"imagenet\", input_shape=input_shape)\n",
    "for layer in ResNet152V2.layers:\n",
    "        layer.trainable=False\n",
    "model_ResnetF = Sequential()\n",
    "model_ResnetF.add(ResNet152V2)\n",
    "model_ResnetF.add(Flatten())\n",
    "model_ResnetF.add(Dense(512, activation='relu'))\n",
    "model_ResnetF.add(Dense(6, activation='softmax'))\n",
    "model_ResnetF.compile(optimizer=Adam(lr=0.0001),loss=\"categorical_crossentropy\",metrics=[\"accuracy\"])\n",
    "model_ResnetF.summary()"
   ]
  },
  {
   "cell_type": "code",
   "execution_count": 79,
   "metadata": {
    "execution": {
     "iopub.execute_input": "2022-06-01T23:21:25.789395Z",
     "iopub.status.busy": "2022-06-01T23:21:25.788567Z",
     "iopub.status.idle": "2022-06-02T00:14:42.825184Z",
     "shell.execute_reply": "2022-06-02T00:14:42.824318Z",
     "shell.execute_reply.started": "2022-06-01T23:21:25.789356Z"
    }
   },
   "outputs": [
    {
     "name": "stdout",
     "output_type": "stream",
     "text": [
      "Epoch 1/3\n",
      "1036/1036 [==============================] - 956s 915ms/step - loss: 0.0196 - accuracy: 0.9979 - val_loss: 0.0130 - val_accuracy: 0.9996\n",
      "Epoch 2/3\n",
      "1036/1036 [==============================] - 960s 926ms/step - loss: 0.0074 - accuracy: 0.9996 - val_loss: 0.0039 - val_accuracy: 0.9997\n",
      "Epoch 3/3\n",
      "1036/1036 [==============================] - 947s 914ms/step - loss: 0.0035 - accuracy: 0.9998 - val_loss: 0.0046 - val_accuracy: 0.9997\n",
      "7722/7722 [==============================] - 228s 30ms/step - loss: 1.3862e-08 - accuracy: 1.0000\n",
      "The testing accuracy is : 100.0 %\n"
     ]
    }
   ],
   "source": [
    "epochs = 3\n",
    "historyResnetF = model_ResnetF.fit_generator(trainRgb,\n",
    "                            steps_per_epoch=trainRgb.samples//trainRgb.batch_size,\n",
    "                            validation_data=validRgb,\n",
    "                            verbose=1,\n",
    "                            class_weight = cw,\n",
    "                            validation_steps=validRgb.samples//validRgb.batch_size,\n",
    "                            epochs=epochs,callbacks=callbacks_list)\n",
    "\n",
    "test_accu = model_ResnetF.evaluate(testRgb)\n",
    "print('The testing accuracy is :',test_accu[1]*100, '%')\n",
    "#The testing accuracy is : 49.460819363594055 %\n",
    "model_ResnetF.save('./model_ResnetF.h5')"
   ]
  },
  {
   "cell_type": "markdown",
   "metadata": {},
   "source": [
    "<a id='Xception'></a>\n",
    "## Model Xception "
   ]
  },
  {
   "cell_type": "markdown",
   "metadata": {},
   "source": [
    "<a id='aXception'></a>\n",
    "## Model Xception ( trainable  )           "
   ]
  },
  {
   "cell_type": "code",
   "execution_count": 80,
   "metadata": {
    "execution": {
     "iopub.execute_input": "2022-06-02T00:14:42.827920Z",
     "iopub.status.busy": "2022-06-02T00:14:42.827559Z",
     "iopub.status.idle": "2022-06-02T00:14:45.065715Z",
     "shell.execute_reply": "2022-06-02T00:14:45.064902Z",
     "shell.execute_reply.started": "2022-06-02T00:14:42.827883Z"
    }
   },
   "outputs": [
    {
     "name": "stdout",
     "output_type": "stream",
     "text": [
      "Downloading data from https://storage.googleapis.com/tensorflow/keras-applications/xception/xception_weights_tf_dim_ordering_tf_kernels_notop.h5\n",
      "83689472/83683744 [==============================] - 0s 0us/step\n",
      "83697664/83683744 [==============================] - 0s 0us/step\n",
      "Model: \"sequential_8\"\n",
      "_________________________________________________________________\n",
      "Layer (type)                 Output Shape              Param #   \n",
      "=================================================================\n",
      "xception (Functional)        (None, 7, 7, 2048)        20861480  \n",
      "_________________________________________________________________\n",
      "conv2d_12 (Conv2D)           (None, 5, 5, 64)          1179712   \n",
      "_________________________________________________________________\n",
      "max_pooling2d_17 (MaxPooling (None, 2, 2, 64)          0         \n",
      "_________________________________________________________________\n",
      "dropout_6 (Dropout)          (None, 2, 2, 64)          0         \n",
      "_________________________________________________________________\n",
      "flatten_7 (Flatten)          (None, 256)               0         \n",
      "_________________________________________________________________\n",
      "dense_15 (Dense)             (None, 128)               32896     \n",
      "_________________________________________________________________\n",
      "dropout_7 (Dropout)          (None, 128)               0         \n",
      "_________________________________________________________________\n",
      "dense_16 (Dense)             (None, 6)                 774       \n",
      "=================================================================\n",
      "Total params: 22,074,862\n",
      "Trainable params: 22,020,334\n",
      "Non-trainable params: 54,528\n",
      "_________________________________________________________________\n"
     ]
    }
   ],
   "source": [
    "input_shape = (224,224,3)\n",
    "Xception= tf.keras.applications.Xception(include_top=False, weights=\"imagenet\", input_shape=input_shape)\n",
    "model_Xception= Sequential()\n",
    "model_Xception.add(Xception)\n",
    "model_Xception.add(Conv2D(64, (3, 3), activation = 'relu'))\n",
    "model_Xception.add(MaxPooling2D(pool_size = (2, 2)))\n",
    "model_Xception.add(Dropout(0.10))\n",
    "model_Xception.add(Flatten())\n",
    "model_Xception.add(Dense(128,activation='relu'))\n",
    "model_Xception.add(Dropout(0.10))\n",
    "model_Xception.add(Dense(6, activation='softmax'))\n",
    "model_Xception.compile(optimizer=Adam(lr=0.0001),loss=\"categorical_crossentropy\",metrics=[\"accuracy\"])\n",
    "model_Xception.summary()"
   ]
  },
  {
   "cell_type": "code",
   "execution_count": 81,
   "metadata": {
    "execution": {
     "iopub.execute_input": "2022-06-02T00:14:45.067729Z",
     "iopub.status.busy": "2022-06-02T00:14:45.067212Z",
     "iopub.status.idle": "2022-06-02T01:14:57.289955Z",
     "shell.execute_reply": "2022-06-02T01:14:57.289113Z",
     "shell.execute_reply.started": "2022-06-02T00:14:45.067690Z"
    }
   },
   "outputs": [
    {
     "name": "stdout",
     "output_type": "stream",
     "text": [
      "Epoch 1/3\n",
      "1036/1036 [==============================] - 1153s 1s/step - loss: 0.0157 - accuracy: 0.9960 - val_loss: 2.2138e-04 - val_accuracy: 0.9999\n",
      "Epoch 2/3\n",
      "1036/1036 [==============================] - 1141s 1s/step - loss: 0.0021 - accuracy: 0.9996 - val_loss: 2.1218e-04 - val_accuracy: 0.9999\n",
      "Epoch 3/3\n",
      "1036/1036 [==============================] - 1147s 1s/step - loss: 0.0024 - accuracy: 0.9996 - val_loss: 9.0946e-05 - val_accuracy: 0.9999\n",
      "7722/7722 [==============================] - 90s 12ms/step - loss: 6.4924e-05 - accuracy: 1.0000\n",
      "The testing accuracy is : 100.0 %\n"
     ]
    }
   ],
   "source": [
    "epochs = 3\n",
    "\n",
    "historyXception = model_Xception.fit_generator(trainRgb,\n",
    "                            steps_per_epoch=trainRgb.samples//trainRgb.batch_size,\n",
    "                            validation_data=validRgb,\n",
    "                            verbose=1,\n",
    "                            class_weight = cw,\n",
    "                            validation_steps=validRgb.samples//validRgb.batch_size,\n",
    "                            epochs=epochs,callbacks=callbacks_list)\n",
    "\n",
    "test_accu = model_Xception.evaluate(testRgb)\n",
    "print('The testing accuracy is :',test_accu[1]*100, '%')\n",
    "model_Xception.save('./model_Xception.h5')"
   ]
  },
  {
   "cell_type": "markdown",
   "metadata": {},
   "source": [
    "<a id='bXception'></a>\n",
    "## Model Xception ( false trainable  )    "
   ]
  },
  {
   "cell_type": "code",
   "execution_count": 82,
   "metadata": {
    "execution": {
     "iopub.execute_input": "2022-06-02T01:14:57.291887Z",
     "iopub.status.busy": "2022-06-02T01:14:57.291469Z",
     "iopub.status.idle": "2022-06-02T01:14:58.718482Z",
     "shell.execute_reply": "2022-06-02T01:14:58.717628Z",
     "shell.execute_reply.started": "2022-06-02T01:14:57.291845Z"
    }
   },
   "outputs": [
    {
     "name": "stdout",
     "output_type": "stream",
     "text": [
      "Model: \"sequential_9\"\n",
      "_________________________________________________________________\n",
      "Layer (type)                 Output Shape              Param #   \n",
      "=================================================================\n",
      "xception (Functional)        (None, 7, 7, 2048)        20861480  \n",
      "_________________________________________________________________\n",
      "conv2d_17 (Conv2D)           (None, 5, 5, 64)          1179712   \n",
      "_________________________________________________________________\n",
      "max_pooling2d_18 (MaxPooling (None, 2, 2, 64)          0         \n",
      "_________________________________________________________________\n",
      "dropout_8 (Dropout)          (None, 2, 2, 64)          0         \n",
      "_________________________________________________________________\n",
      "flatten_8 (Flatten)          (None, 256)               0         \n",
      "_________________________________________________________________\n",
      "dense_17 (Dense)             (None, 128)               32896     \n",
      "_________________________________________________________________\n",
      "dropout_9 (Dropout)          (None, 128)               0         \n",
      "_________________________________________________________________\n",
      "dense_18 (Dense)             (None, 6)                 774       \n",
      "=================================================================\n",
      "Total params: 22,074,862\n",
      "Trainable params: 1,213,382\n",
      "Non-trainable params: 20,861,480\n",
      "_________________________________________________________________\n"
     ]
    }
   ],
   "source": [
    "input_shape = (224,224,3)\n",
    "Xception= tf.keras.applications.Xception(include_top=False, weights=\"imagenet\", input_shape=input_shape)\n",
    "for layer in Xception.layers:\n",
    "    layer.trainable = False\n",
    "model_XceptionF = Sequential()\n",
    "model_XceptionF.add(Xception)\n",
    "model_XceptionF.add(Conv2D(64, (3, 3), activation = 'relu'))\n",
    "model_XceptionF.add(MaxPooling2D(pool_size = (2, 2)))\n",
    "model_XceptionF.add(Dropout(0.10))\n",
    "model_XceptionF.add(Flatten())\n",
    "model_XceptionF.add(Dense(128,activation='relu'))\n",
    "model_XceptionF.add(Dropout(0.10))\n",
    "model_XceptionF.add(Dense(6, activation='softmax'))\n",
    "model_XceptionF.compile(optimizer=Adam(lr=0.0001),loss=\"categorical_crossentropy\",metrics=[\"accuracy\"])\n",
    "model_XceptionF.summary()"
   ]
  },
  {
   "cell_type": "code",
   "execution_count": 83,
   "metadata": {
    "execution": {
     "iopub.execute_input": "2022-06-02T01:14:58.720339Z",
     "iopub.status.busy": "2022-06-02T01:14:58.719795Z",
     "iopub.status.idle": "2022-06-02T02:02:12.577085Z",
     "shell.execute_reply": "2022-06-02T02:02:12.576272Z",
     "shell.execute_reply.started": "2022-06-02T01:14:58.720298Z"
    }
   },
   "outputs": [
    {
     "name": "stdout",
     "output_type": "stream",
     "text": [
      "Epoch 1/3\n",
      "1036/1036 [==============================] - 903s 869ms/step - loss: 0.0195 - accuracy: 0.9953 - val_loss: 0.0014 - val_accuracy: 0.9996\n",
      "Epoch 2/3\n",
      "1036/1036 [==============================] - 896s 865ms/step - loss: 0.0029 - accuracy: 0.9994 - val_loss: 0.0015 - val_accuracy: 0.9995\n",
      "Epoch 3/3\n",
      "1036/1036 [==============================] - 898s 867ms/step - loss: 0.0026 - accuracy: 0.9995 - val_loss: 0.0028 - val_accuracy: 0.9992\n",
      "\n",
      "Epoch 00003: ReduceLROnPlateau reducing learning rate to 2.9999999242136255e-05.\n",
      "7722/7722 [==============================] - 90s 12ms/step - loss: 0.0040 - accuracy: 0.9990\n",
      "The testing accuracy is : 99.8964011669159 %\n"
     ]
    }
   ],
   "source": [
    "epochs = 3\n",
    "\n",
    "historyXceptionF = model_XceptionF.fit_generator(trainRgb,\n",
    "                            steps_per_epoch=trainRgb.samples//trainRgb.batch_size,\n",
    "                            validation_data=validRgb,\n",
    "                            verbose=1,\n",
    "                            class_weight = cw,\n",
    "                            validation_steps=validRgb.samples//validRgb.batch_size,\n",
    "                            epochs=epochs,callbacks=callbacks_list)\n",
    "\n",
    "test_accu = model_XceptionF.evaluate(testRgb)\n",
    "print('The testing accuracy is :',test_accu[1]*100, '%')\n",
    "model_XceptionF.save('./model_XceptionF.h5')"
   ]
  },
  {
   "cell_type": "markdown",
   "metadata": {},
   "source": [
    " <a id='MobileNet'></a>\n",
    "## Model MobileNet  "
   ]
  },
  {
   "cell_type": "markdown",
   "metadata": {},
   "source": [
    "# <a id='trainMobileNet'></a>\n",
    "## Model MobileNet (  trainable  )    "
   ]
  },
  {
   "cell_type": "code",
   "execution_count": 84,
   "metadata": {
    "execution": {
     "iopub.execute_input": "2022-06-02T02:02:12.579090Z",
     "iopub.status.busy": "2022-06-02T02:02:12.578714Z",
     "iopub.status.idle": "2022-06-02T02:02:13.927112Z",
     "shell.execute_reply": "2022-06-02T02:02:13.926318Z",
     "shell.execute_reply.started": "2022-06-02T02:02:12.579052Z"
    }
   },
   "outputs": [
    {
     "name": "stdout",
     "output_type": "stream",
     "text": [
      "Downloading data from https://storage.googleapis.com/tensorflow/keras-applications/mobilenet/mobilenet_1_0_224_tf_no_top.h5\n",
      "17227776/17225924 [==============================] - 0s 0us/step\n",
      "17235968/17225924 [==============================] - 0s 0us/step\n",
      "Model: \"sequential_10\"\n",
      "_________________________________________________________________\n",
      "Layer (type)                 Output Shape              Param #   \n",
      "=================================================================\n",
      "mobilenet_1.00_224 (Function (None, 1024)              3228864   \n",
      "_________________________________________________________________\n",
      "flatten_9 (Flatten)          (None, 1024)              0         \n",
      "_________________________________________________________________\n",
      "dense_19 (Dense)             (None, 512)               524800    \n",
      "_________________________________________________________________\n",
      "dense_20 (Dense)             (None, 6)                 3078      \n",
      "=================================================================\n",
      "Total params: 3,756,742\n",
      "Trainable params: 3,734,854\n",
      "Non-trainable params: 21,888\n",
      "_________________________________________________________________\n"
     ]
    }
   ],
   "source": [
    "input_shape = (224,224,3)\n",
    "MobileNet= tf.keras.applications.MobileNet(include_top=False,input_shape=input_shape,pooling='avg',classes=4,weights='imagenet')\n",
    "model_MobileNet = Sequential()\n",
    "model_MobileNet.add(MobileNet)\n",
    "model_MobileNet.add(Flatten())\n",
    "model_MobileNet.add(Dense(512, activation='relu'))\n",
    "model_MobileNet.add(Dense(6, activation='softmax'))\n",
    "model_MobileNet.compile(optimizer=Adam(lr=0.0001),loss=\"categorical_crossentropy\",metrics=[\"accuracy\"])\n",
    "model_MobileNet.summary()"
   ]
  },
  {
   "cell_type": "code",
   "execution_count": 85,
   "metadata": {
    "execution": {
     "iopub.execute_input": "2022-06-02T02:02:13.928965Z",
     "iopub.status.busy": "2022-06-02T02:02:13.928463Z",
     "iopub.status.idle": "2022-06-02T02:51:18.609295Z",
     "shell.execute_reply": "2022-06-02T02:51:18.608464Z",
     "shell.execute_reply.started": "2022-06-02T02:02:13.928928Z"
    }
   },
   "outputs": [
    {
     "name": "stdout",
     "output_type": "stream",
     "text": [
      "Epoch 1/3\n",
      "1036/1036 [==============================] - 943s 908ms/step - loss: 0.0089 - accuracy: 0.9977 - val_loss: 1.3818e-04 - val_accuracy: 0.9999\n",
      "Epoch 2/3\n",
      "1036/1036 [==============================] - 941s 908ms/step - loss: 9.0065e-04 - accuracy: 0.9997 - val_loss: 0.0016 - val_accuracy: 0.9996\n",
      "Epoch 3/3\n",
      "1036/1036 [==============================] - 937s 904ms/step - loss: 4.5868e-04 - accuracy: 0.9999 - val_loss: 5.5302e-05 - val_accuracy: 1.0000\n",
      "\n",
      "Epoch 00003: ReduceLROnPlateau reducing learning rate to 2.9999999242136255e-05.\n",
      "7722/7722 [==============================] - 54s 7ms/step - loss: 1.7926e-04 - accuracy: 0.9999\n",
      "The testing accuracy is : 99.98704791069031 %\n"
     ]
    }
   ],
   "source": [
    "epochs = 3\n",
    "\n",
    "historyMobileNet = model_MobileNet.fit_generator(trainRgb,\n",
    "                            steps_per_epoch=trainRgb.samples//trainRgb.batch_size,\n",
    "                            validation_data=validRgb,\n",
    "                            verbose=1,\n",
    "                            class_weight = cw,\n",
    "                            validation_steps=validRgb.samples//validRgb.batch_size,\n",
    "                            epochs=epochs,callbacks=callbacks_list)\n",
    "\n",
    "test_accu = model_MobileNet.evaluate(testRgb)\n",
    "print('The testing accuracy is :',test_accu[1]*100, '%')\n",
    "model_MobileNet.save('./model_MobileNet.h5')"
   ]
  },
  {
   "cell_type": "markdown",
   "metadata": {},
   "source": [
    " <a id='freezeMobileNet'></a>\n",
    "## Model MobileNet ( false trainable  )    "
   ]
  },
  {
   "cell_type": "code",
   "execution_count": 86,
   "metadata": {
    "execution": {
     "iopub.execute_input": "2022-06-02T02:51:18.612626Z",
     "iopub.status.busy": "2022-06-02T02:51:18.612296Z",
     "iopub.status.idle": "2022-06-02T02:51:19.307040Z",
     "shell.execute_reply": "2022-06-02T02:51:19.306262Z",
     "shell.execute_reply.started": "2022-06-02T02:51:18.612598Z"
    }
   },
   "outputs": [
    {
     "name": "stdout",
     "output_type": "stream",
     "text": [
      "Model: \"sequential_11\"\n",
      "_________________________________________________________________\n",
      "Layer (type)                 Output Shape              Param #   \n",
      "=================================================================\n",
      "mobilenet_1.00_224 (Function (None, 1024)              3228864   \n",
      "_________________________________________________________________\n",
      "flatten_10 (Flatten)         (None, 1024)              0         \n",
      "_________________________________________________________________\n",
      "dense_21 (Dense)             (None, 512)               524800    \n",
      "_________________________________________________________________\n",
      "dense_22 (Dense)             (None, 6)                 3078      \n",
      "=================================================================\n",
      "Total params: 3,756,742\n",
      "Trainable params: 527,878\n",
      "Non-trainable params: 3,228,864\n",
      "_________________________________________________________________\n"
     ]
    }
   ],
   "source": [
    "input_shape = (224,224,3)\n",
    "MobileNet= tf.keras.applications.MobileNet(include_top=False,input_shape=input_shape,pooling='avg',classes=4,weights='imagenet')\n",
    "for layer in MobileNet.layers:\n",
    "        layer.trainable=False\n",
    "model_MobileNetF = Sequential()\n",
    "model_MobileNetF.add(MobileNet)\n",
    "model_MobileNetF.add(Flatten())\n",
    "model_MobileNetF.add(Dense(512, activation='relu'))\n",
    "model_MobileNetF.add(Dense(6, activation='softmax'))\n",
    "model_MobileNetF.compile(optimizer=Adam(lr=0.0001),loss=\"categorical_crossentropy\",metrics=[\"accuracy\"])\n",
    "model_MobileNetF.summary()"
   ]
  },
  {
   "cell_type": "code",
   "execution_count": 87,
   "metadata": {
    "execution": {
     "iopub.execute_input": "2022-06-02T02:51:19.309116Z",
     "iopub.status.busy": "2022-06-02T02:51:19.308149Z",
     "iopub.status.idle": "2022-06-02T03:34:51.606125Z",
     "shell.execute_reply": "2022-06-02T03:34:51.605246Z",
     "shell.execute_reply.started": "2022-06-02T02:51:19.309078Z"
    }
   },
   "outputs": [
    {
     "name": "stdout",
     "output_type": "stream",
     "text": [
      "Epoch 1/3\n",
      "1036/1036 [==============================] - 843s 813ms/step - loss: 0.0243 - accuracy: 0.9940 - val_loss: 8.8066e-04 - val_accuracy: 0.9998\n",
      "Epoch 2/3\n",
      "1036/1036 [==============================] - 838s 809ms/step - loss: 7.1701e-04 - accuracy: 0.9998 - val_loss: 7.5831e-04 - val_accuracy: 0.9998\n",
      "Epoch 3/3\n",
      "1036/1036 [==============================] - 831s 802ms/step - loss: 3.1862e-04 - accuracy: 0.9999 - val_loss: 4.8899e-04 - val_accuracy: 0.9998\n",
      "7722/7722 [==============================] - 55s 7ms/step - loss: 5.2603e-04 - accuracy: 0.9997\n",
      "The testing accuracy is : 99.97410178184509 %\n"
     ]
    }
   ],
   "source": [
    "epochs = 3\n",
    "\n",
    "historyMobileNetF = model_MobileNetF.fit_generator(trainRgb,\n",
    "                            steps_per_epoch=trainRgb.samples//trainRgb.batch_size,\n",
    "                            validation_data=validRgb,\n",
    "                            verbose=1,\n",
    "                            class_weight = cw,\n",
    "                            validation_steps=validRgb.samples//validRgb.batch_size,\n",
    "                            epochs=epochs,callbacks=callbacks_list)\n",
    "\n",
    "test_accu = model_MobileNetF.evaluate(testRgb)\n",
    "print('The testing accuracy is :',test_accu[1]*100, '%')\n",
    "model_MobileNetF.save('./model_MobileNetF.h5')"
   ]
  },
  {
   "cell_type": "markdown",
   "metadata": {},
   "source": [
    "<a id='InceptionV3'></a>\n",
    "## Model InceptionV3 "
   ]
  },
  {
   "cell_type": "markdown",
   "metadata": {},
   "source": [
    "<a id='trainInceptionV3'></a>\n",
    "## Model InceptionV3 ( trainable )    "
   ]
  },
  {
   "cell_type": "code",
   "execution_count": 92,
   "metadata": {
    "execution": {
     "iopub.execute_input": "2022-06-02T03:38:33.403139Z",
     "iopub.status.busy": "2022-06-02T03:38:33.402238Z",
     "iopub.status.idle": "2022-06-02T03:38:36.582127Z",
     "shell.execute_reply": "2022-06-02T03:38:36.581320Z",
     "shell.execute_reply.started": "2022-06-02T03:38:33.403091Z"
    }
   },
   "outputs": [
    {
     "name": "stdout",
     "output_type": "stream",
     "text": [
      "Model: \"sequential_13\"\n",
      "_________________________________________________________________\n",
      "Layer (type)                 Output Shape              Param #   \n",
      "=================================================================\n",
      "inception_v3 (Functional)    (None, 8, 8, 2048)        21802784  \n",
      "_________________________________________________________________\n",
      "conv2d_207 (Conv2D)          (None, 6, 6, 64)          1179712   \n",
      "_________________________________________________________________\n",
      "max_pooling2d_28 (MaxPooling (None, 3, 3, 64)          0         \n",
      "_________________________________________________________________\n",
      "dropout_12 (Dropout)         (None, 3, 3, 64)          0         \n",
      "_________________________________________________________________\n",
      "flatten_12 (Flatten)         (None, 576)               0         \n",
      "_________________________________________________________________\n",
      "dense_25 (Dense)             (None, 128)               73856     \n",
      "_________________________________________________________________\n",
      "dropout_13 (Dropout)         (None, 128)               0         \n",
      "_________________________________________________________________\n",
      "dense_26 (Dense)             (None, 6)                 774       \n",
      "=================================================================\n",
      "Total params: 23,057,126\n",
      "Trainable params: 23,022,694\n",
      "Non-trainable params: 34,432\n",
      "_________________________________________________________________\n"
     ]
    }
   ],
   "source": [
    "input_shape = (299,299,3)\n",
    "InceptionV3= tf.keras.applications.InceptionV3(include_top=False, weights=\"imagenet\", input_shape=input_shape)\n",
    "model_InceptionV3= Sequential()\n",
    "model_InceptionV3.add(InceptionV3)\n",
    "model_InceptionV3.add(Conv2D(64, (3, 3), activation = 'relu'))\n",
    "model_InceptionV3.add(MaxPooling2D(pool_size = (2, 2)))\n",
    "model_InceptionV3.add(Dropout(0.10))\n",
    "model_InceptionV3.add(Flatten())\n",
    "model_InceptionV3.add(Dense(128,activation='relu'))\n",
    "model_InceptionV3.add(Dropout(0.10))\n",
    "model_InceptionV3.add(Dense(6, activation='softmax'))\n",
    "model_InceptionV3.compile(optimizer=Adam(lr=0.0001),loss=\"categorical_crossentropy\",metrics=[\"accuracy\"])\n",
    "model_InceptionV3.summary()"
   ]
  },
  {
   "cell_type": "code",
   "execution_count": 93,
   "metadata": {
    "execution": {
     "iopub.execute_input": "2022-06-02T03:38:36.584574Z",
     "iopub.status.busy": "2022-06-02T03:38:36.584044Z",
     "iopub.status.idle": "2022-06-02T04:58:55.818668Z",
     "shell.execute_reply": "2022-06-02T04:58:55.817813Z",
     "shell.execute_reply.started": "2022-06-02T03:38:36.584535Z"
    }
   },
   "outputs": [
    {
     "name": "stdout",
     "output_type": "stream",
     "text": [
      "Epoch 1/3\n",
      "1036/1036 [==============================] - 1541s 1s/step - loss: 0.0146 - accuracy: 0.9959 - val_loss: 0.0045 - val_accuracy: 0.9985\n",
      "Epoch 2/3\n",
      "1036/1036 [==============================] - 1538s 1s/step - loss: 9.7674e-04 - accuracy: 0.9997 - val_loss: 2.0261e-04 - val_accuracy: 0.9999\n",
      "Epoch 3/3\n",
      "1036/1036 [==============================] - 1538s 1s/step - loss: 0.0067 - accuracy: 0.9989 - val_loss: 2.8509e-04 - val_accuracy: 0.9999\n",
      "7722/7722 [==============================] - 154s 20ms/step - loss: 2.7064e-04 - accuracy: 1.0000\n",
      "The testing accuracy is : 100.0 %\n"
     ]
    }
   ],
   "source": [
    "epochs = 3\n",
    "\n",
    "historyInception = model_InceptionV3.fit_generator(trainRgb99,\n",
    "                            steps_per_epoch=trainRgb99.samples//trainRgb99.batch_size,\n",
    "                            validation_data=validRgb99,\n",
    "                            verbose=1,\n",
    "                            class_weight = cw,\n",
    "                            validation_steps=validRgb99.samples//validRgb99.batch_size,\n",
    "                            epochs=epochs,callbacks=callbacks_list)\n",
    "\n",
    "test_accu = model_InceptionV3.evaluate(testRgb99)\n",
    "print('The testing accuracy is :',test_accu[1]*100, '%')\n",
    "model_InceptionV3.save('./model_InceptionV3.h5')"
   ]
  },
  {
   "cell_type": "markdown",
   "metadata": {},
   "source": [
    "<a id='freezeInceptionV3'></a>\n",
    "## Model InceptionV3 ( false trainable  )    "
   ]
  },
  {
   "cell_type": "code",
   "execution_count": 94,
   "metadata": {
    "execution": {
     "iopub.execute_input": "2022-06-02T04:58:55.821229Z",
     "iopub.status.busy": "2022-06-02T04:58:55.820853Z",
     "iopub.status.idle": "2022-06-02T04:58:58.180764Z",
     "shell.execute_reply": "2022-06-02T04:58:58.179962Z",
     "shell.execute_reply.started": "2022-06-02T04:58:55.821190Z"
    }
   },
   "outputs": [
    {
     "name": "stdout",
     "output_type": "stream",
     "text": [
      "Model: \"sequential_14\"\n",
      "_________________________________________________________________\n",
      "Layer (type)                 Output Shape              Param #   \n",
      "=================================================================\n",
      "inception_v3 (Functional)    (None, 8, 8, 2048)        21802784  \n",
      "_________________________________________________________________\n",
      "conv2d_302 (Conv2D)          (None, 6, 6, 64)          1179712   \n",
      "_________________________________________________________________\n",
      "max_pooling2d_33 (MaxPooling (None, 3, 3, 64)          0         \n",
      "_________________________________________________________________\n",
      "dropout_14 (Dropout)         (None, 3, 3, 64)          0         \n",
      "_________________________________________________________________\n",
      "flatten_13 (Flatten)         (None, 576)               0         \n",
      "_________________________________________________________________\n",
      "dense_27 (Dense)             (None, 128)               73856     \n",
      "_________________________________________________________________\n",
      "dropout_15 (Dropout)         (None, 128)               0         \n",
      "_________________________________________________________________\n",
      "dense_28 (Dense)             (None, 6)                 774       \n",
      "=================================================================\n",
      "Total params: 23,057,126\n",
      "Trainable params: 1,254,342\n",
      "Non-trainable params: 21,802,784\n",
      "_________________________________________________________________\n"
     ]
    }
   ],
   "source": [
    "input_shape = (299,299,3)\n",
    "InceptionV3= tf.keras.applications.InceptionV3(include_top=False, weights=\"imagenet\", input_shape=input_shape)\n",
    "for layer in InceptionV3.layers:\n",
    "    layer.trainable = False\n",
    "model_InceptionV3F= Sequential()\n",
    "model_InceptionV3F.add(InceptionV3)\n",
    "model_InceptionV3F.add(Conv2D(64, (3, 3), activation = 'relu'))\n",
    "model_InceptionV3F.add(MaxPooling2D(pool_size = (2, 2)))\n",
    "model_InceptionV3F.add(Dropout(0.10))\n",
    "model_InceptionV3F.add(Flatten())\n",
    "model_InceptionV3F.add(Dense(128,activation='relu'))\n",
    "model_InceptionV3F.add(Dropout(0.10))\n",
    "model_InceptionV3F.add(Dense(6, activation='softmax'))\n",
    "model_InceptionV3F.compile(optimizer=Adam(lr=0.0001),loss=\"categorical_crossentropy\",metrics=[\"accuracy\"])\n",
    "model_InceptionV3F.summary()"
   ]
  },
  {
   "cell_type": "code",
   "execution_count": null,
   "metadata": {
    "execution": {
     "iopub.execute_input": "2022-06-02T04:58:58.182555Z",
     "iopub.status.busy": "2022-06-02T04:58:58.182048Z"
    }
   },
   "outputs": [
    {
     "name": "stdout",
     "output_type": "stream",
     "text": [
      "Epoch 1/3\n",
      "1036/1036 [==============================] - 1403s 1s/step - loss: 0.0228 - accuracy: 0.9938 - val_loss: 0.0025 - val_accuracy: 0.9993\n",
      "Epoch 2/3\n",
      "1036/1036 [==============================] - 1405s 1s/step - loss: 0.0022 - accuracy: 0.9997 - val_loss: 0.0012 - val_accuracy: 0.9995\n",
      "Epoch 3/3\n",
      "1036/1036 [==============================] - 1391s 1s/step - loss: 0.0017 - accuracy: 0.9996 - val_loss: 0.0046 - val_accuracy: 0.9992\n",
      "7253/7722 [===========================>..] - ETA: 9s - loss: 6.4298e-04 - accuracy: 0.9997"
     ]
    }
   ],
   "source": [
    "epochs = 3\n",
    "\n",
    "historyInceptionV3F = model_InceptionV3F.fit_generator(trainRgb99,\n",
    "                            steps_per_epoch=trainRgb99.samples//trainRgb99.batch_size,\n",
    "                            validation_data=validRgb99,\n",
    "                            verbose=1,\n",
    "                            class_weight = cw,\n",
    "                            validation_steps=validRgb99.samples//validRgb99.batch_size,\n",
    "                            epochs=epochs,callbacks=callbacks_list)\n",
    "\n",
    "test_accu = model_InceptionV3F.evaluate(testRgb99)\n",
    "print('The testing accuracy is :',test_accu[1]*100, '%')\n",
    "model_InceptionV3F.save('./model_InceptionV3F.h5')"
   ]
  },
  {
   "cell_type": "code",
   "execution_count": null,
   "metadata": {},
   "outputs": [],
   "source": [
    "pd.DataFrame(scratchSimple.history).plot(figsize=(20, 12))\n",
    "plt.title('Model Status')\n",
    "plt.ylabel('Value')\n",
    "plt.xlabel('Epoch');"
   ]
  },
  {
   "cell_type": "code",
   "execution_count": null,
   "metadata": {},
   "outputs": [],
   "source": [
    "plt.plot(scratchSimple.history['accuracy'])\n",
    "plt.plot(scratchSimple.history['val_accuracy'])\n",
    "plt.title('Model accuracy')\n",
    "plt.ylabel('Accuracy')\n",
    "plt.xlabel('Epoch')\n",
    "plt.legend(['Train', 'Test'], loc='upper left')\n",
    "plt.show()\n",
    "\n",
    "# Plot training & validation loss values\n",
    "plt.plot(scratchSimple.history['loss'])\n",
    "plt.plot(scratchSimple.history['val_loss'])\n",
    "plt.title('Model loss')\n",
    "plt.ylabel('Loss')\n",
    "plt.xlabel('Epoch')\n",
    "plt.legend(['Train', 'Test'], loc='upper left')\n",
    "plt.show()"
   ]
  },
  {
   "cell_type": "markdown",
   "metadata": {},
   "source": [
    "<a id='perf'></a>\n",
    "## Model Performance"
   ]
  },
  {
   "cell_type": "code",
   "execution_count": null,
   "metadata": {},
   "outputs": [],
   "source": [
    "test_accu = model_InceptionV3.evaluate(test)\n",
    "print('The testing accuracy is :',test_accu[1]*100, '%')"
   ]
  },
  {
   "cell_type": "code",
   "execution_count": null,
   "metadata": {},
   "outputs": [],
   "source": [
    "from keras.models import load_model\n",
    "model = load_model('./model_InceptionV3.h5.h5')"
   ]
  },
  {
   "cell_type": "code",
   "execution_count": null,
   "metadata": {},
   "outputs": [],
   "source": [
    "idx2label_dict = {testRgb.class_indices[k]: k for k in testRgb.class_indices}\n",
    "idx2label_dict"
   ]
  },
  {
   "cell_type": "code",
   "execution_count": null,
   "metadata": {},
   "outputs": [],
   "source": [
    "predict_x=model_InceptionV3.predict(testRgb) \n",
    "y_pred=np.argmax(predict_x,axis=1)\n",
    "idx2label_dict = {testRgb.class_indices[k]: k for k in testRgb.class_indices}\n",
    "y_true = testRgb.classes\n",
    "\n",
    "\n",
    "plt.figure(figsize = (15,7))\n",
    "\n",
    "cm = pd.DataFrame(data=confusion_matrix(y_true, y_pred, labels=[0, 1,2,3,4]),\n",
    "                  index=[\"Actual \" + idx2label_dict[0],\n",
    "                         \"Actual \" + idx2label_dict[1],\n",
    "                         \"Actual \" + idx2label_dict[2],\n",
    "                         \"Actual \" + idx2label_dict[3],\n",
    "                         \"Actual \" + idx2label_dict[4],\n",
    "                         \"Actual \" + idx2label_dict[5]],\n",
    "                  \n",
    "                  columns=[\"Predicted \"+ idx2label_dict[0],\n",
    "                           \"Predicted \"+ idx2label_dict[1],\n",
    "                           \"Predicted \"+ idx2label_dict[2],\n",
    "                           \"Predicted \"+ idx2label_dict[3],\n",
    "                           \"Predicted \"+ idx2label_dict[4],\n",
    "                           \"Predicted \"+ idx2label_dict[5]])\n",
    "\n",
    "seaborn.heatmap(cm,annot=True,fmt=\"d\");\n",
    "\n",
    "test_accuracy = model_InceptionV3.evaluate(testRgb)\n",
    "print('The testing accuracy is :',test_accuracy[1]*100, '%')\n",
    "print('confusion matrix :\\n',confusion_matrix(y_true,y_pred))\n",
    "print(\"Precision Score : \",precision_score(y_true, y_pred, pos_label='positive',average='micro'))\n",
    "print(\"Recall Score : \",recall_score(y_true, y_pred, pos_label='positive',average='micro'))\n",
    "print('classification_report :\\n',classification_report(y_true,y_pred))"
   ]
  },
  {
   "cell_type": "code",
   "execution_count": null,
   "metadata": {},
   "outputs": [],
   "source": [
    "plt.figure(figsize=(25,25))\n",
    "randomlist = random.sample(range(0, 6255), 25)\n",
    "index_list = 0\n",
    "for i in range(0+228, 25+228):\n",
    "        plt.subplot(5, 5, (i-228)+1)\n",
    "        index = np.argmax(predict_x[randomlist[index_list]],axis=0)\n",
    "        out = str(predict_x[randomlist[index_list]][index]*100)[:4] + ' probability of being '+idx2label_dict[y_pred[randomlist[index_list]]]+' case'\n",
    "        plt.title(out+\"\\n Actual case : \"+ idx2label_dict.get(y_true[randomlist[index_list]]))    \n",
    "        plt.imshow(np.squeeze(testRgb[randomlist[index_list]][0]))\n",
    "        plt.axis('off')\n",
    "        index_list = index_list + 1\n",
    "plt.show()"
   ]
  },
  {
   "cell_type": "code",
   "execution_count": null,
   "metadata": {},
   "outputs": [],
   "source": [
    "img = cv2.imread('../input/testtest/index.jpg')\n",
    "img = cv2.resize(img,dsize=(224,224),interpolation=cv2.INTER_CUBIC)\n",
    "gray = cv2.cvtColor(img, cv2.COLOR_BGR2RGB)\n",
    "input_arr = tf.keras.preprocessing.image.img_to_array(gray)\n",
    "input_arr = np.array([input_arr]) \n",
    "input_arr = input_arr.astype('float32') / 255.  \n",
    "predictions = model_MobileNet.predict(input_arr)\n",
    "print(np.argmax(predictions,axis=1)   ,predictions)\n",
    "print(np.argmax(predictions,axis=1)   ,predictions[0]*100)\n",
    "print(np.argmax(predictions,axis=1)   ,predictions[0][1]*100)"
   ]
  },
  {
   "cell_type": "markdown",
   "metadata": {},
   "source": [
    "<a id='tensor'></a>\n",
    "## Convert Model Keras To TensorFlow"
   ]
  },
  {
   "cell_type": "code",
   "execution_count": null,
   "metadata": {},
   "outputs": [],
   "source": [
    "from tensorflow import keras\n",
    "from tensorflow import lite\n",
    "saved_model_dir = '././model_VGG16.h5'\n",
    "model = keras.models.load_model(saved_model_dir)\n",
    "converter = lite.TFLiteConverter.from_keras_model(model)\n",
    "tflite_model = converter.convert()\n",
    "open(\"./model_VGG16.tflite\",\"wb\").write(tflite_model)"
   ]
  },
  {
   "cell_type": "code",
   "execution_count": null,
   "metadata": {},
   "outputs": [],
   "source": [
    "import tensorflow as tf\n",
    "\n",
    "interpreter = tf.lite.Interpreter(model_path=\"./model_VGG16.tflite\")\n",
    "interpreter.allocate_tensors()\n",
    "\n",
    "# Print input shape and type\n",
    "inputs = interpreter.get_input_details()\n",
    "print('{} input(s):'.format(len(inputs)))\n",
    "for i in range(0, len(inputs)):\n",
    "    print('{} {}'.format(inputs[i]['shape'], inputs[i]['dtype']))\n",
    "\n",
    "# Print output shape and type\n",
    "outputs = interpreter.get_output_details()\n",
    "print('\\n{} output(s):'.format(len(outputs)))\n",
    "for i in range(0, len(outputs)):\n",
    "    print('{} {}'.format(outputs[i]['shape'], outputs[i]['dtype']))"
   ]
  }
 ],
 "metadata": {
  "kernelspec": {
   "display_name": "Python 3",
   "language": "python",
   "name": "python3"
  },
  "language_info": {
   "codemirror_mode": {
    "name": "ipython",
    "version": 3
   },
   "file_extension": ".py",
   "mimetype": "text/x-python",
   "name": "python",
   "nbconvert_exporter": "python",
   "pygments_lexer": "ipython3",
   "version": "3.7.6"
  }
 },
 "nbformat": 4,
 "nbformat_minor": 4
}
